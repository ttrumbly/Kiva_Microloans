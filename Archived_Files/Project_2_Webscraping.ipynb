{
 "cells": [
  {
   "cell_type": "code",
   "execution_count": 30,
   "metadata": {},
   "outputs": [],
   "source": [
    "from bs4 import BeautifulSoup\n",
    "import requests\n",
    "import datetime\n",
    "import re\n",
    "from pprint import pprint\n",
    "import csv"
   ]
  },
  {
   "cell_type": "code",
   "execution_count": 19,
   "metadata": {},
   "outputs": [],
   "source": [
    "headers = ['loan term', 'repayment schedule', 'disbursment date', \n",
    "           'exchange loss', 'field partner', 'interest', 'risk rating']\n",
    "kiva_info = []"
   ]
  },
  {
   "cell_type": "code",
   "execution_count": 3,
   "metadata": {},
   "outputs": [
    {
     "name": "stdout",
     "output_type": "stream",
     "text": [
      "https://www.kiva.org/lend/1507000\n",
      "https://www.kiva.org/lend/1507001\n",
      "https://www.kiva.org/lend/1507002\n",
      "https://www.kiva.org/lend/1507003\n",
      "https://www.kiva.org/lend/1507004\n",
      "https://www.kiva.org/lend/1507005\n"
     ]
    }
   ],
   "source": [
    "number = 1507000\n",
    "while (number <=1507005):\n",
    "    baseurl = 'https://www.kiva.org/lend/'\n",
    "    url = baseurl + str(number)\n",
    "    print (url)\n",
    "    number+=1\n",
    "#response = requests.get(url, headers={'User-Agent': 'Chrome/65.0'})"
   ]
  },
  {
   "cell_type": "code",
   "execution_count": 10,
   "metadata": {},
   "outputs": [],
   "source": [
    "url = 'https://www.kiva.org/lend/1508098'\n",
    "response = requests.get(url, headers={'User-Agent': 'Chrome/65.0'})"
   ]
  },
  {
   "cell_type": "code",
   "execution_count": null,
   "metadata": {},
   "outputs": [],
   "source": [
    "response.status_code"
   ]
  },
  {
   "cell_type": "code",
   "execution_count": null,
   "metadata": {},
   "outputs": [],
   "source": [
    "print(response.text)"
   ]
  },
  {
   "cell_type": "code",
   "execution_count": 22,
   "metadata": {},
   "outputs": [],
   "source": [
    "page = response.text"
   ]
  },
  {
   "cell_type": "code",
   "execution_count": 23,
   "metadata": {},
   "outputs": [],
   "source": [
    "soup = BeautifulSoup(page, \"lxml\")"
   ]
  },
  {
   "cell_type": "code",
   "execution_count": null,
   "metadata": {},
   "outputs": [],
   "source": [
    "print(soup)"
   ]
  },
  {
   "cell_type": "code",
   "execution_count": null,
   "metadata": {},
   "outputs": [],
   "source": [
    "print (soup.prettify())"
   ]
  },
  {
   "cell_type": "code",
   "execution_count": null,
   "metadata": {},
   "outputs": [],
   "source": [
    "soup.div.prettify()"
   ]
  },
  {
   "cell_type": "code",
   "execution_count": null,
   "metadata": {},
   "outputs": [],
   "source": [
    "for div in soup.find_all('div'):\n",
    "    print(div.prettify())"
   ]
  },
  {
   "cell_type": "code",
   "execution_count": null,
   "metadata": {},
   "outputs": [],
   "source": [
    "#ac-title ac-container\n",
    "#ac-loan-details-body-right.ac-body\n"
   ]
  },
  {
   "cell_type": "code",
   "execution_count": null,
   "metadata": {},
   "outputs": [],
   "source": [
    "for element in soup.find_all(id='ac-loan-details-body-right'):\n",
    "   print(element, '\\n')"
   ]
  },
  {
   "cell_type": "code",
   "execution_count": 24,
   "metadata": {},
   "outputs": [],
   "source": [
    "def funded_percent(soup):\n",
    "    funded = (soup.find(class_='green-bolded inline')).text.strip()[0]\n",
    "    if (funded == 'F'):\n",
    "        return 100\n",
    "    else:\n",
    "        return int(funded)\n"
   ]
  },
  {
   "cell_type": "code",
   "execution_count": null,
   "metadata": {},
   "outputs": [],
   "source": [
    "#funded = funded_percent(soup)\n",
    "#funded"
   ]
  },
  {
   "cell_type": "code",
   "execution_count": 25,
   "metadata": {},
   "outputs": [],
   "source": [
    "funded = funded_percent(soup)\n",
    "\n",
    "loan = (soup.find(class_='loan-total').text.strip())\n",
    "\n",
    "#This gets the str for the length of the loan term.\n",
    "term = (soup.find(id='ac-loan-details-body-right').find(class_='green-bolded').text.strip())\n",
    "\n",
    "#Gets the loan repayment schedule\n",
    "schedule = (soup.find(id='ac-loan-details-body-right').find(id='repayment-schedule').text.strip().split(' ')[-1])\n",
    "\n",
    "#Returns the date the loan was disbersed\n",
    "disbursed = (soup.find(id='ac-loan-details-body-right').find(id='disbursed-date').text.strip().split(' ')[-3:])\n",
    "disbursed = datetime.datetime.strptime(\" \".join(disbursed),\"%B %d, %Y\").date()\n",
    "\n",
    "#Returns currency exchange loss possibility\n",
    "exchange_loss = (soup.find(id='ac-loan-details-body-right').find(id='currency-exchange-loss').text.strip().split(' ')[-1])\n",
    "\n",
    "#Returns name of field partner\n",
    "field_partner = (soup.find(id='ac-loan-details-body-right').find(id='field-partner').text.strip().split(' '))\n",
    "partner = ' '.join(field_partner[0:4]).split(':')[0]\n",
    "field_partner = ' '.join(field_partner[-2:])\n",
    "\n",
    "#Returns if loan recipient is paying interest\n",
    "interest = (soup.find(id='ac-loan-details-body-right').find(id='borrower-paying-interest').text.strip().split(' ')[-1])\n",
    "\n",
    "#Calculates the numeric number of stars representing the risk rating\n",
    "risk_stars = 0\n",
    "for tag in (soup.find(id='ac-loan-details-body-right').find_all(class_='icon icon-star')):\n",
    "    risk_stars+=1\n",
    "for tag in (soup.find(id='ac-loan-details-body-right').find_all(class_='icon icon-half-star')):\n",
    "    risk_stars +=.5\n"
   ]
  },
  {
   "cell_type": "code",
   "execution_count": null,
   "metadata": {},
   "outputs": [],
   "source": []
  },
  {
   "cell_type": "code",
   "execution_count": 26,
   "metadata": {},
   "outputs": [],
   "source": [
    "kiva_dict = dict(zip(headers, [term,\n",
    "                               schedule,\n",
    "                               disbursed,\n",
    "                               exchange_loss,\n",
    "                               [partner,field_partner],\n",
    "                               interest,\n",
    "                               risk_stars]))"
   ]
  },
  {
   "cell_type": "code",
   "execution_count": 27,
   "metadata": {},
   "outputs": [],
   "source": [
    "kiva_info.append(kiva_dict)"
   ]
  },
  {
   "cell_type": "code",
   "execution_count": 28,
   "metadata": {},
   "outputs": [
    {
     "name": "stdout",
     "output_type": "stream",
     "text": [
      "[{'disbursment date': datetime.date(2018, 3, 31),\n",
      "  'exchange loss': 'Possible',\n",
      "  'field partner': ['Facilitated by Field Partner', 'Juhudi Kilimo'],\n",
      "  'interest': 'Yes',\n",
      "  'loan term': '15 months',\n",
      "  'repayment schedule': 'Monthly',\n",
      "  'risk rating': 3.5},\n",
      " {'disbursment date': datetime.date(2018, 3, 22),\n",
      "  'exchange loss': 'Possible',\n",
      "  'field partner': ['Facilitated by Field Partner', 'Juhudi Kilimo'],\n",
      "  'interest': 'Yes',\n",
      "  'loan term': '14 months',\n",
      "  'repayment schedule': 'Monthly',\n",
      "  'risk rating': 3.5}]\n"
     ]
    }
   ],
   "source": [
    "pprint(kiva_info)"
   ]
  },
  {
   "cell_type": "code",
   "execution_count": 29,
   "metadata": {},
   "outputs": [
    {
     "ename": "AttributeError",
     "evalue": "'list' object has no attribute 'to_csv'",
     "output_type": "error",
     "traceback": [
      "\u001b[0;31m---------------------------------------------------------------------------\u001b[0m",
      "\u001b[0;31mAttributeError\u001b[0m                            Traceback (most recent call last)",
      "\u001b[0;32m<ipython-input-29-3ded5ad63166>\u001b[0m in \u001b[0;36m<module>\u001b[0;34m()\u001b[0m\n\u001b[0;32m----> 1\u001b[0;31m \u001b[0mkiva_info\u001b[0m\u001b[0;34m.\u001b[0m\u001b[0mto_csv\u001b[0m\u001b[0;34m(\u001b[0m\u001b[0;34m'testing_kiva.csv'\u001b[0m\u001b[0;34m)\u001b[0m\u001b[0;34m\u001b[0m\u001b[0m\n\u001b[0m",
      "\u001b[0;31mAttributeError\u001b[0m: 'list' object has no attribute 'to_csv'"
     ]
    }
   ],
   "source": [
    "kiva_info.to_csv('testing_kiva.csv')"
   ]
  },
  {
   "cell_type": "code",
   "execution_count": 32,
   "metadata": {},
   "outputs": [],
   "source": [
    "#This does write to a CSV file. I am not 100% sure it writes exactly as I want it to.\n",
    "with open('kiva_1.csv', 'w') as myfile:\n",
    "    wr = csv.writer(myfile, quoting=csv.QUOTE_ALL)\n",
    "    wr.writerow(kiva_info)"
   ]
  },
  {
   "cell_type": "code",
   "execution_count": 48,
   "metadata": {},
   "outputs": [],
   "source": [
    "#close but not quite doing what I would want it to\n",
    "with open('kiva_1.csv', 'r') as myfile:\n",
    "    read = csv.reader(myfile, quoting=csv.QUOTE_ALL)\n",
    "    kiva_2 = {rows[0]:rows[1] for rows in read}"
   ]
  },
  {
   "cell_type": "code",
   "execution_count": 56,
   "metadata": {},
   "outputs": [
    {
     "data": {
      "text/plain": [
       "dict_keys([\"{'loan term': '15 months', 'repayment schedule': 'Monthly', 'disbursment date': datetime.date(2018, 3, 31), 'exchange loss': 'Possible', 'field partner': ['Facilitated by Field Partner', 'Juhudi Kilimo'], 'interest': 'Yes', 'risk rating': 3.5}\"])"
      ]
     },
     "execution_count": 56,
     "metadata": {},
     "output_type": "execute_result"
    }
   ],
   "source": []
  },
  {
   "cell_type": "code",
   "execution_count": 37,
   "metadata": {},
   "outputs": [
    {
     "data": {
      "text/plain": [
       "<_csv.Dialect at 0x108a9ad50>"
      ]
     },
     "execution_count": 37,
     "metadata": {},
     "output_type": "execute_result"
    }
   ],
   "source": []
  },
  {
   "cell_type": "code",
   "execution_count": null,
   "metadata": {},
   "outputs": [],
   "source": []
  }
 ],
 "metadata": {
  "kernelspec": {
   "display_name": "Python 3",
   "language": "python",
   "name": "python3"
  },
  "language_info": {
   "codemirror_mode": {
    "name": "ipython",
    "version": 3
   },
   "file_extension": ".py",
   "mimetype": "text/x-python",
   "name": "python",
   "nbconvert_exporter": "python",
   "pygments_lexer": "ipython3",
   "version": "3.6.4"
  }
 },
 "nbformat": 4,
 "nbformat_minor": 2
}
