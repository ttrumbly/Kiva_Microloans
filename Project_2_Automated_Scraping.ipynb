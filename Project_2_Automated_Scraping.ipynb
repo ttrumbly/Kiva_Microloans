{
 "cells": [
  {
   "cell_type": "code",
   "execution_count": null,
   "metadata": {},
   "outputs": [],
   "source": [
    "from bs4 import BeautifulSoup\n",
    "import requests\n",
    "import datetime\n",
    "import time\n",
    "import pandas as pd\n",
    "import re\n",
    "from pprint import pprint\n",
    "import csv\n",
    "import pickle\n",
    "import json\n",
    "from pprint import pprint"
   ]
  },
  {
   "cell_type": "code",
   "execution_count": null,
   "metadata": {},
   "outputs": [],
   "source": [
    "import matplotlib.pyplot as plt\n",
    "import seaborn as sns\n",
    "%matplotlib inline"
   ]
  },
  {
   "cell_type": "code",
   "execution_count": null,
   "metadata": {},
   "outputs": [],
   "source": [
    "headers = ['loan value', 'funded percent', 'country', 'loan term', 'loan reason', 'repayment schedule', 'disbursment date', \n",
    "           'exchange loss', 'partner agency', 'field partner', 'interest', 'risk rating']\n",
    "kiva_info = []"
   ]
  },
  {
   "cell_type": "code",
   "execution_count": null,
   "metadata": {},
   "outputs": [],
   "source": [
    "#applied for access to the developer api, below is my API ID for repeated calls to the API\n",
    "#app_id = '?ttrumbly.github.com.metis.bootcamp'"
   ]
  },
  {
   "cell_type": "code",
   "execution_count": null,
   "metadata": {},
   "outputs": [],
   "source": [
    "#response = requests.get('http://api.kivaws.org/v1/partners.json?app_id=ttrumbly.github.com.metis.bootcamp')\n",
    "#response.headers"
   ]
  },
  {
   "cell_type": "code",
   "execution_count": null,
   "metadata": {},
   "outputs": [],
   "source": [
    "def pull_data(url):\n",
    "    response = requests.get(url, headers={'User-Agent': 'Chrome/64.0'})\n",
    "    page = response.text\n",
    "    soup = BeautifulSoup(page, \"lxml\")\n",
    "    return soup"
   ]
  },
  {
   "cell_type": "code",
   "execution_count": null,
   "metadata": {},
   "outputs": [],
   "source": [
    "def funded_percent(soup):\n",
    "    try:\n",
    "        funded = (soup.find(class_='green-bolded inline')).text.strip()[0]\n",
    "        if (funded == 'F'):\n",
    "            return 100\n",
    "        else:\n",
    "            return int(funded)\n",
    "    except: pass"
   ]
  },
  {
   "cell_type": "code",
   "execution_count": null,
   "metadata": {},
   "outputs": [],
   "source": [
    "def create_dict(soup):\n",
    "    #This calculates the percent funded (0-100)\n",
    "    funded = funded_percent(soup)\n",
    "    try:\n",
    "        #This calculates the total requested value of the loan\n",
    "        loan = int(soup.find(class_='loan-total').text.strip().split('$')[-1])\n",
    "        \n",
    "        #This gets the str for the length of the loan term.\n",
    "        term = int(soup.find(id='ac-loan-details-body-right').find(class_='green-bolded').text.strip().split(' ')[0])\n",
    "\n",
    "        #This pulls the country\n",
    "        locale = (soup.find('div', class_='country-image columns small-2'))\n",
    "        country = str(locale.find('img')).split()[1].split('\"')[1]\n",
    "        \n",
    "        #Returns the reason for the loan\n",
    "        reason = soup.find(class_='typeName').text.strip()\n",
    "        \n",
    "        #Gets the loan repayment schedule\n",
    "        schedule = (soup.find(id='ac-loan-details-body-right').find(id='repayment-schedule').text.strip().split(' ')[-1])\n",
    "\n",
    "        #Returns the date the loan was disbersed\n",
    "        disbursed = (soup.find(id='ac-loan-details-body-right').find(id='disbursed-date').text.strip().split(' ')[-3:])\n",
    "        disbursed = datetime.datetime.strptime(\" \".join(disbursed),\"%B %d, %Y\").date()\n",
    "\n",
    "        #Returns currency exchange loss possibility\n",
    "        exchange_loss = (soup.find(id='ac-loan-details-body-right').find(id='currency-exchange-loss').text.strip().split(' ')[-1])\n",
    "\n",
    "        #Returns name of field partner\n",
    "        field_partner = (soup.find(id='ac-loan-details-body-right').find(id='field-partner').text.strip().split(' '))\n",
    "        partner = ' '.join(field_partner[0:4]).split(':')[0]\n",
    "        field_partner = ' '.join(field_partner[-2:])\n",
    "\n",
    "        #Returns if loan recipient is paying interest\n",
    "        interest = (soup.find(id='ac-loan-details-body-right').find(id='borrower-paying-interest').text.strip().split(' ')[-1])\n",
    "\n",
    "        #Calculates the numeric number of stars representing the risk rating\n",
    "        risk_stars = 0\n",
    "        for tag in (soup.find(id='ac-loan-details-body-right').find_all(class_='icon icon-star')):\n",
    "            risk_stars+=1\n",
    "        for tag in (soup.find(id='ac-loan-details-body-right').find_all(class_='icon icon-half-star')):\n",
    "            risk_stars +=.5\n",
    "\n",
    "        kiva_dict = dict(zip(headers, [loan,\n",
    "                                       funded,\n",
    "                                       country,\n",
    "                                       term,\n",
    "                                       reason,\n",
    "                                       schedule,\n",
    "                                       disbursed,\n",
    "                                       exchange_loss,\n",
    "                                       partner,\n",
    "                                       field_partner,\n",
    "                                       interest,\n",
    "                                       risk_stars]))\n",
    "        return kiva_dict\n",
    "    except:\n",
    "        pass"
   ]
  },
  {
   "cell_type": "code",
   "execution_count": null,
   "metadata": {},
   "outputs": [],
   "source": [
    "#locale = (soup.find('div', class_='country-image columns small-2'))\n",
    "#country = str(locale.find('img')).split()[1].split('\"')[1]"
   ]
  },
  {
   "cell_type": "code",
   "execution_count": null,
   "metadata": {},
   "outputs": [],
   "source": [
    "#This loop sequentially goes through a series of kiva sites and calls functions to turn the website into a dictionary entry\n",
    "number = 1507304\n",
    "while (number <=1507304):\n",
    "    baseurl = 'https://www.kiva.org/lend/'\n",
    "    url = baseurl + str(number)\n",
    "    print (url)\n",
    "    number+=1\n",
    "    soup = pull_data(url)\n",
    "    kiva_info.append(create_dict(soup))\n",
    "    time.sleep(1)"
   ]
  },
  {
   "cell_type": "code",
   "execution_count": null,
   "metadata": {},
   "outputs": [],
   "source": [
    "#Create a dataframe from the entries scraped that are not 'None' entries.\n",
    "df = pd.DataFrame([x for x in kiva_info if x is not None], columns = headers)"
   ]
  },
  {
   "cell_type": "code",
   "execution_count": null,
   "metadata": {},
   "outputs": [],
   "source": [
    "#Save the dataframe to a pickle for future work\n",
    "df.to_pickle('project2_df.pkl')"
   ]
  },
  {
   "cell_type": "code",
   "execution_count": null,
   "metadata": {},
   "outputs": [],
   "source": [
    "df2= pd.read_pickle('project2_df.pkl')"
   ]
  },
  {
   "cell_type": "code",
   "execution_count": null,
   "metadata": {},
   "outputs": [],
   "source": [
    "from urllib.request import urlopen"
   ]
  },
  {
   "cell_type": "code",
   "execution_count": null,
   "metadata": {},
   "outputs": [],
   "source": [
    "data = json.load(urlopen(json_url))"
   ]
  },
  {
   "cell_type": "code",
   "execution_count": null,
   "metadata": {},
   "outputs": [],
   "source": [
    "df_3 = pd.DataFrame.from_dict(data, orient='index')\n",
    "#df_3 = pd.read_json(urlopen(json_url), orient='columns', typ='frame')"
   ]
  },
  {
   "cell_type": "code",
   "execution_count": null,
   "metadata": {},
   "outputs": [],
   "source": []
  },
  {
   "cell_type": "code",
   "execution_count": null,
   "metadata": {},
   "outputs": [],
   "source": []
  },
  {
   "cell_type": "code",
   "execution_count": null,
   "metadata": {},
   "outputs": [],
   "source": [
    "def pull_data(url):\n",
    "    response = requests.get(url, headers={'User-Agent': 'Chrome/65.0'})\n",
    "    page = response.text\n",
    "    soup = BeautifulSoup(page, \"lxml\")\n",
    "    return soup"
   ]
  },
  {
   "cell_type": "code",
   "execution_count": null,
   "metadata": {},
   "outputs": [],
   "source": [
    "json_url = 'http://api.kivaws.org/v1/loans/1507200.json?ttrumbly.github.com.metis.bootcamp'"
   ]
  },
  {
   "cell_type": "code",
   "execution_count": null,
   "metadata": {},
   "outputs": [],
   "source": []
  },
  {
   "cell_type": "code",
   "execution_count": null,
   "metadata": {},
   "outputs": [],
   "source": [
    "json_file = pull_data(json_url)"
   ]
  },
  {
   "cell_type": "code",
   "execution_count": null,
   "metadata": {},
   "outputs": [],
   "source": [
    "type(json_file)"
   ]
  },
  {
   "cell_type": "code",
   "execution_count": null,
   "metadata": {},
   "outputs": [],
   "source": [
    "data = json.loads(''.join(str(json_file).split('>')[3:-3]))"
   ]
  },
  {
   "cell_type": "code",
   "execution_count": null,
   "metadata": {},
   "outputs": [],
   "source": [
    "number = 1507200\n",
    "\n",
    "while (number <=1507300):\n",
    "    url = baseurl + str(number) + app_id\n",
    "    print (url)\n",
    "    number+=1\n",
    "    soup = pull_data(url)\n",
    "    \n",
    "    kiva_info.append(create_dict(soup))\n",
    "    time.sleep(2)\n",
    "    "
   ]
  },
  {
   "cell_type": "code",
   "execution_count": null,
   "metadata": {},
   "outputs": [],
   "source": []
  },
  {
   "cell_type": "code",
   "execution_count": 1,
   "metadata": {},
   "outputs": [],
   "source": [
    "#Below uses the data directly from kiva's dataset file. Better seen in Project_2_Kiva_Full_Dataset"
   ]
  },
  {
   "cell_type": "code",
   "execution_count": null,
   "metadata": {},
   "outputs": [],
   "source": [
    "kiva = pd.read_csv('/Users/travis/Downloads/kiva_ds_csv/loans.csv')"
   ]
  },
  {
   "cell_type": "code",
   "execution_count": null,
   "metadata": {},
   "outputs": [],
   "source": [
    "kiva.drop(['ORIGINAL_LANGUAGE', 'DESCRIPTION', 'DESCRIPTION_TRANSLATED', 'IMAGE_ID', 'VIDEO_ID', 'TOWN_NAME', 'TAGS', 'BORROWER_NAMES', 'BORROWER_PICTURED', 'LOAN_USE', 'COUNTRY_CODE'], axis=1, inplace=True)"
   ]
  },
  {
   "cell_type": "code",
   "execution_count": null,
   "metadata": {},
   "outputs": [],
   "source": [
    "#kiva.drop(['LOAN_USE', 'COUNTRY_CODE'], axis=1, inplace= True)\n",
    "#kiva.drop(['COUNTRY_CODE'], axis=1, inplace=True)"
   ]
  },
  {
   "cell_type": "code",
   "execution_count": null,
   "metadata": {},
   "outputs": [],
   "source": [
    "kiva.describe()"
   ]
  },
  {
   "cell_type": "code",
   "execution_count": null,
   "metadata": {},
   "outputs": [],
   "source": [
    "kiva.info()"
   ]
  },
  {
   "cell_type": "code",
   "execution_count": null,
   "metadata": {},
   "outputs": [],
   "source": [
    "kiva.sample(50)"
   ]
  },
  {
   "cell_type": "code",
   "execution_count": null,
   "metadata": {},
   "outputs": [],
   "source": [
    "kiva[(kiva['LOAN_AMOUNT'] > kiva['FUNDED_AMOUNT']) & (kiva['DISTRIBUTION_MODEL'] == 'direct')]"
   ]
  },
  {
   "cell_type": "code",
   "execution_count": null,
   "metadata": {},
   "outputs": [],
   "source": [
    "kiva['COUNTRY_NAME'].value_counts()"
   ]
  },
  {
   "cell_type": "code",
   "execution_count": null,
   "metadata": {},
   "outputs": [],
   "source": [
    "f, ax = plt.subplots(figsize=(12,12))\n",
    "sns.countplot(x='COUNTRY_NAME', data=kiva)"
   ]
  },
  {
   "cell_type": "code",
   "execution_count": null,
   "metadata": {},
   "outputs": [],
   "source": [
    "#kiva.to_pickle('kiva.pkl')"
   ]
  },
  {
   "cell_type": "code",
   "execution_count": null,
   "metadata": {},
   "outputs": [],
   "source": []
  },
  {
   "cell_type": "code",
   "execution_count": null,
   "metadata": {},
   "outputs": [],
   "source": []
  },
  {
   "cell_type": "code",
   "execution_count": null,
   "metadata": {},
   "outputs": [],
   "source": []
  },
  {
   "cell_type": "code",
   "execution_count": null,
   "metadata": {},
   "outputs": [],
   "source": []
  }
 ],
 "metadata": {
  "kernelspec": {
   "display_name": "Python 3",
   "language": "python",
   "name": "python3"
  },
  "language_info": {
   "codemirror_mode": {
    "name": "ipython",
    "version": 3
   },
   "file_extension": ".py",
   "mimetype": "text/x-python",
   "name": "python",
   "nbconvert_exporter": "python",
   "pygments_lexer": "ipython3",
   "version": "3.6.4"
  }
 },
 "nbformat": 4,
 "nbformat_minor": 2
}
