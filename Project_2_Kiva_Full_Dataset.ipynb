{
 "cells": [
  {
   "cell_type": "code",
   "execution_count": 1,
   "metadata": {},
   "outputs": [],
   "source": [
    "import requests\n",
    "import datetime\n",
    "import time\n",
    "import pandas as pd\n",
    "import numpy as np\n",
    "import json\n",
    "import re\n",
    "from pprint import pprint\n",
    "import csv\n",
    "import pickle\n",
    "\n",
    "import warnings\n",
    "warnings.filterwarnings('ignore')"
   ]
  },
  {
   "cell_type": "code",
   "execution_count": 2,
   "metadata": {},
   "outputs": [
    {
     "name": "stderr",
     "output_type": "stream",
     "text": [
      "/anaconda3/lib/python3.6/site-packages/sklearn/cross_validation.py:41: DeprecationWarning: This module was deprecated in version 0.18 in favor of the model_selection module into which all the refactored classes and functions are moved. Also note that the interface of the new CV iterators are different from that of this module. This module will be removed in 0.20.\n",
      "  \"This module will be removed in 0.20.\", DeprecationWarning)\n"
     ]
    }
   ],
   "source": [
    "import statsmodels.api as sm\n",
    "import statsmodels.formula.api as smf\n",
    "import patsy\n",
    "from textatistic import Textatistic\n",
    "from textblob import TextBlob\n",
    "from scipy import stats\n",
    "from scipy.special import inv_boxcox\n",
    "\n",
    "from sklearn.linear_model import LinearRegression\n",
    "from sklearn.linear_model import RidgeCV\n",
    "from sklearn import metrics\n",
    "from sklearn.preprocessing import PolynomialFeatures\n",
    "from sklearn.pipeline import make_pipeline\n",
    "from sklearn.pipeline import Pipeline\n",
    "from sklearn import cross_validation\n",
    "from sklearn.cross_validation import train_test_split\n",
    "from sklearn.cross_validation import KFold\n",
    "from sklearn.cross_validation import cross_val_score\n",
    "from sklearn.linear_model import LassoCV\n",
    "from sklearn.linear_model import RidgeCV\n",
    "from sklearn.linear_model import ElasticNetCV\n",
    "from sklearn.linear_model import ElasticNet\n",
    "from sklearn.linear_model import Lasso"
   ]
  },
  {
   "cell_type": "code",
   "execution_count": 3,
   "metadata": {},
   "outputs": [
    {
     "data": {
      "text/html": [
       "<script>requirejs.config({paths: { 'plotly': ['https://cdn.plot.ly/plotly-latest.min']},});if(!window.Plotly) {{require(['plotly'],function(plotly) {window.Plotly=plotly;});}}</script>"
      ],
      "text/vnd.plotly.v1+html": [
       "<script>requirejs.config({paths: { 'plotly': ['https://cdn.plot.ly/plotly-latest.min']},});if(!window.Plotly) {{require(['plotly'],function(plotly) {window.Plotly=plotly;});}}</script>"
      ]
     },
     "metadata": {},
     "output_type": "display_data"
    }
   ],
   "source": [
    "import matplotlib.pyplot as plt\n",
    "import seaborn as sns\n",
    "import plotly.graph_objs as go \n",
    "from plotly.offline import init_notebook_mode,iplot\n",
    "init_notebook_mode(connected=True) \n",
    "%matplotlib inline\n",
    "sns.set_style(style='darkgrid')\n",
    "plt.rcParams[\"patch.force_edgecolor\"]=True"
   ]
  },
  {
   "cell_type": "markdown",
   "metadata": {},
   "source": [
    "# Import and clean full kiva dataset"
   ]
  },
  {
   "cell_type": "code",
   "execution_count": null,
   "metadata": {},
   "outputs": [],
   "source": [
    "#read in the large 1.4 million entry csv file.\n",
    "#kiva_big = pd.read_csv('/Users/travis/Downloads/kiva_ds_csv/loans.csv')\n"
   ]
  },
  {
   "cell_type": "code",
   "execution_count": null,
   "metadata": {},
   "outputs": [],
   "source": [
    "#find places without a translated description and copy over the original so I can drop the description column\n",
    "kiva_big.DESCRIPTION_TRANSLATED.fillna(kiva_big.DESCRIPTION, inplace=True)"
   ]
  },
  {
   "cell_type": "code",
   "execution_count": null,
   "metadata": {},
   "outputs": [],
   "source": [
    "#Drop rows where there is no description\n",
    "kiva_big.dropna(axis=0, how='any', subset=['DESCRIPTION'], inplace=True)"
   ]
  },
  {
   "cell_type": "code",
   "execution_count": null,
   "metadata": {},
   "outputs": [],
   "source": [
    "kiva_big.drop(['LOAN_NAME', 'DESCRIPTION', 'NUM_JOURNAL_ENTRIES',\n",
    "               'NUM_BULK_ENTRIES', 'LOAN_USE','BORROWER_NAMES',\n",
    "               'BORROWER_PICTURED','VIDEO_ID'],\n",
    "             axis=1,\n",
    "             inplace=True)\n",
    "\n",
    "kiva_big.drop(['CURRENCY'], axis=1, inplace=True)\n",
    "\n",
    "kiva_big.drop(['CURRENCY_EXCHANGE_COVERAGE_RATE'], axis=1, inplace=True)\n",
    "\n",
    "kiva_big.drop(['COUNTRY_CODE'], axis=1, inplace=True)\n",
    "\n",
    "kiva_big.drop(['NUM_LENDERS_TOTAL'], axis=1, inplace=True)\n",
    "\n",
    "kiva_big.drop(['ACTIVITY_NAME'], axis=1, inplace=True)"
   ]
  },
  {
   "cell_type": "code",
   "execution_count": null,
   "metadata": {},
   "outputs": [],
   "source": [
    "#this gives me percent of rows that have 'TAGS' as null. 55%, keeping this column, can turn into categorical (either yes/no) and use for testing\n",
    "kiva_big['TAGS'].isnull().mean()"
   ]
  },
  {
   "cell_type": "code",
   "execution_count": null,
   "metadata": {},
   "outputs": [],
   "source": [
    "kiva_big['PARTNER_ID']"
   ]
  },
  {
   "cell_type": "code",
   "execution_count": null,
   "metadata": {},
   "outputs": [],
   "source": [
    "#Export this dataset to a pkl file\n",
    "#kiva_big.to_pickle('kiva_full.pkl')"
   ]
  },
  {
   "cell_type": "code",
   "execution_count": 4,
   "metadata": {},
   "outputs": [],
   "source": [
    "kiva_big = pd.read_pickle('kiva_full.pkl')"
   ]
  },
  {
   "cell_type": "markdown",
   "metadata": {},
   "source": [
    "# Map the entire dataset of loans that were funded"
   ]
  },
  {
   "cell_type": "code",
   "execution_count": 51,
   "metadata": {},
   "outputs": [],
   "source": [
    "kiva_funded = kiva_big[kiva_big['STATUS'] == 'funded']"
   ]
  },
  {
   "cell_type": "code",
   "execution_count": 52,
   "metadata": {},
   "outputs": [],
   "source": [
    "#create a plotly choropleth map of countries and the number of loans individuals there received \n",
    "counts = kiva_funded.COUNTRY_NAME.value_counts().reset_index()\n",
    "\n",
    "counts.columns=['COUNTRY_NAME', 'COUNT']\n",
    "\n",
    "counts['log_count'] = np.log(counts['COUNT'])\n",
    "\n",
    "data = dict(type = 'choropleth',\n",
    "             colorscale = 'Viridis',\n",
    "            reversescale = True,\n",
    "             locations = counts['COUNTRY_NAME'],\n",
    "             locationmode = \"country names\",\n",
    "             z = counts['log_count'],\n",
    "             text = counts['COUNT'],\n",
    "             colorbar = {'title':'Scaled Frequency'})"
   ]
  },
  {
   "cell_type": "code",
   "execution_count": 53,
   "metadata": {},
   "outputs": [
    {
     "data": {
      "application/vnd.plotly.v1+json": {
       "data": [
        {
         "colorbar": {
          "title": "Scaled Frequency"
         },
         "colorscale": "Viridis",
         "locationmode": "country names",
         "locations": [
          "Philippines",
          "Kenya",
          "Peru",
          "Cambodia",
          "El Salvador",
          "Pakistan",
          "Uganda",
          "Tajikistan",
          "Nicaragua",
          "Ecuador",
          "Colombia",
          "Paraguay",
          "Bolivia",
          "Vietnam",
          "Ghana",
          "Nigeria",
          "Lebanon",
          "Mexico",
          "Samoa",
          "Rwanda",
          "Togo",
          "India",
          "Tanzania",
          "Honduras",
          "Sierra Leone",
          "Mali",
          "Palestine",
          "Guatemala",
          "Senegal",
          "Armenia",
          "Liberia",
          "Kyrgyzstan",
          "Indonesia",
          "Azerbaijan",
          "Jordan",
          "Mongolia",
          "Mozambique",
          "Georgia",
          "United States",
          "South Sudan",
          "Benin",
          "Zimbabwe",
          "The Democratic Republic of the Congo",
          "Madagascar",
          "Ukraine",
          "Cameroon",
          "Haiti",
          "Costa Rica",
          "Dominican Republic",
          "Timor-Leste",
          "Burkina Faso",
          "Yemen",
          "Iraq",
          "Albania",
          "Egypt",
          "Myanmar (Burma)",
          "Nepal",
          "Turkey",
          "Kosovo",
          "Afghanistan",
          "Malawi",
          "Burundi",
          "Lao People's Democratic Republic",
          "Zambia",
          "Congo",
          "Solomon Islands",
          "Chile",
          "Moldova",
          "Lesotho",
          "South Africa",
          "Bosnia and Herzegovina",
          "Brazil",
          "Israel",
          "Bulgaria",
          "Suriname",
          "Cote D'Ivoire",
          "Thailand",
          "Sri Lanka",
          "Panama",
          "Somalia",
          "Belize",
          "China",
          "Puerto Rico",
          "Saint Vincent and the Grenadines",
          "Namibia",
          "Guam",
          "Mauritania",
          "Uruguay",
          "Bhutan",
          "Papua New Guinea",
          "Canada"
         ],
         "reversescale": true,
         "text": [
          279599,
          126291,
          82781,
          78046,
          53751,
          42001,
          41533,
          40065,
          39359,
          31259,
          26382,
          24114,
          22932,
          20784,
          20351,
          18845,
          18619,
          18305,
          15512,
          15391,
          14908,
          14704,
          14256,
          14221,
          14170,
          12817,
          11952,
          11801,
          11467,
          11239,
          10371,
          10322,
          9868,
          9144,
          8680,
          8629,
          6616,
          5976,
          5922,
          5531,
          5413,
          5253,
          4857,
          4855,
          4834,
          4761,
          4531,
          4407,
          3965,
          3554,
          3438,
          3250,
          3191,
          2661,
          2365,
          2302,
          2206,
          2005,
          1853,
          1684,
          1674,
          1506,
          1422,
          1105,
          945,
          890,
          873,
          666,
          638,
          625,
          576,
          417,
          396,
          289,
          265,
          250,
          242,
          196,
          188,
          187,
          171,
          133,
          60,
          16,
          9,
          2,
          1,
          1,
          1,
          1,
          1
         ],
         "type": "choropleth",
         "z": [
          12.541111712797486,
          11.746344046892183,
          11.32395384544237,
          11.265053675431062,
          10.892117550468008,
          10.645448706505872,
          10.634243570952991,
          10.598258414212172,
          10.580479944339373,
          10.350062613700509,
          10.180437238408865,
          10.090547863677257,
          10.040288594028274,
          9.94193873891038,
          9.920885329712549,
          9.844002905701236,
          9.831937843696052,
          9.814929525554337,
          9.649369196922487,
          9.641538201979953,
          9.60965326059915,
          9.595874844595468,
          9.56493314971059,
          9.562475024372697,
          9.558882332684727,
          9.458527693729824,
          9.388653907372598,
          9.375939552625749,
          9.347228624038305,
          9.327145151518268,
          9.246768728589734,
          9.242032818708672,
          9.197052477649247,
          9.120853205474647,
          9.068776807654396,
          9.062883902508307,
          8.797246236703527,
          8.695506726812653,
          8.686429508661536,
          8.618123909994678,
          8.596558746796978,
          8.566554620953962,
          8.488176242345745,
          8.487764380725425,
          8.483429561263428,
          8.46821300919452,
          8.418697944667139,
          8.390949464841986,
          8.285261134068948,
          8.175829008714597,
          8.142645185942795,
          8.086410275323782,
          8.068089626278244,
          7.886457270977689,
          7.768533300926033,
          7.741533589281828,
          7.698936199813447,
          7.60339933974067,
          7.52456122628536,
          7.428927194802272,
          7.422971251049421,
          7.317212408359839,
          7.259819610363186,
          7.007600613951853,
          6.851184927493743,
          6.7912214627261855,
          6.771935555839602,
          6.501289670540389,
          6.45833828334479,
          6.437751649736401,
          6.3561076606958915,
          6.0330862217988015,
          5.981414211254481,
          5.666426688112432,
          5.579729825986222,
          5.521460917862246,
          5.488937726156687,
          5.278114659230517,
          5.236441962829949,
          5.231108616854587,
          5.14166355650266,
          4.890349128221754,
          4.0943445622221,
          2.772588722239781,
          2.1972245773362196,
          0.6931471805599453,
          0,
          0,
          0,
          0,
          0
         ]
        }
       ],
       "layout": {
        "geo": {
         "projection": {
          "type": "equirectangular"
         },
         "showframe": false
        },
        "title": "Kiva Loan Frequency Data"
       }
      },
      "text/html": [
       "<div id=\"ebb99e1a-cf1e-4e57-9c8f-b09afde0a2e9\" style=\"height: 525px; width: 100%;\" class=\"plotly-graph-div\"></div><script type=\"text/javascript\">require([\"plotly\"], function(Plotly) { window.PLOTLYENV=window.PLOTLYENV || {};window.PLOTLYENV.BASE_URL=\"https://plot.ly\";Plotly.newPlot(\"ebb99e1a-cf1e-4e57-9c8f-b09afde0a2e9\", [{\"type\": \"choropleth\", \"colorscale\": \"Viridis\", \"reversescale\": true, \"locations\": [\"Philippines\", \"Kenya\", \"Peru\", \"Cambodia\", \"El Salvador\", \"Pakistan\", \"Uganda\", \"Tajikistan\", \"Nicaragua\", \"Ecuador\", \"Colombia\", \"Paraguay\", \"Bolivia\", \"Vietnam\", \"Ghana\", \"Nigeria\", \"Lebanon\", \"Mexico\", \"Samoa\", \"Rwanda\", \"Togo\", \"India\", \"Tanzania\", \"Honduras\", \"Sierra Leone\", \"Mali\", \"Palestine\", \"Guatemala\", \"Senegal\", \"Armenia\", \"Liberia\", \"Kyrgyzstan\", \"Indonesia\", \"Azerbaijan\", \"Jordan\", \"Mongolia\", \"Mozambique\", \"Georgia\", \"United States\", \"South Sudan\", \"Benin\", \"Zimbabwe\", \"The Democratic Republic of the Congo\", \"Madagascar\", \"Ukraine\", \"Cameroon\", \"Haiti\", \"Costa Rica\", \"Dominican Republic\", \"Timor-Leste\", \"Burkina Faso\", \"Yemen\", \"Iraq\", \"Albania\", \"Egypt\", \"Myanmar (Burma)\", \"Nepal\", \"Turkey\", \"Kosovo\", \"Afghanistan\", \"Malawi\", \"Burundi\", \"Lao People's Democratic Republic\", \"Zambia\", \"Congo\", \"Solomon Islands\", \"Chile\", \"Moldova\", \"Lesotho\", \"South Africa\", \"Bosnia and Herzegovina\", \"Brazil\", \"Israel\", \"Bulgaria\", \"Suriname\", \"Cote D'Ivoire\", \"Thailand\", \"Sri Lanka\", \"Panama\", \"Somalia\", \"Belize\", \"China\", \"Puerto Rico\", \"Saint Vincent and the Grenadines\", \"Namibia\", \"Guam\", \"Mauritania\", \"Uruguay\", \"Bhutan\", \"Papua New Guinea\", \"Canada\"], \"locationmode\": \"country names\", \"z\": [12.541111712797486, 11.746344046892183, 11.32395384544237, 11.265053675431062, 10.892117550468008, 10.645448706505872, 10.634243570952991, 10.598258414212172, 10.580479944339373, 10.350062613700509, 10.180437238408865, 10.090547863677257, 10.040288594028274, 9.94193873891038, 9.920885329712549, 9.844002905701236, 9.831937843696052, 9.814929525554337, 9.649369196922487, 9.641538201979953, 9.60965326059915, 9.595874844595468, 9.56493314971059, 9.562475024372697, 9.558882332684727, 9.458527693729824, 9.388653907372598, 9.375939552625749, 9.347228624038305, 9.327145151518268, 9.246768728589734, 9.242032818708672, 9.197052477649247, 9.120853205474647, 9.068776807654396, 9.062883902508307, 8.797246236703527, 8.695506726812653, 8.686429508661536, 8.618123909994678, 8.596558746796978, 8.566554620953962, 8.488176242345745, 8.487764380725425, 8.483429561263428, 8.46821300919452, 8.418697944667139, 8.390949464841986, 8.285261134068948, 8.175829008714597, 8.142645185942795, 8.086410275323782, 8.068089626278244, 7.886457270977689, 7.768533300926033, 7.741533589281828, 7.698936199813447, 7.60339933974067, 7.52456122628536, 7.428927194802272, 7.422971251049421, 7.317212408359839, 7.259819610363186, 7.007600613951853, 6.851184927493743, 6.7912214627261855, 6.771935555839602, 6.501289670540389, 6.45833828334479, 6.437751649736401, 6.3561076606958915, 6.0330862217988015, 5.981414211254481, 5.666426688112432, 5.579729825986222, 5.521460917862246, 5.488937726156687, 5.278114659230517, 5.236441962829949, 5.231108616854587, 5.14166355650266, 4.890349128221754, 4.0943445622221, 2.772588722239781, 2.1972245773362196, 0.6931471805599453, 0.0, 0.0, 0.0, 0.0, 0.0], \"text\": [279599, 126291, 82781, 78046, 53751, 42001, 41533, 40065, 39359, 31259, 26382, 24114, 22932, 20784, 20351, 18845, 18619, 18305, 15512, 15391, 14908, 14704, 14256, 14221, 14170, 12817, 11952, 11801, 11467, 11239, 10371, 10322, 9868, 9144, 8680, 8629, 6616, 5976, 5922, 5531, 5413, 5253, 4857, 4855, 4834, 4761, 4531, 4407, 3965, 3554, 3438, 3250, 3191, 2661, 2365, 2302, 2206, 2005, 1853, 1684, 1674, 1506, 1422, 1105, 945, 890, 873, 666, 638, 625, 576, 417, 396, 289, 265, 250, 242, 196, 188, 187, 171, 133, 60, 16, 9, 2, 1, 1, 1, 1, 1], \"colorbar\": {\"title\": \"Scaled Frequency\"}}], {\"title\": \"Kiva Loan Frequency Data\", \"geo\": {\"showframe\": false, \"projection\": {\"type\": \"equirectangular\"}}}, {\"showLink\": true, \"linkText\": \"Export to plot.ly\"})});</script>"
      ],
      "text/vnd.plotly.v1+html": [
       "<div id=\"ebb99e1a-cf1e-4e57-9c8f-b09afde0a2e9\" style=\"height: 525px; width: 100%;\" class=\"plotly-graph-div\"></div><script type=\"text/javascript\">require([\"plotly\"], function(Plotly) { window.PLOTLYENV=window.PLOTLYENV || {};window.PLOTLYENV.BASE_URL=\"https://plot.ly\";Plotly.newPlot(\"ebb99e1a-cf1e-4e57-9c8f-b09afde0a2e9\", [{\"type\": \"choropleth\", \"colorscale\": \"Viridis\", \"reversescale\": true, \"locations\": [\"Philippines\", \"Kenya\", \"Peru\", \"Cambodia\", \"El Salvador\", \"Pakistan\", \"Uganda\", \"Tajikistan\", \"Nicaragua\", \"Ecuador\", \"Colombia\", \"Paraguay\", \"Bolivia\", \"Vietnam\", \"Ghana\", \"Nigeria\", \"Lebanon\", \"Mexico\", \"Samoa\", \"Rwanda\", \"Togo\", \"India\", \"Tanzania\", \"Honduras\", \"Sierra Leone\", \"Mali\", \"Palestine\", \"Guatemala\", \"Senegal\", \"Armenia\", \"Liberia\", \"Kyrgyzstan\", \"Indonesia\", \"Azerbaijan\", \"Jordan\", \"Mongolia\", \"Mozambique\", \"Georgia\", \"United States\", \"South Sudan\", \"Benin\", \"Zimbabwe\", \"The Democratic Republic of the Congo\", \"Madagascar\", \"Ukraine\", \"Cameroon\", \"Haiti\", \"Costa Rica\", \"Dominican Republic\", \"Timor-Leste\", \"Burkina Faso\", \"Yemen\", \"Iraq\", \"Albania\", \"Egypt\", \"Myanmar (Burma)\", \"Nepal\", \"Turkey\", \"Kosovo\", \"Afghanistan\", \"Malawi\", \"Burundi\", \"Lao People's Democratic Republic\", \"Zambia\", \"Congo\", \"Solomon Islands\", \"Chile\", \"Moldova\", \"Lesotho\", \"South Africa\", \"Bosnia and Herzegovina\", \"Brazil\", \"Israel\", \"Bulgaria\", \"Suriname\", \"Cote D'Ivoire\", \"Thailand\", \"Sri Lanka\", \"Panama\", \"Somalia\", \"Belize\", \"China\", \"Puerto Rico\", \"Saint Vincent and the Grenadines\", \"Namibia\", \"Guam\", \"Mauritania\", \"Uruguay\", \"Bhutan\", \"Papua New Guinea\", \"Canada\"], \"locationmode\": \"country names\", \"z\": [12.541111712797486, 11.746344046892183, 11.32395384544237, 11.265053675431062, 10.892117550468008, 10.645448706505872, 10.634243570952991, 10.598258414212172, 10.580479944339373, 10.350062613700509, 10.180437238408865, 10.090547863677257, 10.040288594028274, 9.94193873891038, 9.920885329712549, 9.844002905701236, 9.831937843696052, 9.814929525554337, 9.649369196922487, 9.641538201979953, 9.60965326059915, 9.595874844595468, 9.56493314971059, 9.562475024372697, 9.558882332684727, 9.458527693729824, 9.388653907372598, 9.375939552625749, 9.347228624038305, 9.327145151518268, 9.246768728589734, 9.242032818708672, 9.197052477649247, 9.120853205474647, 9.068776807654396, 9.062883902508307, 8.797246236703527, 8.695506726812653, 8.686429508661536, 8.618123909994678, 8.596558746796978, 8.566554620953962, 8.488176242345745, 8.487764380725425, 8.483429561263428, 8.46821300919452, 8.418697944667139, 8.390949464841986, 8.285261134068948, 8.175829008714597, 8.142645185942795, 8.086410275323782, 8.068089626278244, 7.886457270977689, 7.768533300926033, 7.741533589281828, 7.698936199813447, 7.60339933974067, 7.52456122628536, 7.428927194802272, 7.422971251049421, 7.317212408359839, 7.259819610363186, 7.007600613951853, 6.851184927493743, 6.7912214627261855, 6.771935555839602, 6.501289670540389, 6.45833828334479, 6.437751649736401, 6.3561076606958915, 6.0330862217988015, 5.981414211254481, 5.666426688112432, 5.579729825986222, 5.521460917862246, 5.488937726156687, 5.278114659230517, 5.236441962829949, 5.231108616854587, 5.14166355650266, 4.890349128221754, 4.0943445622221, 2.772588722239781, 2.1972245773362196, 0.6931471805599453, 0.0, 0.0, 0.0, 0.0, 0.0], \"text\": [279599, 126291, 82781, 78046, 53751, 42001, 41533, 40065, 39359, 31259, 26382, 24114, 22932, 20784, 20351, 18845, 18619, 18305, 15512, 15391, 14908, 14704, 14256, 14221, 14170, 12817, 11952, 11801, 11467, 11239, 10371, 10322, 9868, 9144, 8680, 8629, 6616, 5976, 5922, 5531, 5413, 5253, 4857, 4855, 4834, 4761, 4531, 4407, 3965, 3554, 3438, 3250, 3191, 2661, 2365, 2302, 2206, 2005, 1853, 1684, 1674, 1506, 1422, 1105, 945, 890, 873, 666, 638, 625, 576, 417, 396, 289, 265, 250, 242, 196, 188, 187, 171, 133, 60, 16, 9, 2, 1, 1, 1, 1, 1], \"colorbar\": {\"title\": \"Scaled Frequency\"}}], {\"title\": \"Kiva Loan Frequency Data\", \"geo\": {\"showframe\": false, \"projection\": {\"type\": \"equirectangular\"}}}, {\"showLink\": true, \"linkText\": \"Export to plot.ly\"})});</script>"
      ]
     },
     "metadata": {},
     "output_type": "display_data"
    }
   ],
   "source": [
    "layout = dict(title = 'Kiva Loan Frequency Data',\n",
    "             geo = dict(showframe = False,\n",
    "                       projection = {'type':'equirectangular'}))\n",
    "choromap = go.Figure(data = [data],layout = layout)\n",
    "iplot(choromap,validate=False)"
   ]
  },
  {
   "cell_type": "code",
   "execution_count": 54,
   "metadata": {},
   "outputs": [
    {
     "data": {
      "text/plain": [
       "Philippines                         279599\n",
       "Kenya                               126291\n",
       "Peru                                 82781\n",
       "Cambodia                             78046\n",
       "El Salvador                          53751\n",
       "Pakistan                             42001\n",
       "Uganda                               41533\n",
       "Tajikistan                           40065\n",
       "Nicaragua                            39359\n",
       "Ecuador                              31259\n",
       "Colombia                             26382\n",
       "Paraguay                             24114\n",
       "Bolivia                              22932\n",
       "Vietnam                              20784\n",
       "Ghana                                20351\n",
       "Nigeria                              18845\n",
       "Lebanon                              18619\n",
       "Mexico                               18305\n",
       "Samoa                                15512\n",
       "Rwanda                               15391\n",
       "Togo                                 14908\n",
       "India                                14704\n",
       "Tanzania                             14256\n",
       "Honduras                             14221\n",
       "Sierra Leone                         14170\n",
       "Mali                                 12817\n",
       "Palestine                            11952\n",
       "Guatemala                            11801\n",
       "Senegal                              11467\n",
       "Armenia                              11239\n",
       "                                     ...  \n",
       "Burundi                               1506\n",
       "Lao People's Democratic Republic      1422\n",
       "Zambia                                1105\n",
       "Congo                                  945\n",
       "Solomon Islands                        890\n",
       "Chile                                  873\n",
       "Moldova                                666\n",
       "Lesotho                                638\n",
       "South Africa                           625\n",
       "Bosnia and Herzegovina                 576\n",
       "Brazil                                 417\n",
       "Israel                                 396\n",
       "Bulgaria                               289\n",
       "Suriname                               265\n",
       "Cote D'Ivoire                          250\n",
       "Thailand                               242\n",
       "Sri Lanka                              196\n",
       "Panama                                 188\n",
       "Somalia                                187\n",
       "Belize                                 171\n",
       "China                                  133\n",
       "Puerto Rico                             60\n",
       "Saint Vincent and the Grenadines        16\n",
       "Namibia                                  9\n",
       "Guam                                     2\n",
       "Mauritania                               1\n",
       "Uruguay                                  1\n",
       "Bhutan                                   1\n",
       "Papua New Guinea                         1\n",
       "Canada                                   1\n",
       "Name: COUNTRY_NAME, Length: 91, dtype: int64"
      ]
     },
     "execution_count": 54,
     "metadata": {},
     "output_type": "execute_result"
    }
   ],
   "source": [
    "kiva_funded['COUNTRY_NAME'].value_counts()"
   ]
  },
  {
   "cell_type": "markdown",
   "metadata": {},
   "source": [
    "# Create a sample dataset of 50k entries & standardize"
   ]
  },
  {
   "cell_type": "code",
   "execution_count": null,
   "metadata": {},
   "outputs": [],
   "source": [
    "kiva = kiva_big.sample(50000)"
   ]
  },
  {
   "cell_type": "code",
   "execution_count": null,
   "metadata": {},
   "outputs": [],
   "source": [
    "kiva = kiva.reset_index()"
   ]
  },
  {
   "cell_type": "code",
   "execution_count": null,
   "metadata": {},
   "outputs": [],
   "source": [
    "kiva.drop('index', axis=1, inplace=True)"
   ]
  },
  {
   "cell_type": "code",
   "execution_count": null,
   "metadata": {},
   "outputs": [],
   "source": [
    "kiva['DISBURSE_TIME'] = pd.to_datetime(kiva['DISBURSE_TIME'])\n",
    "kiva['PLANNED_EXPIRATION_TIME'] = pd.to_datetime(kiva['PLANNED_EXPIRATION_TIME'])\n",
    "kiva['RAISED_TIME'] = pd.to_datetime(kiva['RAISED_TIME'])\n",
    "kiva['POSTED_TIME'] = pd.to_datetime(kiva['POSTED_TIME'])"
   ]
  },
  {
   "cell_type": "code",
   "execution_count": null,
   "metadata": {},
   "outputs": [],
   "source": [
    "kiva['TIME_DELTA'] = kiva['RAISED_TIME'] - kiva['POSTED_TIME']"
   ]
  },
  {
   "cell_type": "code",
   "execution_count": null,
   "metadata": {},
   "outputs": [],
   "source": [
    "#run to create a days column of number of days it takes a project to get funding.\n",
    "kiva['DAYS_TO_FUND'] = kiva['TIME_DELTA']/np.timedelta64(1,'D')"
   ]
  },
  {
   "cell_type": "code",
   "execution_count": null,
   "metadata": {},
   "outputs": [],
   "source": [
    "#ensure that the timedelta for Days is a value greater than 0\n",
    "def cleanDays(row):\n",
    "    a = row.DAYS_TO_FUND\n",
    "    if a<0:\n",
    "        return np.nan\n",
    "    else:\n",
    "        return a"
   ]
  },
  {
   "cell_type": "code",
   "execution_count": null,
   "metadata": {},
   "outputs": [],
   "source": [
    "#apply the function cleanDays to the dataframe reassigning negative values to nan. Time must pass forward!\n",
    "#run when first creating the days column\n",
    "kiva['DAYS_TO_FUND'] = kiva.apply(cleanDays, axis=1)"
   ]
  },
  {
   "cell_type": "code",
   "execution_count": null,
   "metadata": {},
   "outputs": [],
   "source": [
    "#I found errors in the date posted column, that come with the initial csv.\n",
    "#I cannot identify those without searching 1x1. but kiva has an upper limit on funding periods\n",
    "#So anything beyond 60 days I set to nan to catch those errors (less than .5% of this sample is effected)\n",
    "#This is not guaranteed to catch all errors of this type, but it catches many\n",
    "#if length of time to get funding is more than 60 days, convert to nan\n",
    "kiva['DAYS_TO_FUND'][kiva['DAYS_TO_FUND'] >=60] = np.nan"
   ]
  },
  {
   "cell_type": "code",
   "execution_count": null,
   "metadata": {},
   "outputs": [],
   "source": [
    "#create columnns of number of female borrowers and male borrowers per loan and total number of borrowers\n",
    "kiva['FEMALE_BORROWERS'] = kiva['BORROWER_GENDERS'].str.title().str.count('Female')\n",
    "kiva['MALE_BORROWERS'] = kiva['BORROWER_GENDERS'].str.title().str.count('Male')\n",
    "kiva['BORROWERS_TOTAL'] = kiva['FEMALE_BORROWERS'] + kiva['MALE_BORROWERS']\n",
    "kiva['PRIMARY_GENDER'] = kiva['FEMALE_BORROWERS'] - kiva['MALE_BORROWERS']"
   ]
  },
  {
   "cell_type": "code",
   "execution_count": null,
   "metadata": {},
   "outputs": [],
   "source": [
    "#Extracts the year from the year the loan request was posted\n",
    "kiva['YEAR'] = kiva['POSTED_TIME'].dt.year"
   ]
  },
  {
   "cell_type": "code",
   "execution_count": null,
   "metadata": {},
   "outputs": [],
   "source": [
    "#Create a column of the month posted, to see if things fund faster in different times of year\n",
    "kiva['MONTH'] = kiva['POSTED_TIME'].dt.month"
   ]
  },
  {
   "cell_type": "code",
   "execution_count": null,
   "metadata": {},
   "outputs": [],
   "source": [
    "#Set Primary gender to 1 if there are more female borrowers than male borrowers\n",
    "kiva['PRIMARY_GENDER'][(kiva['FEMALE_BORROWERS'] - kiva['MALE_BORROWERS'] >=0)] = 'Female'\n",
    "kiva['PRIMARY_GENDER'][((kiva['FEMALE_BORROWERS'] - kiva['MALE_BORROWERS']) <0)] = 'Male'"
   ]
  },
  {
   "cell_type": "code",
   "execution_count": null,
   "metadata": {},
   "outputs": [],
   "source": [
    "kiva['PERCENT_FEMALE']= (kiva['FEMALE_BORROWERS'] / kiva['BORROWERS_TOTAL'])"
   ]
  },
  {
   "cell_type": "code",
   "execution_count": null,
   "metadata": {},
   "outputs": [],
   "source": [
    "kiva['PERCENT_FEMALE_GROUPED'] = 0\n",
    "\n",
    "#break into clusters\n",
    "kiva['PERCENT_FEMALE_GROUPED'][(kiva['PERCENT_FEMALE'] == 0)] = 0\n",
    "kiva['PERCENT_FEMALE_GROUPED'][(kiva['PERCENT_FEMALE'] > 0) & (kiva['PERCENT_FEMALE'] <=.33)] = .25\n",
    "kiva['PERCENT_FEMALE_GROUPED'][(kiva['PERCENT_FEMALE'] > .33) & (kiva['PERCENT_FEMALE'] <=.66)] = .5\n",
    "kiva['PERCENT_FEMALE_GROUPED'][(kiva['PERCENT_FEMALE'] > .66) & (kiva['PERCENT_FEMALE'] <=.99)] = .75\n",
    "kiva['PERCENT_FEMALE_GROUPED'][(kiva['PERCENT_FEMALE'] > .99) & (kiva['PERCENT_FEMALE'] <=1)] = 1\n"
   ]
  },
  {
   "cell_type": "code",
   "execution_count": null,
   "metadata": {},
   "outputs": [],
   "source": [
    "#convert partnerid column to strings since I want them as categorical data, not numeric\n",
    "kiva['PARTNER_ID'] = kiva['PARTNER_ID'].apply(str)"
   ]
  },
  {
   "cell_type": "code",
   "execution_count": null,
   "metadata": {},
   "outputs": [],
   "source": [
    "#replace null values in description column with empty strings\n",
    "kiva['DESCRIPTION_TRANSLATED'] = kiva['DESCRIPTION_TRANSLATED'].fillna('')"
   ]
  },
  {
   "cell_type": "code",
   "execution_count": null,
   "metadata": {},
   "outputs": [],
   "source": [
    "kiva['HAS_TAGS'] = 0\n",
    "kiva['HAS_TAGS'][kiva['TAGS'].isnull() == True] = 0\n",
    "kiva['HAS_TAGS'][kiva['TAGS'].isnull() == False] = 1"
   ]
  },
  {
   "cell_type": "code",
   "execution_count": null,
   "metadata": {},
   "outputs": [],
   "source": [
    "#create new column with length of description (word count)\n",
    "kiva['LEN_DESC'] = kiva['DESCRIPTION_TRANSLATED'].apply(lambda x: len(re.findall(r'\\w+', x)))"
   ]
  },
  {
   "cell_type": "code",
   "execution_count": null,
   "metadata": {},
   "outputs": [],
   "source": [
    "def flesch_read(x):\n",
    "    try:\n",
    "        s=Textatistic(x)\n",
    "        return s.flesch_score\n",
    "    except: return np.nan"
   ]
  },
  {
   "cell_type": "code",
   "execution_count": null,
   "metadata": {},
   "outputs": [],
   "source": [
    "#calculate Flesch Score for descriptions\n",
    "kiva['FLESCH_SCORE'] = kiva['DESCRIPTION_TRANSLATED'].apply(lambda x: flesch_read(x))"
   ]
  },
  {
   "cell_type": "code",
   "execution_count": null,
   "metadata": {},
   "outputs": [],
   "source": [
    "kiva['LOAN_ID'] = kiva['LOAN_ID'].apply(str)"
   ]
  },
  {
   "cell_type": "code",
   "execution_count": null,
   "metadata": {},
   "outputs": [],
   "source": [
    "#Apply boxcox transformation to Days to Fund and Loan Amount\n",
    "_,lmb_days = stats.boxcox(kiva['DAYS_TO_FUND'].dropna())\n",
    "kiva['DAYS_BOX'] = stats.boxcox(kiva['DAYS_TO_FUND'],lmb_days)\n",
    "_,lmb_loan = stats.boxcox(kiva['LOAN_AMOUNT'].dropna())\n",
    "kiva['LOAN_BOX'] = stats.boxcox(kiva['LOAN_AMOUNT'],lmb_loan)\n",
    "#store these lamba's for later re-transformation of the data.\n",
    "#lmb_days, lmb_loan"
   ]
  },
  {
   "cell_type": "code",
   "execution_count": null,
   "metadata": {},
   "outputs": [],
   "source": []
  },
  {
   "cell_type": "code",
   "execution_count": null,
   "metadata": {},
   "outputs": [],
   "source": []
  },
  {
   "cell_type": "code",
   "execution_count": null,
   "metadata": {},
   "outputs": [],
   "source": [
    "#Create a pickle file of this dataset\n",
    "#kiva.to_pickle('kiva_423.pkl')"
   ]
  },
  {
   "cell_type": "code",
   "execution_count": null,
   "metadata": {},
   "outputs": [],
   "source": [
    "#Read in a pickle file of a dataset\n",
    "#kiva = pd.read_pickle('kiva_423.pkl')"
   ]
  }
 ],
 "metadata": {
  "kernelspec": {
   "display_name": "Python 3",
   "language": "python",
   "name": "python3"
  },
  "language_info": {
   "codemirror_mode": {
    "name": "ipython",
    "version": 3
   },
   "file_extension": ".py",
   "mimetype": "text/x-python",
   "name": "python",
   "nbconvert_exporter": "python",
   "pygments_lexer": "ipython3",
   "version": "3.6.4"
  }
 },
 "nbformat": 4,
 "nbformat_minor": 2
}
