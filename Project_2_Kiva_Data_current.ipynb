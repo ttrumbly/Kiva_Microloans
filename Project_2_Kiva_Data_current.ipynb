{
 "cells": [
  {
   "cell_type": "markdown",
   "metadata": {
    "heading_collapsed": true
   },
   "source": [
    "# Imports\n",
    "\n",
    "from bs4 import BeautifulSoup\n",
    "import requests\n",
    "import datetime\n",
    "import time\n",
    "import pandas as pd\n",
    "import numpy as np\n",
    "import json\n",
    "import re\n",
    "from pprint import pprint\n",
    "import csv\n",
    "import pickle\n",
    "import warnings\n",
    "warnings.filterwarnings('ignore')"
   ]
  },
  {
   "cell_type": "code",
   "execution_count": 2,
   "metadata": {},
   "outputs": [],
   "source": [
    "import requests\n",
    "import datetime\n",
    "import time\n",
    "import pandas as pd\n",
    "import numpy as np\n",
    "import json\n",
    "import re\n",
    "from pprint import pprint\n",
    "import csv\n",
    "import pickle\n",
    "\n",
    "import warnings\n",
    "warnings.filterwarnings('ignore')"
   ]
  },
  {
   "cell_type": "code",
   "execution_count": 3,
   "metadata": {
    "hidden": true
   },
   "outputs": [
    {
     "name": "stderr",
     "output_type": "stream",
     "text": [
      "/anaconda3/lib/python3.6/site-packages/sklearn/cross_validation.py:41: DeprecationWarning: This module was deprecated in version 0.18 in favor of the model_selection module into which all the refactored classes and functions are moved. Also note that the interface of the new CV iterators are different from that of this module. This module will be removed in 0.20.\n",
      "  \"This module will be removed in 0.20.\", DeprecationWarning)\n"
     ]
    }
   ],
   "source": [
    "import statsmodels.api as sm\n",
    "import statsmodels.formula.api as smf\n",
    "import patsy\n",
    "from textatistic import Textatistic\n",
    "from textblob import TextBlob\n",
    "from scipy import stats\n",
    "\n",
    "from sklearn.linear_model import LinearRegression\n",
    "from sklearn.linear_model import RidgeCV\n",
    "from sklearn import metrics\n",
    "from sklearn.preprocessing import PolynomialFeatures\n",
    "from sklearn.pipeline import make_pipeline\n",
    "from sklearn.pipeline import Pipeline\n",
    "from sklearn import cross_validation\n",
    "from sklearn.cross_validation import train_test_split\n",
    "from sklearn.cross_validation import KFold\n",
    "from sklearn.cross_validation import cross_val_score\n",
    "from sklearn.linear_model import LassoCV\n",
    "from sklearn.linear_model import RidgeCV\n",
    "from sklearn.linear_model import ElasticNetCV\n",
    "from sklearn.linear_model import ElasticNet\n"
   ]
  },
  {
   "cell_type": "code",
   "execution_count": 4,
   "metadata": {
    "hidden": true
   },
   "outputs": [
    {
     "data": {
      "text/html": [
       "<script>requirejs.config({paths: { 'plotly': ['https://cdn.plot.ly/plotly-latest.min']},});if(!window.Plotly) {{require(['plotly'],function(plotly) {window.Plotly=plotly;});}}</script>"
      ],
      "text/vnd.plotly.v1+html": [
       "<script>requirejs.config({paths: { 'plotly': ['https://cdn.plot.ly/plotly-latest.min']},});if(!window.Plotly) {{require(['plotly'],function(plotly) {window.Plotly=plotly;});}}</script>"
      ]
     },
     "metadata": {},
     "output_type": "display_data"
    }
   ],
   "source": [
    "import matplotlib.pyplot as plt\n",
    "import seaborn as sns\n",
    "import plotly.graph_objs as go \n",
    "from plotly.offline import init_notebook_mode,iplot\n",
    "init_notebook_mode(connected=True) \n",
    "%matplotlib inline\n",
    "sns.set_style(style='darkgrid')\n",
    "plt.rcParams[\"patch.force_edgecolor\"]=True"
   ]
  },
  {
   "cell_type": "markdown",
   "metadata": {
    "heading_collapsed": true
   },
   "source": [
    "# Full Dataset"
   ]
  },
  {
   "cell_type": "code",
   "execution_count": null,
   "metadata": {
    "hidden": true
   },
   "outputs": [],
   "source": [
    "#read in the large 1.4 million entry csv file.\n",
    "kiva_big = pd.read_csv('/Users/travis/Downloads/kiva_ds_csv/loans.csv')\n",
    "#kiva_big = pd.read_json('/Users/travis/Downloads/kiva_ds_json/loans.json')"
   ]
  },
  {
   "cell_type": "code",
   "execution_count": null,
   "metadata": {
    "hidden": true
   },
   "outputs": [],
   "source": [
    "#find places without a translated description and copy over the original so I can drop the description column\n",
    "kiva_big.DESCRIPTION_TRANSLATED.fillna(kiva_big.DESCRIPTION, inplace=True)"
   ]
  },
  {
   "cell_type": "code",
   "execution_count": null,
   "metadata": {
    "hidden": true
   },
   "outputs": [],
   "source": [
    "#Drop rows where there is no description\n",
    "kiva_big.dropna(axis=0, how='any', subset=['DESCRIPTION'], inplace=True)"
   ]
  },
  {
   "cell_type": "code",
   "execution_count": null,
   "metadata": {
    "hidden": true
   },
   "outputs": [],
   "source": [
    "kiva_big.drop(['LOAN_NAME', 'DESCRIPTION', 'NUM_JOURNAL_ENTRIES',\n",
    "               'NUM_BULK_ENTRIES', 'LOAN_USE','BORROWER_NAMES',\n",
    "               'BORROWER_PICTURED','VIDEO_ID'],\n",
    "             axis=1,\n",
    "             inplace=True)\n",
    "\n",
    "kiva_big.drop(['CURRENCY'], axis=1, inplace=True)\n",
    "\n",
    "kiva_big.drop(['CURRENCY_EXCHANGE_COVERAGE_RATE'], axis=1, inplace=True)\n",
    "\n",
    "kiva_big.drop(['COUNTRY_CODE'], axis=1, inplace=True)\n",
    "\n",
    "kiva_big.drop(['NUM_LENDERS_TOTAL'], axis=1, inplace=True)\n",
    "\n",
    "kiva_big.drop(['ACTIVITY_NAME'], axis=1, inplace=True)"
   ]
  },
  {
   "cell_type": "code",
   "execution_count": null,
   "metadata": {
    "hidden": true
   },
   "outputs": [],
   "source": [
    "#this gives me percent of rows that have 'TAGS' as null. 55%, keeping this column, can turn into categorical (either yes/no) and use for testing\n",
    "kiva_big['TAGS'].isnull().mean()"
   ]
  },
  {
   "cell_type": "code",
   "execution_count": null,
   "metadata": {
    "hidden": true
   },
   "outputs": [],
   "source": [
    "kiva_big['PARTNER_ID']"
   ]
  },
  {
   "cell_type": "code",
   "execution_count": null,
   "metadata": {
    "hidden": true
   },
   "outputs": [],
   "source": [
    "kiva_big.to_pickle('kiva_full.pkl')"
   ]
  },
  {
   "cell_type": "code",
   "execution_count": null,
   "metadata": {
    "hidden": true
   },
   "outputs": [],
   "source": [
    "#len(re.findall(r'\\w+', kiva_big['DESCRIPTION'][1]))"
   ]
  },
  {
   "cell_type": "code",
   "execution_count": null,
   "metadata": {
    "hidden": true
   },
   "outputs": [],
   "source": [
    "# with pd.option_context('display.max_rows', None, 'display.max_columns', None):\n",
    "#    display(kiva_big.head(1))"
   ]
  },
  {
   "cell_type": "code",
   "execution_count": null,
   "metadata": {
    "hidden": true
   },
   "outputs": [],
   "source": [
    "#find values where it is direct funding and the loan either did not receive full funding or is actively fundraising\n",
    "kiva_big[(kiva_big['LOAN_AMOUNT'] > kiva_big['FUNDED_AMOUNT']) & (kiva_big['DISTRIBUTION_MODEL'] == 'direct')]"
   ]
  },
  {
   "cell_type": "markdown",
   "metadata": {
    "heading_collapsed": true,
    "hidden": true
   },
   "source": [
    "## outdated, ignore"
   ]
  },
  {
   "cell_type": "markdown",
   "metadata": {
    "hidden": true
   },
   "source": [
    "tried to use this to load the Json, it did not work and just ran my computer into the ground.\n",
    "```python\n",
    "max_records = 1e5\n",
    "df = pd.read_json(file, lines=True, chunksize=max_records)\n",
    "filtered_data = pd.DataFrame()\n",
    "try:\n",
    "    for df_chunk in df:\n",
    "        filtered_data = pd.concat([filtered_data, df_chubnk])\n",
    "except ValueError:\n",
    "    print('\\nData Cannot be Parsed')\n",
    "```"
   ]
  },
  {
   "cell_type": "code",
   "execution_count": null,
   "metadata": {
    "hidden": true
   },
   "outputs": [],
   "source": [
    "#outdated\n",
    "#kiva_full.drop(['ORIGINAL_LANGUAGE', 'DESCRIPTION_TRANSLATED',\n",
    "#           'IMAGE_ID', 'VIDEO_ID', 'TOWN_NAME', 'TAGS', 'BORROWER_NAMES',\n",
    "#           'BORROWER_PICTURED', 'LOAN_USE', 'COUNTRY_CODE'],\n",
    "#          axis=1,\n",
    "#          inplace=True)"
   ]
  },
  {
   "cell_type": "markdown",
   "metadata": {
    "heading_collapsed": true
   },
   "source": [
    "# Creating 50K Sample"
   ]
  },
  {
   "cell_type": "code",
   "execution_count": null,
   "metadata": {
    "hidden": true
   },
   "outputs": [],
   "source": [
    "kiva = kiva_big.sample(50000)"
   ]
  },
  {
   "cell_type": "code",
   "execution_count": null,
   "metadata": {
    "hidden": true
   },
   "outputs": [],
   "source": [
    "kiva = kiva.reset_index()"
   ]
  },
  {
   "cell_type": "code",
   "execution_count": null,
   "metadata": {
    "hidden": true
   },
   "outputs": [],
   "source": [
    "kiva.drop('index', axis=1, inplace=True)"
   ]
  },
  {
   "cell_type": "code",
   "execution_count": null,
   "metadata": {
    "hidden": true
   },
   "outputs": [],
   "source": [
    "#kiva.to_pickle('kiva_423.pkl')"
   ]
  },
  {
   "cell_type": "code",
   "execution_count": null,
   "metadata": {
    "hidden": true
   },
   "outputs": [],
   "source": [
    "kiva['DISBURSE_TIME'] = pd.to_datetime(kiva['DISBURSE_TIME'])\n",
    "kiva['PLANNED_EXPIRATION_TIME'] = pd.to_datetime(kiva['PLANNED_EXPIRATION_TIME'])\n",
    "kiva['RAISED_TIME'] = pd.to_datetime(kiva['RAISED_TIME'])\n",
    "kiva['POSTED_TIME'] = pd.to_datetime(kiva['POSTED_TIME'])"
   ]
  },
  {
   "cell_type": "code",
   "execution_count": null,
   "metadata": {
    "hidden": true
   },
   "outputs": [],
   "source": [
    "kiva['TIME_DELTA'] = kiva['RAISED_TIME'] - kiva['POSTED_TIME']"
   ]
  },
  {
   "cell_type": "code",
   "execution_count": null,
   "metadata": {
    "hidden": true
   },
   "outputs": [],
   "source": [
    "#run to create a days column of number of days it takes a project to get funding.\n",
    "kiva['DAYS_TO_FUND'] = kiva['TIME_DELTA']/np.timedelta64(1,'D')"
   ]
  },
  {
   "cell_type": "code",
   "execution_count": null,
   "metadata": {
    "hidden": true
   },
   "outputs": [],
   "source": [
    "#ensure that the timedelta for Days is a value greater than 0\n",
    "def cleanDays(row):\n",
    "    a = row.DAYS_TO_FUND\n",
    "    if a<0:\n",
    "        return np.nan\n",
    "    else:\n",
    "        return a"
   ]
  },
  {
   "cell_type": "code",
   "execution_count": null,
   "metadata": {
    "hidden": true
   },
   "outputs": [],
   "source": [
    "#apply the function cleanDays to the dataframe reassigning negative values to nan. Time must pass forward!\n",
    "#run when first creating the days column\n",
    "kiva['DAYS_TO_FUND'] = kiva.apply(cleanDays, axis=1)"
   ]
  },
  {
   "cell_type": "code",
   "execution_count": null,
   "metadata": {
    "hidden": true
   },
   "outputs": [],
   "source": [
    "#I found errors in the date posted column, that come with the initial csv.\n",
    "#I cannot identify those without searching 1x1. but kiva has an upper limit on funding periods\n",
    "#So anything beyond 60 days I set to nan to catch those errors (less than .5% of this sample is effected)\n",
    "#This is not guaranteed to catch all errors of this type, but it catches many\n",
    "#if length of time to get funding is more than 60 days, convert to nan\n",
    "kiva['DAYS_TO_FUND'][kiva['DAYS_TO_FUND'] >=60] = np.nan"
   ]
  },
  {
   "cell_type": "code",
   "execution_count": null,
   "metadata": {
    "hidden": true
   },
   "outputs": [],
   "source": [
    "# def clean_log_funded(row):\n",
    "#     a = row.LOG_FUNDED\n",
    "#     if a<0:\n",
    "#         return np.nan\n",
    "#     else:\n",
    "#         return a"
   ]
  },
  {
   "cell_type": "code",
   "execution_count": null,
   "metadata": {
    "hidden": true
   },
   "outputs": [],
   "source": [
    "# #run to scale the funding amount by log and drop null values\n",
    "# kiva['LOG_FUNDED'] = np.log(kiva['FUNDED_AMOUNT'].dropna())\n",
    "# #run to clean LOG_FUNDED column\n",
    "# kiva['LOG_FUNDED'] = kiva.apply(clean_log_funded, axis=1)"
   ]
  },
  {
   "cell_type": "code",
   "execution_count": null,
   "metadata": {
    "hidden": true
   },
   "outputs": [],
   "source": [
    "#create columnns of number of female borrowers and male borrowers per loan and total number of borrowers\n",
    "kiva['FEMALE_BORROWERS'] = kiva['BORROWER_GENDERS'].str.title().str.count('Female')\n",
    "kiva['MALE_BORROWERS'] = kiva['BORROWER_GENDERS'].str.title().str.count('Male')\n",
    "kiva['BORROWERS_TOTAL'] = kiva['FEMALE_BORROWERS'] + kiva['MALE_BORROWERS']\n",
    "kiva['PRIMARY_GENDER'] = kiva['FEMALE_BORROWERS'] - kiva['MALE_BORROWERS']"
   ]
  },
  {
   "cell_type": "code",
   "execution_count": null,
   "metadata": {
    "hidden": true
   },
   "outputs": [],
   "source": [
    "#Extracts the year from the year the loan request was posted\n",
    "kiva['YEAR'] = kiva['POSTED_TIME'].dt.year"
   ]
  },
  {
   "cell_type": "code",
   "execution_count": null,
   "metadata": {
    "hidden": true
   },
   "outputs": [],
   "source": [
    "#Create a column of the month posted, to see if things fund faster in different times of year\n",
    "kiva['MONTH'] = kiva['POSTED_TIME'].dt.month"
   ]
  },
  {
   "cell_type": "code",
   "execution_count": null,
   "metadata": {
    "hidden": true
   },
   "outputs": [],
   "source": [
    "#Set Primary gender to 1 if there are more female borrowers than male borrowers\n",
    "kiva['PRIMARY_GENDER'][(kiva['FEMALE_BORROWERS'] - kiva['MALE_BORROWERS'] >=0)] = 'Female'\n",
    "kiva['PRIMARY_GENDER'][((kiva['FEMALE_BORROWERS'] - kiva['MALE_BORROWERS']) <0)] = 'Male'"
   ]
  },
  {
   "cell_type": "code",
   "execution_count": null,
   "metadata": {
    "hidden": true
   },
   "outputs": [],
   "source": [
    "kiva['PERCENT_FEMALE']= (kiva['FEMALE_BORROWERS'] / kiva['BORROWERS_TOTAL'])"
   ]
  },
  {
   "cell_type": "code",
   "execution_count": null,
   "metadata": {
    "hidden": true
   },
   "outputs": [],
   "source": [
    "kiva['PERCENT_FEMALE_GROUPED'] = 0\n",
    "\n",
    "#break into clusters\n",
    "kiva['PERCENT_FEMALE_GROUPED'][(kiva['PERCENT_FEMALE'] == 0)] = 0\n",
    "kiva['PERCENT_FEMALE_GROUPED'][(kiva['PERCENT_FEMALE'] > 0) & (kiva['PERCENT_FEMALE'] <=.33)] = .25\n",
    "kiva['PERCENT_FEMALE_GROUPED'][(kiva['PERCENT_FEMALE'] > .33) & (kiva['PERCENT_FEMALE'] <=.66)] = .5\n",
    "kiva['PERCENT_FEMALE_GROUPED'][(kiva['PERCENT_FEMALE'] > .66) & (kiva['PERCENT_FEMALE'] <=.99)] = .75\n",
    "kiva['PERCENT_FEMALE_GROUPED'][(kiva['PERCENT_FEMALE'] > .99) & (kiva['PERCENT_FEMALE'] <=1)] = 1\n"
   ]
  },
  {
   "cell_type": "code",
   "execution_count": null,
   "metadata": {
    "hidden": true
   },
   "outputs": [],
   "source": [
    "#convert partnerid column to strings since I want them as categorical data, not numeric\n",
    "kiva['PARTNER_ID'] = kiva['PARTNER_ID'].apply(str)"
   ]
  },
  {
   "cell_type": "code",
   "execution_count": null,
   "metadata": {
    "hidden": true
   },
   "outputs": [],
   "source": [
    "#replace null values in description column with empty strings\n",
    "kiva['DESCRIPTION_TRANSLATED'] = kiva['DESCRIPTION_TRANSLATED'].fillna('')"
   ]
  },
  {
   "cell_type": "code",
   "execution_count": null,
   "metadata": {
    "hidden": true
   },
   "outputs": [],
   "source": [
    "kiva['HAS_TAGS'] = 0\n",
    "kiva['HAS_TAGS'][kiva['TAGS'].isnull() == True] = 0\n",
    "kiva['HAS_TAGS'][kiva['TAGS'].isnull() == False] = 1"
   ]
  },
  {
   "cell_type": "code",
   "execution_count": null,
   "metadata": {
    "hidden": true
   },
   "outputs": [],
   "source": [
    "#create new column with length of description (word count)\n",
    "kiva['LEN_DESC'] = kiva['DESCRIPTION_TRANSLATED'].apply(lambda x: len(re.findall(r'\\w+', x)))"
   ]
  },
  {
   "cell_type": "code",
   "execution_count": null,
   "metadata": {
    "hidden": true
   },
   "outputs": [],
   "source": [
    "#kiva['SQRT_DAYS'] = np.sqrt(kiva['DAYS_TO_FUND'])"
   ]
  },
  {
   "cell_type": "code",
   "execution_count": null,
   "metadata": {
    "hidden": true
   },
   "outputs": [],
   "source": [
    "def flesch_read(x):\n",
    "    try:\n",
    "        s=Textatistic(x)\n",
    "        return s.flesch_score\n",
    "    except: return np.nan"
   ]
  },
  {
   "cell_type": "code",
   "execution_count": null,
   "metadata": {
    "hidden": true
   },
   "outputs": [],
   "source": [
    "#calculate Flesch Score for descriptions\n",
    "kiva['FLESCH_SCORE'] = kiva['DESCRIPTION_TRANSLATED'].apply(lambda x: flesch_read(x))"
   ]
  },
  {
   "cell_type": "code",
   "execution_count": null,
   "metadata": {},
   "outputs": [],
   "source": [
    "kiva['LOAN_ID'] = kiva['LOAN_ID'].apply(str)"
   ]
  },
  {
   "cell_type": "code",
   "execution_count": null,
   "metadata": {},
   "outputs": [],
   "source": [
    "#Apply boxcox transformation to Days to Fund and Loan Amount\n",
    "_,lmb = stats.boxcox(kiva['DAYS_TO_FUND'].dropna())\n",
    "kiva['DAYS_BOX'] = stats.boxcox(kiva['DAYS_TO_FUND'],lmb)\n",
    "_,lmb = stats.boxcox(kiva['LOAN_AMOUNT'].dropna())\n",
    "kiva['LOAN_BOX'] = stats.boxcox(kiva['LOAN_AMOUNT'],lmb)"
   ]
  },
  {
   "cell_type": "code",
   "execution_count": null,
   "metadata": {},
   "outputs": [],
   "source": [
    "#kiva[(kiva['DAYS_BOX'].isnull()) & (kiva['COUNTRY_NAME'] == 'Kenya')]"
   ]
  },
  {
   "cell_type": "code",
   "execution_count": null,
   "metadata": {},
   "outputs": [],
   "source": [
    "#kiva.drop(['SQRT_DAYS', 'LOG_FUNDED'],1, inplace=True)"
   ]
  },
  {
   "cell_type": "code",
   "execution_count": null,
   "metadata": {},
   "outputs": [],
   "source": [
    "#kiva['DAYS_TO_FUND'].describe()"
   ]
  },
  {
   "cell_type": "code",
   "execution_count": null,
   "metadata": {},
   "outputs": [],
   "source": [
    "#plt.hist(kiva.DAYS_BOX.dropna())"
   ]
  },
  {
   "cell_type": "code",
   "execution_count": 5,
   "metadata": {
    "hidden": true
   },
   "outputs": [],
   "source": [
    "kiva = pd.read_pickle('kiva_423.pkl')"
   ]
  },
  {
   "cell_type": "code",
   "execution_count": 6,
   "metadata": {
    "hidden": true
   },
   "outputs": [],
   "source": [
    "#Create subset that is just loans that received funding.\n",
    "kiva2 = kiva[kiva['STATUS'] == 'funded']"
   ]
  },
  {
   "cell_type": "code",
   "execution_count": 7,
   "metadata": {
    "hidden": true
   },
   "outputs": [],
   "source": [
    "kiva2 = kiva2[kiva2['BORROWERS_TOTAL'].isnull() ==False]"
   ]
  },
  {
   "cell_type": "code",
   "execution_count": 8,
   "metadata": {
    "hidden": true
   },
   "outputs": [],
   "source": [
    "kiva2 = kiva2[kiva2['DAYS_TO_FUND'].isnull() == False]"
   ]
  },
  {
   "cell_type": "code",
   "execution_count": 9,
   "metadata": {},
   "outputs": [],
   "source": [
    "kiva2 = kiva2[kiva2['LOAN_BOX'].isnull() == False]"
   ]
  },
  {
   "cell_type": "code",
   "execution_count": 10,
   "metadata": {},
   "outputs": [],
   "source": [
    "kiva2 = kiva2[kiva2['FLESCH_SCORE'].isnull() == False]"
   ]
  },
  {
   "cell_type": "markdown",
   "metadata": {
    "heading_collapsed": true
   },
   "source": [
    "# Breaking into Country Data"
   ]
  },
  {
   "cell_type": "code",
   "execution_count": null,
   "metadata": {
    "hidden": true
   },
   "outputs": [],
   "source": [
    "#kiva2.nsmallest(15, 'DAYS')"
   ]
  },
  {
   "cell_type": "code",
   "execution_count": null,
   "metadata": {
    "hidden": true
   },
   "outputs": [],
   "source": [
    "#Loans with NaN values for language/description/image/etc are funded loans that have been made anonymous by Kiva\n",
    "#They are real data points, but hard to capture as part of data set because of limited data available on them.\n",
    "#Country, Funded Amount, Time to Fund, Dates, Partner_ID, and Tags\n",
    "#I will run regressions with these included and not.\n",
    "\n",
    "with pd.option_context('display.max_rows', None, 'display.max_columns', None):\n",
    "    display(kiva2[kiva2['ORIGINAL_LANGUAGE'].isnull()])"
   ]
  },
  {
   "cell_type": "code",
   "execution_count": null,
   "metadata": {
    "hidden": true,
    "scrolled": true
   },
   "outputs": [],
   "source": [
    "#create a plotly choropleth map of countries and the number of loans individuals there received \n",
    "counts = kiva2.COUNTRY_NAME.value_counts().reset_index()\n",
    "\n",
    "counts.columns=['COUNTRY_NAME', 'COUNT']\n",
    "\n",
    "counts['log_count'] = np.log(counts['COUNT'])\n",
    "\n",
    "data = dict(type = 'choropleth',\n",
    "             colorscale = 'Viridis',\n",
    "            reversescale = True,\n",
    "             locations = counts['COUNTRY_NAME'],\n",
    "             locationmode = \"country names\",\n",
    "             z = counts['log_count'],\n",
    "             text = counts['COUNT'],\n",
    "             colorbar = {'title':'Scaled Frequency'})"
   ]
  },
  {
   "cell_type": "code",
   "execution_count": null,
   "metadata": {
    "hidden": true
   },
   "outputs": [],
   "source": [
    "layout = dict(title = 'Kiva Loan Frequency Data',\n",
    "             geo = dict(showframe = False,\n",
    "                       projection = {'type':'Mercator'}))\n",
    "choromap = go.Figure(data = [data],layout = layout)\n",
    "iplot(choromap,validate=False)"
   ]
  },
  {
   "cell_type": "code",
   "execution_count": null,
   "metadata": {
    "hidden": true
   },
   "outputs": [],
   "source": [
    "#find the 20 most frequent countries\n",
    "df = kiva2.COUNTRY_NAME.value_counts().nlargest(20).reset_index()\n",
    "df.columns=['COUNTRY_NAME','count']"
   ]
  },
  {
   "cell_type": "code",
   "execution_count": null,
   "metadata": {
    "hidden": true
   },
   "outputs": [],
   "source": [
    "df = kiva2.COUNTRY_NAME.value_counts().nlargest(20)\n",
    "fig, axs = plt.subplots(1,1, figsize=(12,12))\n",
    "f = plt.tight_layout()\n",
    "df.plot.bar()"
   ]
  },
  {
   "cell_type": "code",
   "execution_count": null,
   "metadata": {
    "hidden": true
   },
   "outputs": [],
   "source": [
    "df = kiva2.SECTOR_NAME.value_counts()\n",
    "fig, axs = plt.subplots(1,1, figsize=(12,12))\n",
    "f = plt.tight_layout()\n",
    "df.plot.bar()"
   ]
  },
  {
   "cell_type": "code",
   "execution_count": null,
   "metadata": {
    "hidden": true
   },
   "outputs": [],
   "source": [
    "big_countries = kiva2['COUNTRY_NAME'].value_counts().nlargest(20)\n",
    "big_countries = big_countries.reset_index()\n",
    "big_countries.columns=['COUNTRY_NAME', 'COUNT']\n",
    "list_countries = big_countries['COUNTRY_NAME'].tolist()"
   ]
  },
  {
   "cell_type": "code",
   "execution_count": null,
   "metadata": {
    "hidden": true
   },
   "outputs": [],
   "source": [
    "df_agg = kiva2[kiva2['COUNTRY_NAME'].isin(list_countries)].groupby(['COUNTRY_NAME'])['SECTOR_NAME'].value_counts().unstack()\n",
    "df_agg.plot(kind='bar', stacked=True, figsize=(16,16))"
   ]
  },
  {
   "cell_type": "code",
   "execution_count": null,
   "metadata": {
    "hidden": true
   },
   "outputs": [],
   "source": [
    "#viewing the correlation between days to funding and amount funded\n",
    "sns.jointplot(x='DAYS_TO_FUND', y='FUNDED_AMOUNT', data=kiva2, kind='scatter')"
   ]
  },
  {
   "cell_type": "code",
   "execution_count": null,
   "metadata": {
    "hidden": true
   },
   "outputs": [],
   "source": [
    "#Same plot as above but log transformed funded amount, and sqrt transformed days\n",
    "sns.jointplot(x='DAYS_BOX', y='LOAN_BOX', data=kiva2, kind='scatter')"
   ]
  },
  {
   "cell_type": "code",
   "execution_count": null,
   "metadata": {
    "hidden": true
   },
   "outputs": [],
   "source": [
    "#plot of how long it takes projects to get funded\n",
    "fig = plt.subplots(1,1, figsize=(6,6))\n",
    "fig = plt.xlim(0, 60)\n",
    "fig = plt.xlabel(\"Days to get funded\")\n",
    "sns.distplot(kiva2['DAYS_TO_FUND'].dropna(), kde=False, bins = 100)"
   ]
  },
  {
   "cell_type": "code",
   "execution_count": null,
   "metadata": {
    "hidden": true
   },
   "outputs": [],
   "source": [
    "#plot of number of loans by size* size is scaled by log\n",
    "fig = plt.subplots(1,1, figsize=(6,6))\n",
    "fig = plt.xlim()\n",
    "fig = plt.xlabel(\"Loan Size\")\n",
    "sns.distplot(kiva2['LOAN_BOX'].dropna(), kde=False, bins = 50)"
   ]
  },
  {
   "cell_type": "code",
   "execution_count": null,
   "metadata": {
    "hidden": true
   },
   "outputs": [],
   "source": [
    "Kiva_Phil = kiva2[kiva2['COUNTRY_NAME']=='Philippines']"
   ]
  },
  {
   "cell_type": "code",
   "execution_count": null,
   "metadata": {
    "hidden": true
   },
   "outputs": [],
   "source": [
    "#mean_by_gender_phil = Kiva_Phil.drop(['LOAN_ID','LOAN_AMOUNT','LOG_FUNDED','FEMALE_BORROWERS','MALE_BORROWERS'], axis=1).groupby(['PRIMARY_GENDER','YEAR']).mean()"
   ]
  },
  {
   "cell_type": "code",
   "execution_count": null,
   "metadata": {
    "hidden": true
   },
   "outputs": [],
   "source": [
    "ax = sns.barplot(x='YEAR', y='DAYS_TO_FUND',\n",
    "                 data=Kiva_Phil, \n",
    "                 hue='PRIMARY_GENDER', \n",
    "                 palette='RdBu')\n",
    "ax.set(xlabel = 'Year', ylabel= 'Days to funded', title='Mean days to funded for Philippines loans by gender')\n",
    "plt.savefig('philippines_gender.png', dpi=300)"
   ]
  },
  {
   "cell_type": "code",
   "execution_count": 11,
   "metadata": {
    "hidden": true
   },
   "outputs": [],
   "source": [
    "Kiva_Kenya = kiva2[kiva2['COUNTRY_NAME']=='Kenya']"
   ]
  },
  {
   "cell_type": "code",
   "execution_count": null,
   "metadata": {
    "hidden": true
   },
   "outputs": [],
   "source": [
    "#Kiva_Kenya.drop(['LOAN_ID', 'LOAN_AMOUNT', 'LOG_FUNDED'],axis=1).groupby(['YEAR','PRIMARY_GENDER']).mean()"
   ]
  },
  {
   "cell_type": "code",
   "execution_count": null,
   "metadata": {
    "hidden": true
   },
   "outputs": [],
   "source": [
    "#Kiva_Kenya.columns"
   ]
  },
  {
   "cell_type": "code",
   "execution_count": null,
   "metadata": {
    "hidden": true
   },
   "outputs": [],
   "source": [
    "#mean_by_gender = Kiva_Kenya.drop(['LOAN_ID','IMAGE_ID','LENDER_TERM', 'PARTNER_ID','LOAN_AMOUNT','LOG_FUNDED',\n",
    "#                                  'FEMALE_BORROWERS','MALE_BORROWERS', 'PERCENT_FEMALE','PRIMARY_GENDER'],\n",
    "#                                 axis=1).groupby(['PERCENT_FEMALE_GROUPED','YEAR']).mean()"
   ]
  },
  {
   "cell_type": "code",
   "execution_count": null,
   "metadata": {
    "hidden": true
   },
   "outputs": [],
   "source": [
    "#mean_by_gender"
   ]
  },
  {
   "cell_type": "code",
   "execution_count": null,
   "metadata": {
    "hidden": true
   },
   "outputs": [],
   "source": [
    "ax.legend(['Males', 'Females'])\n",
    "ax = sns.barplot(x='YEAR', y='DAYS_TO_FUND',\n",
    "                 data=Kiva_Kenya, \n",
    "                 hue='PRIMARY_GENDER', \n",
    "                 palette='RdBu_r')\n",
    "ax.set(xlabel = 'Year', ylabel= 'Days to funded', title='Mean days to funded for Kenya loans by gender')\n",
    "#ax.legend(loc='upper left')\n",
    "#ax.get_legend_handles_labels(labels['Males', 'Females'])\n",
    "plt.savefig('kenya_gender.png', dpi=300)"
   ]
  },
  {
   "cell_type": "markdown",
   "metadata": {},
   "source": [
    "# Stats Go Here"
   ]
  },
  {
   "cell_type": "code",
   "execution_count": 12,
   "metadata": {
    "hidden": true
   },
   "outputs": [],
   "source": [
    "Kiva_CV = Kiva_Kenya.drop(['ORIGINAL_LANGUAGE', 'DESCRIPTION_TRANSLATED', 'FUNDED_AMOUNT', 'STATUS', 'IMAGE_ID',\n",
    "                           'TOWN_NAME','CURRENCY_POLICY','POSTED_TIME',\n",
    "                           'PLANNED_EXPIRATION_TIME','DISBURSE_TIME','RAISED_TIME','LENDER_TERM',\n",
    "                           'TAGS','BORROWER_GENDERS','REPAYMENT_INTERVAL','DISTRIBUTION_MODEL',\n",
    "                           'TIME_DELTA','FEMALE_BORROWERS','MALE_BORROWERS','YEAR','PERCENT_FEMALE',\n",
    "                           'PRIMARY_GENDER', 'COUNTRY_NAME'],\n",
    "                          axis=1)"
   ]
  },
  {
   "cell_type": "code",
   "execution_count": null,
   "metadata": {
    "hidden": true
   },
   "outputs": [],
   "source": [
    "Kiva_CV.columns"
   ]
  },
  {
   "cell_type": "code",
   "execution_count": 13,
   "metadata": {},
   "outputs": [
    {
     "data": {
      "text/plain": [
       "<matplotlib.axes._subplots.AxesSubplot at 0x112162438>"
      ]
     },
     "execution_count": 13,
     "metadata": {},
     "output_type": "execute_result"
    },
    {
     "data": {
      "image/png": "[encoded data removed]",
      "text/plain": [
       "<Figure size 720x720 with 2 Axes>"
      ]
     },
     "metadata": {},
     "output_type": "display_data"
    }
   ],
   "source": [
    "fig, ax = plt.subplots(figsize=(10,10))\n",
    "sns.heatmap(Kiva_CV.drop(['LOAN_AMOUNT','DAYS_TO_FUND'],1).corr(), vmin=-1, vmax=1, cmap='coolwarm', annot=True, ax=ax)"
   ]
  },
  {
   "cell_type": "code",
   "execution_count": null,
   "metadata": {},
   "outputs": [],
   "source": [
    "#sns.pairplot(Kiva_CV.drop(['LOAN_AMOUNT','DAYS_TO_FUND'],1))"
   ]
  },
  {
   "cell_type": "markdown",
   "metadata": {},
   "source": [
    "## Create X/Y"
   ]
  },
  {
   "cell_type": "code",
   "execution_count": null,
   "metadata": {},
   "outputs": [],
   "source": [
    "#sns.pairplot(Kiva_CV)"
   ]
  },
  {
   "cell_type": "code",
   "execution_count": null,
   "metadata": {},
   "outputs": [],
   "source": []
  },
  {
   "cell_type": "code",
   "execution_count": 14,
   "metadata": {},
   "outputs": [],
   "source": [
    "y = Kiva_CV.dropna()['DAYS_BOX']\n",
    "X = Kiva_CV.dropna().drop(['DAYS_BOX', 'PARTNER_ID', 'SECTOR_NAME', 'LOAN_ID', 'DAYS_TO_FUND', 'LOAN_AMOUNT', 'LEN_DESC'],1)\n"
   ]
  },
  {
   "cell_type": "code",
   "execution_count": 15,
   "metadata": {},
   "outputs": [],
   "source": [
    "Dummy = patsy.dmatrix('SECTOR_NAME', data=Kiva_CV, return_type='dataframe')\n",
    "#Dummy_2 = patsy.dmatrix('PARTNER_ID', data=Kiva_CV, return_type='dataframe')\n"
   ]
  },
  {
   "cell_type": "code",
   "execution_count": null,
   "metadata": {},
   "outputs": [],
   "source": [
    "#Dummy_2.columns"
   ]
  },
  {
   "cell_type": "code",
   "execution_count": 16,
   "metadata": {},
   "outputs": [],
   "source": [
    "X = X.join(Dummy)\n",
    "#X = X.join(Dummy_2.drop(['Intercept'],1))\n"
   ]
  },
  {
   "cell_type": "code",
   "execution_count": 17,
   "metadata": {},
   "outputs": [],
   "source": [
    "X_train, X_test, y_train, y_test = train_test_split(X, y, test_size=.3)\n"
   ]
  },
  {
   "cell_type": "code",
   "execution_count": null,
   "metadata": {},
   "outputs": [],
   "source": []
  },
  {
   "cell_type": "code",
   "execution_count": 18,
   "metadata": {},
   "outputs": [
    {
     "name": "stdout",
     "output_type": "stream",
     "text": [
      "LinearRegression training 0.2782361953950109\n",
      "LinearRegression testing 0.27832673661595864\n",
      "Train Test Split training 0.2782361953950109\n",
      "Train Test Split testing 0.27832673661595864\n",
      "Cross Validation 0.2701029782135722\n"
     ]
    }
   ],
   "source": [
    "model= LinearRegression()\n",
    "model.fit(X_train,y_train)\n",
    "print('LinearRegression training',model.score(X_train,y_train))\n",
    "print('LinearRegression testing',model.score(X_test,y_test))\n",
    "\n",
    "model.fit(X_train,y_train)\n",
    "print('Train Test Split training', model.score(X_train,y_train))\n",
    "print('Train Test Split testing', model.score(X_test,y_test))\n",
    "reg = LinearRegression()\n",
    "\n",
    "scores = cross_val_score(reg, X, y, cv=10, scoring='r2')\n",
    "print('Cross Validation', np.mean(scores))\n"
   ]
  },
  {
   "cell_type": "markdown",
   "metadata": {},
   "source": [
    "## Polynomial Fit for Linear Regression"
   ]
  },
  {
   "cell_type": "code",
   "execution_count": 21,
   "metadata": {},
   "outputs": [
    {
     "data": {
      "text/plain": [
       "0.3612092137408124"
      ]
     },
     "execution_count": 21,
     "metadata": {},
     "output_type": "execute_result"
    }
   ],
   "source": [
    "#create a 2 degree polynomial and run linear regression on training data.\n",
    "degree = 2\n",
    "est = make_pipeline(PolynomialFeatures(degree), LinearRegression())\n",
    "est.fit(X_train,y_train)\n",
    "est.score(X_train,y_train)\n"
   ]
  },
  {
   "cell_type": "code",
   "execution_count": 22,
   "metadata": {},
   "outputs": [
    {
     "data": {
      "text/plain": [
       "0.27294561318917787"
      ]
     },
     "execution_count": 22,
     "metadata": {},
     "output_type": "execute_result"
    }
   ],
   "source": [
    "est.score(X_test, y_test)\n"
   ]
  },
  {
   "cell_type": "code",
   "execution_count": 23,
   "metadata": {},
   "outputs": [
    {
     "data": {
      "text/plain": [
       "0.3921159941421931"
      ]
     },
     "execution_count": 23,
     "metadata": {},
     "output_type": "execute_result"
    }
   ],
   "source": [
    "degree = 3\n",
    "est = make_pipeline(PolynomialFeatures(degree), RidgeCV())\n",
    "est.fit(X,y)\n",
    "est.score(X,y)"
   ]
  },
  {
   "cell_type": "code",
   "execution_count": 24,
   "metadata": {},
   "outputs": [
    {
     "data": {
      "text/plain": [
       "0.2744834821621428"
      ]
     },
     "execution_count": 24,
     "metadata": {},
     "output_type": "execute_result"
    }
   ],
   "source": [
    "degree = 3\n",
    "est = make_pipeline(PolynomialFeatures(degree), LassoCV())\n",
    "est.fit(X,y)\n",
    "est.score(X,y)"
   ]
  },
  {
   "cell_type": "code",
   "execution_count": 31,
   "metadata": {},
   "outputs": [
    {
     "data": {
      "text/plain": [
       "array([2.35668157, 3.33894748, 2.92540494, ..., 2.46832039, 2.73409149,\n",
       "       2.2529704 ])"
      ]
     },
     "execution_count": 31,
     "metadata": {},
     "output_type": "execute_result"
    }
   ],
   "source": [
    "degree = 3\n",
    "l1rat = [0,.1,.2,.5, .7, .9, .95, .99, 1]\n",
    "α = [1e-5,1e-4,1e-3,1e-2,1e-1,1e0,1e1,1e2]\n",
    "est = make_pipeline(PolynomialFeatures(degree), ElasticNetCV(l1_ratio=l1rat, alphas=α))\n",
    "est.fit(X,y)"
   ]
  },
  {
   "cell_type": "code",
   "execution_count": 32,
   "metadata": {},
   "outputs": [],
   "source": [
    "est.score(X,y)\n",
    "pred_y = est.predict(X)"
   ]
  },
  {
   "cell_type": "code",
   "execution_count": 33,
   "metadata": {},
   "outputs": [],
   "source": [
    "mse = mean_squared_error(y, pred_y)"
   ]
  },
  {
   "cell_type": "code",
   "execution_count": 34,
   "metadata": {},
   "outputs": [
    {
     "data": {
      "text/plain": [
       "2.3121302177991736"
      ]
     },
     "execution_count": 34,
     "metadata": {},
     "output_type": "execute_result"
    }
   ],
   "source": []
  },
  {
   "cell_type": "code",
   "execution_count": 29,
   "metadata": {},
   "outputs": [
    {
     "name": "stdout",
     "output_type": "stream",
     "text": [
      "alpha = 0.1 l1_ratio = 0.7\n"
     ]
    }
   ],
   "source": [
    "print(\"alpha =\", est.named_steps.elasticnetcv.alpha_, \"l1_ratio =\", est.named_steps.elasticnetcv.l1_ratio_)"
   ]
  },
  {
   "cell_type": "code",
   "execution_count": null,
   "metadata": {
    "scrolled": true
   },
   "outputs": [],
   "source": [
    "lm1 = smf.ols('DAYS_BOX ~ LOAN_BOX + SECTOR_NAME + BORROWERS_TOTAL + MONTH + PERCENT_FEMALE_GROUPED + HAS_TAGS + FLESCH_SCORE', data=Kiva_Kenya)\n",
    "fit1 = lm1.fit()\n",
    "fit1.summary()\n",
    "\n",
    "y_sm = Kiva_CV['DAYS_BOX']\n",
    "X_sm = Kiva_CV.drop(['DAYS_BOX', 'LOAN_ID', 'DAYS_TO_FUND', 'LOAN_AMOUNT', 'LEN_DESC'],1)\n",
    "y_sm_pat, X_sm_pat = patsy.dmatrices('DAYS_BOX ~ LOAN_BOX + BORROWERS_TOTAL + MONTH + PERCENT_FEMALE_GROUPED + FLESCH_SCORE + HAS_TAGS + SECTOR_NAME', data=Kiva_CV, return_type=\"dataframe\")\n",
    "X_smc=sm.add_constant(X_sm)\n",
    "X_train_sm, X_test_sm, y_train_sm, y_test_sm = train_test_split(X_sm_pat, y_sm_pat, test_size=.3)"
   ]
  },
  {
   "cell_type": "code",
   "execution_count": null,
   "metadata": {},
   "outputs": [],
   "source": [
    "lm1 = sm.OLS(y_train_sm, X_train_sm)\n",
    "fit1 = lm1.fit()\n",
    "fit1.summary()\n",
    "#y_pred = fit1.predict(X_test_sm)"
   ]
  },
  {
   "cell_type": "code",
   "execution_count": null,
   "metadata": {},
   "outputs": [],
   "source": [
    "#fit1.params"
   ]
  },
  {
   "cell_type": "code",
   "execution_count": null,
   "metadata": {},
   "outputs": [],
   "source": [
    "# plt.plot(y_pred)\n",
    "# plt.ylabel('Count')\n",
    "# plt.xlabel('Normalized residuals')"
   ]
  },
  {
   "cell_type": "code",
   "execution_count": null,
   "metadata": {},
   "outputs": [],
   "source": [
    "#sns.residplot()"
   ]
  },
  {
   "cell_type": "markdown",
   "metadata": {
    "heading_collapsed": true
   },
   "source": [
    "## Adjusted $R^2$ calculation\n",
    "\n",
    "r2_adj = 1 - ((sum((y_test-results.predict(X_test))**2.0)/(len(X_test) - len(results.params) - 1))\n",
    "                /(sum((y_test - np.mean(y_test))**2.0)/(len(X_test) - 1)))    #compute the adjusted r2 in the test set"
   ]
  },
  {
   "cell_type": "markdown",
   "metadata": {},
   "source": [
    "## Ridge CV"
   ]
  },
  {
   "cell_type": "code",
   "execution_count": 30,
   "metadata": {},
   "outputs": [],
   "source": [
    "from sklearn.linear_model import Ridge\n",
    "from sklearn.metrics import mean_squared_error"
   ]
  },
  {
   "cell_type": "code",
   "execution_count": null,
   "metadata": {},
   "outputs": [],
   "source": [
    "y_ridge = Kiva_CV['DAYS_BOX']\n",
    "X_ridge = Kiva_CV.drop(['DAYS_BOX', 'SECTOR_NAME', 'LOAN_ID', 'DAYS_TO_FUND', 'LOAN_AMOUNT', 'LEN_DESC'],1)\n",
    "Dummy_ridge = patsy.dmatrix('SECTOR_NAME', data=Kiva_CV, return_type='dataframe')\n",
    "X_ridge = X_ridge.join(Dummy_ridge)\n",
    "X_train_intermediate, X_test_ridge, y_train_intermediate, y_test_ridge = train_test_split(X_ridge, y_ridge, test_size=.3)\n",
    "X_train_ridge, X_validation_ridge, y_train_ridge, y_validation_ridge = train_test_split(X_train_intermediate, y_train_intermediate, test_size=.3)"
   ]
  },
  {
   "cell_type": "code",
   "execution_count": null,
   "metadata": {},
   "outputs": [],
   "source": [
    "alphas = [0.001, 0.01, 0.1, 1, 10]\n",
    "print('All errors are RMSE')\n",
    "print('-'*76)\n",
    "for alpha in alphas:\n",
    "    # instantiate and fit model\n",
    "    ridge = Ridge(alpha=alpha, fit_intercept=True)\n",
    "    ridge.fit(X_train_ridge, y_train_ridge)\n",
    "    # calculate errors\n",
    "    new_train_error = mean_squared_error(y_train_ridge, ridge.predict(X_train_ridge))\n",
    "    new_validation_error = mean_squared_error(y_validation_ridge, ridge.predict(X_validation_ridge))\n",
    "    new_test_error = mean_squared_error(y_test_ridge, ridge.predict(X_test_ridge))\n",
    "    # print errors as report\n",
    "    print('alpha: {:7} | train error: {:5} | val error: {:6} | test error: {}'.\n",
    "          format(alpha,\n",
    "                 round(new_train_error,3),\n",
    "                 round(new_validation_error,3),\n",
    "                 round(new_test_error,3)))"
   ]
  },
  {
   "cell_type": "code",
   "execution_count": null,
   "metadata": {},
   "outputs": [],
   "source": [
    "def calc_train_error(X_train, y_train, model):\n",
    "    '''returns in-sample error for already fit model.'''\n",
    "    predictions = model.predict(X_train)\n",
    "    mse = mean_squared_error(y_train, predictions)\n",
    "    rmse = np.sqrt(mse)\n",
    "    return mse\n",
    "    \n",
    "def calc_validation_error(X_test, y_test, model):\n",
    "    '''returns out-of-sample error for already fit model.'''\n",
    "    predictions = model.predict(X_test)\n",
    "    mse = mean_squared_error(y_test, predictions)\n",
    "    rmse = np.sqrt(mse)\n",
    "    return mse"
   ]
  },
  {
   "cell_type": "code",
   "execution_count": null,
   "metadata": {},
   "outputs": [],
   "source": [
    "def calc_metrics(X_train, y_train, X_test, y_test, model):\n",
    "    '''fits model and returns the RMSE for in-sample error and out-of-sample error'''\n",
    "    model.fit(X_train, y_train)\n",
    "    train_error = calc_train_error(X_train, y_train, model)\n",
    "    validation_error = calc_validation_error(X_test, y_test, model)\n",
    "    return train_error, validation_error"
   ]
  },
  {
   "cell_type": "code",
   "execution_count": null,
   "metadata": {},
   "outputs": [],
   "source": [
    "X_train, X_test, y_train, y_test = train_test_split(X_ridge, y_ridge, test_size=0.3)\n",
    "\n",
    "# instantiate model\n",
    "ridge = Ridge(alpha=1, fit_intercept=True)\n",
    "\n",
    "# fit and calculate errors\n",
    "new_train_error, new_test_error = calc_metrics(X_train, y_train, X_test, y_test, ridge)\n",
    "new_train_error, new_test_error = round(new_train_error, 3), round(new_test_error, 3)"
   ]
  },
  {
   "cell_type": "code",
   "execution_count": null,
   "metadata": {},
   "outputs": [],
   "source": [
    "new_test_error, new_train_error"
   ]
  },
  {
   "cell_type": "code",
   "execution_count": null,
   "metadata": {},
   "outputs": [],
   "source": [
    "degree = 2\n",
    "est = make_pipeline(PolynomialFeatures(degree), Ridge(alpha=1))\n",
    "est.fit(X_train,y_train)\n",
    "est.score(X_train,y_train), est.score(X_test, y_test)"
   ]
  },
  {
   "cell_type": "code",
   "execution_count": null,
   "metadata": {},
   "outputs": [],
   "source": [
    "rcv = RidgeCV(alphas = (1e-2,1e-1,1e0,1e1), cv=10)"
   ]
  },
  {
   "cell_type": "code",
   "execution_count": null,
   "metadata": {},
   "outputs": [],
   "source": [
    "rcv.fit(X_train,y_train)"
   ]
  },
  {
   "cell_type": "code",
   "execution_count": null,
   "metadata": {},
   "outputs": [],
   "source": [
    "rcv.score(X_train, y_train), rcv.score(X_test,y_test)\n"
   ]
  },
  {
   "cell_type": "code",
   "execution_count": null,
   "metadata": {},
   "outputs": [],
   "source": [
    "ridge = Ridge(alpha=1)\n",
    "ridge_coef = ridge.fit(X, y).coef_\n",
    "_ = plt.plot(range(len(X.columns)), ridge_coef)\n",
    "_ = plt.xticks(range(len(X.columns)), X.columns, rotation=90)\n",
    "_ = plt.ylabel('Coefficients')\n",
    "plt.tight_layout()\n",
    "plt.show()"
   ]
  },
  {
   "cell_type": "markdown",
   "metadata": {},
   "source": [
    "## Lasso CV"
   ]
  },
  {
   "cell_type": "code",
   "execution_count": null,
   "metadata": {},
   "outputs": [],
   "source": [
    "from sklearn.linear_model import Lasso"
   ]
  },
  {
   "cell_type": "code",
   "execution_count": null,
   "metadata": {},
   "outputs": [],
   "source": [
    "y_lasso = Kiva_CV.dropna()['DAYS_BOX']\n",
    "X_lasso = Kiva_CV.dropna().drop(['DAYS_BOX', 'SECTOR_NAME', 'LOAN_ID', 'DAYS_TO_FUND', 'LOAN_AMOUNT', 'LEN_DESC'],1)\n",
    "Dummy_lasso = patsy.dmatrix('SECTOR_NAME', data=Kiva_CV, return_type='dataframe')\n",
    "X_lasso = X_lasso.join(Dummy_lasso)\n",
    "X_train_lasso, X_test_lasso, y_train_lasso, y_test_lasso = train_test_split(X_lasso, y_lasso, test_size=.3)"
   ]
  },
  {
   "cell_type": "code",
   "execution_count": null,
   "metadata": {},
   "outputs": [],
   "source": [
    "#test 6 different alpha values for the dataset, choose alpha to use that produces lowest error.\n",
    "alphas = [1e-4, 1e-3, 1e-2, 1e-1, 1, 1e1]\n",
    "val_errors = []\n",
    "for alpha in alphas:\n",
    "    lasso = Lasso(alpha=alpha, fit_intercept=True, random_state=77)\n",
    "    errors = np.sum(-cross_val_score(lasso, \n",
    "                                     X= X, \n",
    "                                     y= y, \n",
    "                                     scoring='neg_mean_squared_error', \n",
    "                                     cv=10))\n",
    "    val_errors.append(np.sqrt(errors))\n",
    "val_errors    \n",
    "alpha_to_use = alphas[val_errors.index(min(val_errors))]"
   ]
  },
  {
   "cell_type": "code",
   "execution_count": null,
   "metadata": {},
   "outputs": [],
   "source": [
    "lasso = Lasso(alpha=alpha_to_use)\n",
    "lasso_coef = lasso.fit(X, y).coef_\n",
    "_ = plt.plot(range(len(X.columns)), lasso_coef)\n",
    "_ = plt.xticks(range(len(X.columns)), X.columns, rotation=90)\n",
    "_ = plt.ylabel('Coefficients')\n",
    "plt.show()"
   ]
  },
  {
   "cell_type": "code",
   "execution_count": null,
   "metadata": {},
   "outputs": [],
   "source": []
  },
  {
   "cell_type": "code",
   "execution_count": null,
   "metadata": {},
   "outputs": [],
   "source": [
    "degree = 2\n",
    "est = make_pipeline(PolynomialFeatures(degree), Lasso(alpha=alpha_to_use))\n",
    "est.fit(X,y)\n",
    "est.score(X,y)"
   ]
  },
  {
   "cell_type": "code",
   "execution_count": null,
   "metadata": {},
   "outputs": [],
   "source": [
    "l1rat = [0,.1,.2,.5, .7, .9, .95, .99, 1]\n",
    "alphas = [1e-5,1e-4,1e-3,1e-2,1e-1,1e0,1e1,1e2]\n",
    "elast = ElasticNetCV(l1_ratio=l1rat, alphas = alphas, cv=10)"
   ]
  },
  {
   "cell_type": "code",
   "execution_count": null,
   "metadata": {},
   "outputs": [],
   "source": [
    "elas = elast.fit(X_train, y_train)\n",
    "elas.score(X_train, y_train), elas.score(X_test, y_test)\n"
   ]
  },
  {
   "cell_type": "code",
   "execution_count": null,
   "metadata": {},
   "outputs": [],
   "source": [
    "elas."
   ]
  },
  {
   "cell_type": "code",
   "execution_count": null,
   "metadata": {},
   "outputs": [],
   "source": [
    "kiva['DAYS_TO_FUND'].describe()"
   ]
  },
  {
   "cell_type": "code",
   "execution_count": null,
   "metadata": {},
   "outputs": [],
   "source": [
    "X_test.columns"
   ]
  },
  {
   "cell_type": "code",
   "execution_count": null,
   "metadata": {},
   "outputs": [],
   "source": [
    "data = pd.DataFrame(y_test)\n",
    "data['predict'] = elas.predict(X_test)\n",
    "data['resid'] = (data['DAYS_BOX'] - data['predict'])\n",
    "\n",
    "with sns.axes_style('white'):\n",
    "    plot=data.plot(kind='scatter',\n",
    "                  x='predict',\n",
    "                  y='resid',\n",
    "                  alpha=.2,\n",
    "                  figsize=(10,6),)"
   ]
  },
  {
   "cell_type": "code",
   "execution_count": null,
   "metadata": {},
   "outputs": [],
   "source": []
  },
  {
   "cell_type": "code",
   "execution_count": null,
   "metadata": {},
   "outputs": [],
   "source": [
    "degree =2\n",
    "l1rat = [0,.1,.2,.5, .7, .9, .95, .99, 1]\n",
    "alphas = [1e-5,1e-4,1e-3,1e-2,1e-1,1e0,1e1,1e2]\n",
    "elast = make_pipeline(PolynomialFeatures(degree), ElasticNetCV(l1_ratio=l1rat, alphas = alphas, cv=10))\n",
    "elast.fit(X_train, y_train)"
   ]
  },
  {
   "cell_type": "code",
   "execution_count": null,
   "metadata": {},
   "outputs": [],
   "source": [
    "elast.score(X_train, y_train), elast.score(X_test, y_test)"
   ]
  },
  {
   "cell_type": "code",
   "execution_count": null,
   "metadata": {},
   "outputs": [],
   "source": []
  },
  {
   "cell_type": "code",
   "execution_count": null,
   "metadata": {},
   "outputs": [],
   "source": [
    "data2 = pd.DataFrame(y_test)\n",
    "data2['predict'] = elast.predict(X_test)\n",
    "data2['resid'] = (data2['DAYS_BOX'] - data2['predict'])\n",
    "\n",
    "with sns.axes_style('white'):\n",
    "    plot=data2.plot(kind='scatter',\n",
    "                  x='predict',\n",
    "                  y='resid',\n",
    "                  alpha=.2,\n",
    "                  figsize=(10,6),)"
   ]
  },
  {
   "cell_type": "code",
   "execution_count": null,
   "metadata": {},
   "outputs": [],
   "source": [
    "lcv = LassoCV(cv=10)"
   ]
  },
  {
   "cell_type": "code",
   "execution_count": null,
   "metadata": {},
   "outputs": [],
   "source": [
    "lcv.fit(X_train,y_train)\n",
    "\n",
    "lcv.score(X_train, y_train), lcv.score(X_test,y_test)"
   ]
  },
  {
   "cell_type": "code",
   "execution_count": null,
   "metadata": {},
   "outputs": [],
   "source": [
    "sns.residplot(x='LOG_FUNDED', y='DAYS_BOX', data=Kiva_Kenya)"
   ]
  },
  {
   "cell_type": "code",
   "execution_count": null,
   "metadata": {},
   "outputs": [],
   "source": [
    "sns.residplot(x='LOG_FUNDED', y='DAYS_TO_FUND', data=Kiva_Kenya)"
   ]
  },
  {
   "cell_type": "code",
   "execution_count": null,
   "metadata": {},
   "outputs": [],
   "source": []
  },
  {
   "cell_type": "code",
   "execution_count": null,
   "metadata": {},
   "outputs": [],
   "source": [
    "plt.plot(fit1.resid)\n",
    "plt.ylabel('Count')\n",
    "plt.xlabel('Normalized residuals')"
   ]
  },
  {
   "cell_type": "code",
   "execution_count": null,
   "metadata": {},
   "outputs": [],
   "source": [
    "lm1 = smf.ols('DAYS ~ LOAN_AMOUNT + BORROWERS_TOTAL + PRIMARY_GENDER + COUNTRY_NAME + SECTOR_NAME', data=kiva)\n",
    "fit1 = lm1.fit()\n",
    "fit1.summary()"
   ]
  },
  {
   "cell_type": "code",
   "execution_count": null,
   "metadata": {},
   "outputs": [],
   "source": []
  },
  {
   "cell_type": "code",
   "execution_count": null,
   "metadata": {},
   "outputs": [],
   "source": []
  },
  {
   "cell_type": "markdown",
   "metadata": {
    "heading_collapsed": true
   },
   "source": [
    "# Old Stuff"
   ]
  },
  {
   "cell_type": "code",
   "execution_count": null,
   "metadata": {
    "hidden": true
   },
   "outputs": [],
   "source": [
    "#create a plot of number of lenders vs total funded amount by year\n",
    "#kenya_plot = sns.lmplot(x='DAYS' data=Kiva_Kenya, hue = 'PRIMARY_GENDER', col='YEAR', palette='coolwarm',\n",
    "#          aspect=.6, size=8)\n",
    "#axes = kenya_plot.axes\n",
    "#axes[0,0].set_xlim(0,40)"
   ]
  },
  {
   "cell_type": "code",
   "execution_count": null,
   "metadata": {
    "hidden": true
   },
   "outputs": [],
   "source": [
    "#sns.jointplot(x='DAYS', y='PRIMARY_GENDER', data=Kiva_Kenya, kind='reg')"
   ]
  },
  {
   "cell_type": "code",
   "execution_count": null,
   "metadata": {
    "hidden": true
   },
   "outputs": [],
   "source": [
    "#create a new dataframe with no null values\n",
    "kiva_no_null = kiva2.dropna()"
   ]
  },
  {
   "cell_type": "code",
   "execution_count": null,
   "metadata": {
    "hidden": true
   },
   "outputs": [],
   "source": [
    "kiva_no_null.drop(['LOAN_ID'], axis=1).groupby(['COUNTRY_NAME', 'SECTOR_NAME', 'STATUS','YEAR']).mean()"
   ]
  },
  {
   "cell_type": "code",
   "execution_count": null,
   "metadata": {
    "hidden": true
   },
   "outputs": [],
   "source": [
    "#create a plot of number of lenders vs total funded amount by year\n",
    "lm = sns.lmplot(x='NUM_LENDERS_TOTAL', y='DAYS', data=kiva_no_null, col='YEAR', palette='coolwarm',\n",
    "          aspect=.6, size=8)\n",
    "axes = lm.axes\n",
    "axes[0,0].set_xlim(0,300)"
   ]
  },
  {
   "cell_type": "code",
   "execution_count": null,
   "metadata": {
    "hidden": true
   },
   "outputs": [],
   "source": [
    "sns.jointplot(x='DAYS', y='DoW', data=kiva2, kind='scatter', alpha=.05)"
   ]
  },
  {
   "cell_type": "code",
   "execution_count": null,
   "metadata": {
    "hidden": true
   },
   "outputs": [],
   "source": [
    "sns.jointplot(x='DAYS', y='LOG_FUNDED', data=kiva2, kind='scatter', alpha=.2)"
   ]
  },
  {
   "cell_type": "code",
   "execution_count": null,
   "metadata": {
    "hidden": true
   },
   "outputs": [],
   "source": [
    "kiva2.info()"
   ]
  },
  {
   "cell_type": "code",
   "execution_count": null,
   "metadata": {
    "hidden": true
   },
   "outputs": [],
   "source": [
    "grouping = kiva2.drop(['LOAN_ID'], axis=1).groupby(['COUNTRY_NAME', 'SECTOR_NAME', 'STATUS','YEAR','NUM_LENDERS_TOTAL']).mean()"
   ]
  },
  {
   "cell_type": "code",
   "execution_count": null,
   "metadata": {
    "hidden": true
   },
   "outputs": [],
   "source": [
    "#lr =LinearRegression()\n",
    "\n",
    "#X=kiva3[['FUNDED_AMOUNT','LENDER_TERM', 'NUM_LENDERS_TOTAL', 'FEMALE_BORROWERS', 'BORROWERS_TOTAL', 'DoW',]]\n",
    "#y=kiva3['DAYS']\n",
    "\n",
    "#lr.fit(X,y)"
   ]
  },
  {
   "cell_type": "code",
   "execution_count": null,
   "metadata": {
    "hidden": true
   },
   "outputs": [],
   "source": [
    "kiva3=kiva2.dropna()"
   ]
  },
  {
   "cell_type": "code",
   "execution_count": null,
   "metadata": {
    "hidden": true
   },
   "outputs": [],
   "source": [
    "lm1 = smf.ols('DAYS ~ FUNDED_AMOUNT + LENDER_TERM + NUM_LENDERS_TOTAL + FEMALE_BORROWERS + BORROWERS_TOTAL + DoW', data=kiva3)\n",
    "fit1 = lm1.fit()\n",
    "fit1.summary()"
   ]
  },
  {
   "cell_type": "code",
   "execution_count": null,
   "metadata": {
    "hidden": true
   },
   "outputs": [],
   "source": [
    "fig = plt.figure(figsize=(10,10))\n",
    "fig = sm.graphics.plot_partregress_grid(fit1, fig=fig)\n",
    "#plt.savefig('Partial_Regression.png', dpi=300)"
   ]
  },
  {
   "cell_type": "code",
   "execution_count": null,
   "metadata": {
    "hidden": true
   },
   "outputs": [],
   "source": [
    "X = patsy.dmatrix('COUNTRY_NAME',data=kiva3,return_type='dataframe')\n",
    "X.head()"
   ]
  },
  {
   "cell_type": "code",
   "execution_count": null,
   "metadata": {
    "hidden": true
   },
   "outputs": [],
   "source": [
    "kiva_country = kiva3.join(X)"
   ]
  },
  {
   "cell_type": "code",
   "execution_count": null,
   "metadata": {
    "hidden": true,
    "scrolled": true
   },
   "outputs": [],
   "source": [
    "kiva3.info()"
   ]
  },
  {
   "cell_type": "code",
   "execution_count": null,
   "metadata": {
    "hidden": true,
    "scrolled": true
   },
   "outputs": [],
   "source": [
    "kiva_country.head"
   ]
  },
  {
   "cell_type": "code",
   "execution_count": null,
   "metadata": {
    "hidden": true
   },
   "outputs": [],
   "source": [
    "kiva_country.drop(['LOAN_NAME', 'LOAN_AMOUNT','ACTIVITY_NAME','COUNTRY_NAME','POSTED_TIME','DISBURSE_TIME','DISTRIBUTION_MODEL'], axis=1, inplace=True)"
   ]
  },
  {
   "cell_type": "code",
   "execution_count": null,
   "metadata": {
    "hidden": true
   },
   "outputs": [],
   "source": [
    "kiva_country.drop(['NUM_JOURNAL_ENTRIES','NUM_BULK_ENTRIES','BORROWER_GENDERS'], axis=1, inplace=True)"
   ]
  },
  {
   "cell_type": "code",
   "execution_count": null,
   "metadata": {
    "hidden": true
   },
   "outputs": [],
   "source": [
    "kiva_country.drop(['RAISED_TIME'], axis=1, inplace=True)"
   ]
  },
  {
   "cell_type": "code",
   "execution_count": null,
   "metadata": {
    "hidden": true,
    "scrolled": true
   },
   "outputs": [],
   "source": [
    "kiva_country.columns"
   ]
  },
  {
   "cell_type": "code",
   "execution_count": null,
   "metadata": {
    "hidden": true
   },
   "outputs": [],
   "source": [
    "kiva3.to_pickle('kiva3.pkl')`"
   ]
  },
  {
   "cell_type": "code",
   "execution_count": null,
   "metadata": {
    "hidden": true
   },
   "outputs": [],
   "source": [
    "kiva_country.to_pickle('kiva_country.pkl')"
   ]
  },
  {
   "cell_type": "code",
   "execution_count": null,
   "metadata": {
    "hidden": true
   },
   "outputs": [],
   "source": [
    "X= kiva_country.drop(['LOAN_ID', 'STATUS', 'SECTOR_NAME','REPAYMENT_INTERVAL','TIME_DELTA', \"YEAR\"],1)\n",
    "y=kiva_country.DAYS"
   ]
  },
  {
   "cell_type": "code",
   "execution_count": null,
   "metadata": {
    "hidden": true
   },
   "outputs": [],
   "source": [
    "lr = LinearRegression()\n",
    "# INSTRUCTOR NOTE: Run this multiple times to show the variation\n",
    "# Split the data into training and test sets\n",
    "X_train, X_test, y_train, y_test = train_test_split(X, y, test_size=0.3)\n",
    "# Fit the model against the training data\n",
    "lr.fit(X_train, y_train)\n",
    "# Evaluate the model against the testing data\n",
    "lr.score(X_test, y_test)"
   ]
  },
  {
   "cell_type": "code",
   "execution_count": null,
   "metadata": {
    "hidden": true
   },
   "outputs": [],
   "source": [
    "lm2 = sm.OLS(y,X)\n",
    "fit2 = lm2.fit()\n",
    "fit2.summary()"
   ]
  },
  {
   "cell_type": "code",
   "execution_count": null,
   "metadata": {
    "hidden": true
   },
   "outputs": [],
   "source": [
    "fit2.resid.plot(style='o', figsize=(10,10), alpha=.05)"
   ]
  },
  {
   "cell_type": "code",
   "execution_count": null,
   "metadata": {
    "hidden": true
   },
   "outputs": [],
   "source": [
    "#sns.regplot(x=X, y=y, data=kiva3)"
   ]
  },
  {
   "cell_type": "code",
   "execution_count": null,
   "metadata": {
    "hidden": true
   },
   "outputs": [],
   "source": [
    "#fig = plt.figure(figsize=(10,10))\n",
    "#sm.graphics.plot_partregress(y, X, kiva_country['YEAR'])"
   ]
  },
  {
   "cell_type": "code",
   "execution_count": null,
   "metadata": {
    "hidden": true
   },
   "outputs": [],
   "source": [
    "kiva3=kiva2.join(X)"
   ]
  },
  {
   "cell_type": "code",
   "execution_count": null,
   "metadata": {
    "hidden": true
   },
   "outputs": [],
   "source": [
    "p = lm1.fit().params"
   ]
  },
  {
   "cell_type": "code",
   "execution_count": null,
   "metadata": {
    "hidden": true
   },
   "outputs": [],
   "source": [
    "kiva3['YEAR'] = kiva3['POSTED_TIME'].dt.year"
   ]
  },
  {
   "cell_type": "code",
   "execution_count": null,
   "metadata": {
    "hidden": true
   },
   "outputs": [],
   "source": [
    "#Below here is exploratory data looking at things that did not receive funding. But not the direction I am going to go in."
   ]
  },
  {
   "cell_type": "code",
   "execution_count": null,
   "metadata": {
    "hidden": true
   },
   "outputs": [],
   "source": [
    "#This creates a column with a 1 for a project primarily feature females and 0 for a project primarily featuring males\n",
    "#kiva_no_NA['PRIMARY_GENDER'][(kiva_no_NA['FEMALE_BORROWERS'] - kiva_no_NA['MALE_BORROWERS'] >=0)] = 1\n",
    "#kiva_no_NA['PRIMARY_GENDER'][((kiva_no_NA['FEMALE_BORROWERS'] - kiva_no_NA['MALE_BORROWERS']) <0)] = 0"
   ]
  },
  {
   "cell_type": "code",
   "execution_count": null,
   "metadata": {
    "hidden": true
   },
   "outputs": [],
   "source": [
    "#kiva_no_NA['PRIMARY_GENDER'].value_counts()"
   ]
  },
  {
   "cell_type": "code",
   "execution_count": null,
   "metadata": {
    "hidden": true
   },
   "outputs": [],
   "source": [
    "#kiva_not_funded = kiva3[(kiva3['DAYS'].isnull())]"
   ]
  },
  {
   "cell_type": "code",
   "execution_count": null,
   "metadata": {
    "hidden": true
   },
   "outputs": [],
   "source": [
    "#kiva_not_funded.head()"
   ]
  },
  {
   "cell_type": "code",
   "execution_count": null,
   "metadata": {
    "hidden": true
   },
   "outputs": [],
   "source": [
    "#kiva_not_funded['COUNTRY_NAME'].value_counts()"
   ]
  },
  {
   "cell_type": "code",
   "execution_count": null,
   "metadata": {
    "hidden": true
   },
   "outputs": [],
   "source": [
    "#kiva_not_funded['YEAR'] = kiva_not_funded['POSTED_TIME'].dt.year"
   ]
  },
  {
   "cell_type": "code",
   "execution_count": null,
   "metadata": {
    "hidden": true
   },
   "outputs": [],
   "source": [
    "#kiva_not_funded['YEAR'].value_counts()"
   ]
  },
  {
   "cell_type": "code",
   "execution_count": null,
   "metadata": {
    "hidden": true
   },
   "outputs": [],
   "source": [
    "#kiva3['SECTOR_NAME'].value_counts()"
   ]
  },
  {
   "cell_type": "code",
   "execution_count": null,
   "metadata": {
    "hidden": true
   },
   "outputs": [],
   "source": [
    "#percent_not_funded = kiva_not_funded['SECTOR_NAME'].value_counts() / kiva3['SECTOR_NAME'].value_counts()"
   ]
  },
  {
   "cell_type": "code",
   "execution_count": null,
   "metadata": {
    "hidden": true
   },
   "outputs": [],
   "source": [
    "#maybe something to look into more? is type of project an indicator in funding or not?\n",
    "#percent_not_funded"
   ]
  },
  {
   "cell_type": "code",
   "execution_count": null,
   "metadata": {
    "hidden": true
   },
   "outputs": [],
   "source": [
    "#country_not_funded_percent = kiva_not_funded['COUNTRY_NAME'].value_counts() / kiva3['COUNTRY_NAME'].value_counts()"
   ]
  },
  {
   "cell_type": "code",
   "execution_count": null,
   "metadata": {
    "hidden": true
   },
   "outputs": [],
   "source": [
    "#Some countries have 100% not funded rate... but I also assume those countries have very few applications (1).\n",
    "#I am sure this is something that needs a weighted measurement for prediction, but not sure how to capture it.\n",
    "#Also this is just a small sample of 50k out of 1.4 million appplications total.\n",
    "#country_not_funded_percent.dropna()"
   ]
  },
  {
   "cell_type": "code",
   "execution_count": null,
   "metadata": {
    "hidden": true
   },
   "outputs": [],
   "source": [
    "#year_not_funded_percent = kiva_not_funded['YEAR'].value_counts() / kiva3['YEAR'].value_counts()"
   ]
  },
  {
   "cell_type": "code",
   "execution_count": null,
   "metadata": {
    "hidden": true
   },
   "outputs": [],
   "source": [
    "#year_not_funded_percent"
   ]
  },
  {
   "cell_type": "code",
   "execution_count": null,
   "metadata": {
    "hidden": true
   },
   "outputs": [],
   "source": []
  },
  {
   "cell_type": "code",
   "execution_count": null,
   "metadata": {
    "hidden": true
   },
   "outputs": [],
   "source": [
    "X=kiva2[['FUNDED_AMOUNT']]\n",
    "y=kiva2.DAYS"
   ]
  },
  {
   "cell_type": "code",
   "execution_count": null,
   "metadata": {
    "hidden": true
   },
   "outputs": [],
   "source": [
    "X=sm.add_constant(X)"
   ]
  },
  {
   "cell_type": "code",
   "execution_count": null,
   "metadata": {
    "hidden": true
   },
   "outputs": [],
   "source": [
    "est = sm.OLS(y,X).fit()"
   ]
  },
  {
   "cell_type": "code",
   "execution_count": null,
   "metadata": {
    "hidden": true
   },
   "outputs": [],
   "source": [
    "xx1,xx2 = np.meshgrid(np.linspace(X.FUNDED_AMOUNT.min()))"
   ]
  },
  {
   "cell_type": "code",
   "execution_count": null,
   "metadata": {
    "hidden": true
   },
   "outputs": [],
   "source": [
    "lm1 = smf.ols('DAYS ~ FUNDED_AMOUNT + LENDER_TERM + NUM_LENDERS_TOTAL + FEMALE_BORROWERS + BORROWERS_TOTAL + DoW', data=kiva3)\n",
    "fit1 = lm1.fit()\n",
    "fit1.summary()"
   ]
  },
  {
   "cell_type": "markdown",
   "metadata": {
    "heading_collapsed": true
   },
   "source": [
    "#Outdated, but keeping to have record of initial efforts\n",
    "```Python\n",
    "df_agg = kiva2.groupby(['COUNTRY_NAME'])['SECTOR_NAME'].value_counts().unstack()\n",
    "df_agg.plot(kind='bar', stacked=True, figsize=(16,16))\n",
    "```"
   ]
  },
  {
   "cell_type": "markdown",
   "metadata": {
    "heading_collapsed": true
   },
   "source": [
    "#Old formatting, preserved for ability to look back at later.\n",
    "```Python\n",
    "\n",
    "kiva.drop(['NUM_BULK_ENTRIES'], axis=1, inplace=True)\n",
    "kiva.drop(['DoW'], axis=1, inplace=True)\n",
    "kiva.drop(['NUM_JOURNAL_ENTRIES'], axis=1, inplace=True)\n",
    "kiva.drop(['ACTIVITY_NAME'], axis=1, inplace=True)\n",
    "kiva.drop(['DISBURSE_TIME'], axis=1, inplace=True)\n",
    "kiva.drop(['LOAN_NAME'], axis=1, inplace=True)\n",
    "kiva.drop(['LENDER_TERM'], axis=1, inplace=True)\n",
    "kiva.drop(['POSTED_TIME', 'RAISED_TIME','TIME_DELTA', 'REPAYMENT_INTERVAL'], axis=1, inplace=True)\n",
    "\n",
    "```"
   ]
  }
 ],
 "metadata": {
  "kernelspec": {
   "display_name": "Python 3",
   "language": "python",
   "name": "python3"
  },
  "language_info": {
   "codemirror_mode": {
    "name": "ipython",
    "version": 3
   },
   "file_extension": ".py",
   "mimetype": "text/x-python",
   "name": "python",
   "nbconvert_exporter": "python",
   "pygments_lexer": "ipython3",
   "version": "3.6.4"
  }
 },
 "nbformat": 4,
 "nbformat_minor": 2
}
