{
 "cells": [
  {
   "cell_type": "markdown",
   "metadata": {},
   "source": [
    "# Imports\n",
    "\n",
    "from bs4 import BeautifulSoup\n",
    "import requests\n",
    "import datetime\n",
    "import time\n",
    "import pandas as pd\n",
    "import numpy as np\n",
    "import json\n",
    "import re\n",
    "from pprint import pprint\n",
    "import csv\n",
    "import pickle\n",
    "import warnings\n",
    "warnings.filterwarnings('ignore')"
   ]
  },
  {
   "cell_type": "code",
   "execution_count": 5,
   "metadata": {},
   "outputs": [],
   "source": [
    "import statsmodels.api as sm\n",
    "import statsmodels.formula.api as smf\n",
    "import patsy\n",
    "from textatistic import Textatistic\n",
    "from textblob import TextBlob\n",
    "\n",
    "from sklearn.linear_model import LinearRegression\n",
    "from sklearn.linear_model import RidgeCV\n",
    "from sklearn import metrics\n",
    "from sklearn.preprocessing import PolynomialFeatures\n",
    "from sklearn.pipeline import make_pipeline\n",
    "from sklearn.pipeline import Pipeline\n",
    "from sklearn import cross_validation\n",
    "from sklearn.cross_validation import train_test_split\n",
    "from sklearn.cross_validation import KFold\n",
    "from sklearn.cross_validation import cross_val_score\n",
    "from sklearn.linear_model import LassoCV\n",
    "from sklearn.linear_model import RidgeCV\n"
   ]
  },
  {
   "cell_type": "code",
   "execution_count": 6,
   "metadata": {},
   "outputs": [
    {
     "data": {
      "text/html": [
       "<script>requirejs.config({paths: { 'plotly': ['https://cdn.plot.ly/plotly-latest.min']},});if(!window.Plotly) {{require(['plotly'],function(plotly) {window.Plotly=plotly;});}}</script>"
      ],
      "text/vnd.plotly.v1+html": [
       "<script>requirejs.config({paths: { 'plotly': ['https://cdn.plot.ly/plotly-latest.min']},});if(!window.Plotly) {{require(['plotly'],function(plotly) {window.Plotly=plotly;});}}</script>"
      ]
     },
     "metadata": {},
     "output_type": "display_data"
    }
   ],
   "source": [
    "import matplotlib.pyplot as plt\n",
    "import seaborn as sns\n",
    "import plotly.graph_objs as go \n",
    "from plotly.offline import init_notebook_mode,iplot\n",
    "init_notebook_mode(connected=True) \n",
    "%matplotlib inline\n",
    "sns.set_style(style='darkgrid')\n",
    "plt.rcParams[\"patch.force_edgecolor\"]=True"
   ]
  },
  {
   "cell_type": "markdown",
   "metadata": {},
   "source": [
    "# Full Dataset"
   ]
  },
  {
   "cell_type": "code",
   "execution_count": 7,
   "metadata": {},
   "outputs": [],
   "source": [
    "#read in the large 1.4 million entry csv file.\n",
    "kiva_big = pd.read_csv('/Users/travis/Downloads/kiva_ds_csv/loans.csv')\n",
    "#kiva_big = pd.read_json('/Users/travis/Downloads/kiva_ds_json/loans.json')"
   ]
  },
  {
   "cell_type": "code",
   "execution_count": 22,
   "metadata": {},
   "outputs": [],
   "source": [
    "#find places without a translated description and copy over the original so I can drop the description column\n",
    "kiva_big.DESCRIPTION_TRANSLATED.fillna(kiva_big.DESCRIPTION, inplace=True)"
   ]
  },
  {
   "cell_type": "code",
   "execution_count": 29,
   "metadata": {},
   "outputs": [],
   "source": [
    "#Drop rows where there is no description\n",
    "kiva_big.dropna(axis=0, how='any', subset=['DESCRIPTION'], inplace=True)"
   ]
  },
  {
   "cell_type": "code",
   "execution_count": 31,
   "metadata": {},
   "outputs": [],
   "source": [
    "kiva_big.drop(['LOAN_NAME', 'DESCRIPTION', 'NUM_JOURNAL_ENTRIES',\n",
    "               'NUM_BULK_ENTRIES', 'LOAN_USE','BORROWER_NAMES',\n",
    "               'BORROWER_PICTURED','VIDEO_ID'],\n",
    "             axis=1,\n",
    "             inplace=True)\n",
    "\n",
    "kiva_big.drop(['CURRENCY'], axis=1, inplace=True)\n",
    "\n",
    "kiva_big.drop(['CURRENCY_EXCHANGE_COVERAGE_RATE'], axis=1, inplace=True)\n",
    "\n",
    "kiva_big.drop(['COUNTRY_CODE'], axis=1, inplace=True)\n",
    "\n",
    "kiva_big.drop(['NUM_LENDERS_TOTAL'], axis=1, inplace=True)\n",
    "\n",
    "kiva_big.drop(['ACTIVITY_NAME'], axis=1, inplace=True)"
   ]
  },
  {
   "cell_type": "code",
   "execution_count": 32,
   "metadata": {},
   "outputs": [
    {
     "data": {
      "text/plain": [
       "0.5491171397391017"
      ]
     },
     "execution_count": 32,
     "metadata": {},
     "output_type": "execute_result"
    }
   ],
   "source": [
    "#this gives me percent of rows that have 'TAGS' as null. 55%, keeping this column, can turn into categorical (either yes/no) and use for testing\n",
    "kiva_big['TAGS'].isnull().mean()"
   ]
  },
  {
   "cell_type": "code",
   "execution_count": null,
   "metadata": {},
   "outputs": [],
   "source": [
    "kiva_big['PARTNER_ID']"
   ]
  },
  {
   "cell_type": "code",
   "execution_count": 33,
   "metadata": {},
   "outputs": [],
   "source": [
    "kiva_big.to_pickle('kiva_full.pkl')"
   ]
  },
  {
   "cell_type": "code",
   "execution_count": null,
   "metadata": {},
   "outputs": [],
   "source": [
    "#len(re.findall(r'\\w+', kiva_big['DESCRIPTION'][1]))"
   ]
  },
  {
   "cell_type": "code",
   "execution_count": null,
   "metadata": {},
   "outputs": [],
   "source": [
    "#with pd.option_context('display.max_rows', None, 'display.max_columns', None):\n",
    "#    display(kiva_big.head(1))"
   ]
  },
  {
   "cell_type": "code",
   "execution_count": null,
   "metadata": {},
   "outputs": [],
   "source": [
    "#find values where it is direct funding and the loan either did not receive full funding or is actively fundraising\n",
    "kiva_big[(kiva_big['LOAN_AMOUNT'] > kiva_big['FUNDED_AMOUNT']) & (kiva_big['DISTRIBUTION_MODEL'] == 'direct')]"
   ]
  },
  {
   "cell_type": "markdown",
   "metadata": {
    "heading_collapsed": true
   },
   "source": [
    "## outdated, ignore"
   ]
  },
  {
   "cell_type": "markdown",
   "metadata": {
    "hidden": true
   },
   "source": [
    "tried to use this to load the Json, it did not work and just ran my computer into the ground.\n",
    "```python\n",
    "max_records = 1e5\n",
    "df = pd.read_json(file, lines=True, chunksize=max_records)\n",
    "filtered_data = pd.DataFrame()\n",
    "try:\n",
    "    for df_chunk in df:\n",
    "        filtered_data = pd.concat([filtered_data, df_chubnk])\n",
    "except ValueError:\n",
    "    print('\\nData Cannot be Parsed')\n",
    "```"
   ]
  },
  {
   "cell_type": "code",
   "execution_count": null,
   "metadata": {
    "hidden": true
   },
   "outputs": [],
   "source": [
    "#outdated\n",
    "#kiva_full.drop(['ORIGINAL_LANGUAGE', 'DESCRIPTION_TRANSLATED',\n",
    "#           'IMAGE_ID', 'VIDEO_ID', 'TOWN_NAME', 'TAGS', 'BORROWER_NAMES',\n",
    "#           'BORROWER_PICTURED', 'LOAN_USE', 'COUNTRY_CODE'],\n",
    "#          axis=1,\n",
    "#          inplace=True)"
   ]
  },
  {
   "cell_type": "markdown",
   "metadata": {},
   "source": [
    "# Creating 50K Sample"
   ]
  },
  {
   "cell_type": "code",
   "execution_count": 34,
   "metadata": {},
   "outputs": [],
   "source": [
    "kiva = kiva_big.sample(50000)"
   ]
  },
  {
   "cell_type": "code",
   "execution_count": 35,
   "metadata": {},
   "outputs": [],
   "source": [
    "kiva = kiva.reset_index()"
   ]
  },
  {
   "cell_type": "code",
   "execution_count": 36,
   "metadata": {},
   "outputs": [],
   "source": [
    "kiva.drop('index', axis=1, inplace=True)"
   ]
  },
  {
   "cell_type": "code",
   "execution_count": 242,
   "metadata": {},
   "outputs": [],
   "source": [
    "#kiva.to_pickle('kiva_423.pkl')"
   ]
  },
  {
   "cell_type": "code",
   "execution_count": 39,
   "metadata": {},
   "outputs": [],
   "source": [
    "kiva['DISBURSE_TIME'] = pd.to_datetime(kiva['DISBURSE_TIME'])\n",
    "kiva['PLANNED_EXPIRATION_TIME'] = pd.to_datetime(kiva['PLANNED_EXPIRATION_TIME'])\n",
    "kiva['RAISED_TIME'] = pd.to_datetime(kiva['RAISED_TIME'])\n",
    "kiva['POSTED_TIME'] = pd.to_datetime(kiva['POSTED_TIME'])"
   ]
  },
  {
   "cell_type": "code",
   "execution_count": 40,
   "metadata": {},
   "outputs": [],
   "source": [
    "kiva['TIME_DELTA'] = kiva['RAISED_TIME'] - kiva['POSTED_TIME']"
   ]
  },
  {
   "cell_type": "code",
   "execution_count": 42,
   "metadata": {},
   "outputs": [],
   "source": [
    "#run to create a days column of number of days it takes a project to get funding.\n",
    "kiva['DAYS_TO_FUND'] = kiva['TIME_DELTA']/np.timedelta64(1,'D')"
   ]
  },
  {
   "cell_type": "code",
   "execution_count": 43,
   "metadata": {},
   "outputs": [],
   "source": [
    "#ensure that the timedelta for Days is a value greater than 0\n",
    "def cleanDays(row):\n",
    "    a = row.DAYS_TO_FUND\n",
    "    if a<0:\n",
    "        return np.nan\n",
    "    else:\n",
    "        return a"
   ]
  },
  {
   "cell_type": "code",
   "execution_count": 44,
   "metadata": {},
   "outputs": [],
   "source": [
    "#apply the function cleanDays to the dataframe reassigning negative values to nan. Time must pass forward!\n",
    "#run when first creating the days column\n",
    "kiva['DAYS_TO_FUND'] = kiva.apply(cleanDays, axis=1)"
   ]
  },
  {
   "cell_type": "code",
   "execution_count": 45,
   "metadata": {},
   "outputs": [],
   "source": [
    "#I found errors in the date posted column, that come with the initial csv.\n",
    "#I cannot identify those without searching 1x1. but kiva has an upper limit on funding periods\n",
    "#So anything beyond 60 days I set to nan to catch those errors (less than .5% of this sample is effected)\n",
    "#This is not guaranteed to catch all errors of this type, but it catches many\n",
    "#if length of time to get funding is more than 60 days, convert to nan\n",
    "kiva['DAYS_TO_FUND'][kiva['DAYS_TO_FUND'] >=60] = np.nan"
   ]
  },
  {
   "cell_type": "code",
   "execution_count": 47,
   "metadata": {},
   "outputs": [],
   "source": [
    "def clean_log_funded(row):\n",
    "    a = row.LOG_FUNDED\n",
    "    if a<0:\n",
    "        return np.nan\n",
    "    else:\n",
    "        return a"
   ]
  },
  {
   "cell_type": "code",
   "execution_count": 48,
   "metadata": {},
   "outputs": [],
   "source": [
    "#run to scale the funding amount by log and drop null values\n",
    "kiva['LOG_FUNDED'] = np.log(kiva['FUNDED_AMOUNT'].dropna())\n",
    "#run to clean LOG_FUNDED column\n",
    "kiva['LOG_FUNDED'] = kiva.apply(clean_log_funded, axis=1)"
   ]
  },
  {
   "cell_type": "code",
   "execution_count": 49,
   "metadata": {},
   "outputs": [],
   "source": [
    "#create columnns of number of female borrowers and male borrowers per loan and total number of borrowers\n",
    "kiva['FEMALE_BORROWERS'] = kiva['BORROWER_GENDERS'].str.title().str.count('Female')\n",
    "kiva['MALE_BORROWERS'] = kiva['BORROWER_GENDERS'].str.title().str.count('Male')\n",
    "kiva['BORROWERS_TOTAL'] = kiva['FEMALE_BORROWERS'] + kiva['MALE_BORROWERS']\n",
    "kiva['PRIMARY_GENDER'] = kiva['FEMALE_BORROWERS'] - kiva['MALE_BORROWERS']"
   ]
  },
  {
   "cell_type": "code",
   "execution_count": 50,
   "metadata": {},
   "outputs": [],
   "source": [
    "#Extracts the year from the year the loan request was posted\n",
    "kiva['YEAR'] = kiva['POSTED_TIME'].dt.year"
   ]
  },
  {
   "cell_type": "code",
   "execution_count": 180,
   "metadata": {},
   "outputs": [],
   "source": [
    "#Create a column of the month posted, to see if things fund faster in different times of year\n",
    "kiva['MONTH'] = kiva['POSTED_TIME'].dt.month"
   ]
  },
  {
   "cell_type": "code",
   "execution_count": 52,
   "metadata": {},
   "outputs": [],
   "source": [
    "#Set Primary gender to 1 if there are more female borrowers than male borrowers\n",
    "kiva['PRIMARY_GENDER'][(kiva['FEMALE_BORROWERS'] - kiva['MALE_BORROWERS'] >=0)] = 'Female'\n",
    "kiva['PRIMARY_GENDER'][((kiva['FEMALE_BORROWERS'] - kiva['MALE_BORROWERS']) <0)] = 'Male'"
   ]
  },
  {
   "cell_type": "code",
   "execution_count": 53,
   "metadata": {},
   "outputs": [],
   "source": [
    "kiva['PERCENT_FEMALE']= (kiva['FEMALE_BORROWERS'] / kiva['BORROWERS_TOTAL'])"
   ]
  },
  {
   "cell_type": "code",
   "execution_count": 54,
   "metadata": {},
   "outputs": [],
   "source": [
    "kiva['PERCENT_FEMALE_GROUPED'] = 0"
   ]
  },
  {
   "cell_type": "code",
   "execution_count": 55,
   "metadata": {},
   "outputs": [],
   "source": [
    "#break into clusters\n",
    "kiva['PERCENT_FEMALE_GROUPED'][(kiva['PERCENT_FEMALE'] == 0)] = 0\n",
    "kiva['PERCENT_FEMALE_GROUPED'][(kiva['PERCENT_FEMALE'] > 0) & (kiva['PERCENT_FEMALE'] <=.33)] = .25\n",
    "kiva['PERCENT_FEMALE_GROUPED'][(kiva['PERCENT_FEMALE'] > .33) & (kiva['PERCENT_FEMALE'] <=.66)] = .5\n",
    "kiva['PERCENT_FEMALE_GROUPED'][(kiva['PERCENT_FEMALE'] > .66) & (kiva['PERCENT_FEMALE'] <=.99)] = .75\n",
    "kiva['PERCENT_FEMALE_GROUPED'][(kiva['PERCENT_FEMALE'] > .99) & (kiva['PERCENT_FEMALE'] <=1)] = 1\n"
   ]
  },
  {
   "cell_type": "code",
   "execution_count": 57,
   "metadata": {},
   "outputs": [],
   "source": [
    "#convert partnerid column to strings since I want them as categorical data, not numeric\n",
    "kiva['PARTNER_ID'] = kiva['PARTNER_ID'].apply(str)"
   ]
  },
  {
   "cell_type": "code",
   "execution_count": 59,
   "metadata": {},
   "outputs": [],
   "source": [
    "#replace null values in description column with empty strings\n",
    "kiva['DESCRIPTION_TRANSLATED'] = kiva['DESCRIPTION_TRANSLATED'].fillna('')"
   ]
  },
  {
   "cell_type": "code",
   "execution_count": 135,
   "metadata": {},
   "outputs": [],
   "source": [
    "kiva['HAS_TAGS'] = 0\n",
    "kiva['HAS_TAGS'][kiva['TAGS'].isnull() == True] = 0\n",
    "kiva['HAS_TAGS'][kiva['TAGS'].isnull() == False] = 1"
   ]
  },
  {
   "cell_type": "code",
   "execution_count": 61,
   "metadata": {},
   "outputs": [],
   "source": [
    "#create new column with length of description (word count)\n",
    "kiva['LEN_DESC'] = kiva['DESCRIPTION_TRANSLATED'].apply(lambda x: len(re.findall(r'\\w+', x)))"
   ]
  },
  {
   "cell_type": "code",
   "execution_count": 62,
   "metadata": {},
   "outputs": [],
   "source": [
    "kiva['SQRT_DAYS'] = np.sqrt(kiva['DAYS_TO_FUND'])"
   ]
  },
  {
   "cell_type": "code",
   "execution_count": 69,
   "metadata": {},
   "outputs": [],
   "source": [
    "def flesch_read(x):\n",
    "    try:\n",
    "        s=Textatistic(x)\n",
    "        return s.flesch_score\n",
    "    except: return np.nan"
   ]
  },
  {
   "cell_type": "code",
   "execution_count": 70,
   "metadata": {},
   "outputs": [],
   "source": [
    "#calculate Flesch Score for descriptions\n",
    "kiva['FLESCH_SCORE'] = kiva['DESCRIPTION_TRANSLATED'].apply(lambda x: flesch_read(x))"
   ]
  },
  {
   "cell_type": "code",
   "execution_count": 146,
   "metadata": {},
   "outputs": [],
   "source": [
    "#Create subset that is just loans that received funding.\n",
    "kiva2 = kiva[kiva['STATUS'] == 'funded']"
   ]
  },
  {
   "cell_type": "code",
   "execution_count": 147,
   "metadata": {},
   "outputs": [],
   "source": [
    "kiva2 = kiva2[kiva2['BORROWERS_TOTAL'].isnull() ==False]"
   ]
  },
  {
   "cell_type": "code",
   "execution_count": 148,
   "metadata": {},
   "outputs": [],
   "source": [
    "kiva2 = kiva2[kiva2['DAYS_TO_FUND'].isnull() == False]"
   ]
  },
  {
   "cell_type": "code",
   "execution_count": null,
   "metadata": {},
   "outputs": [],
   "source": [
    "kiva = pd.read_pickle('kiva_423.pkl')"
   ]
  },
  {
   "cell_type": "markdown",
   "metadata": {},
   "source": [
    "# Breaking into Country Data"
   ]
  },
  {
   "cell_type": "code",
   "execution_count": null,
   "metadata": {},
   "outputs": [],
   "source": [
    "#kiva2.nsmallest(15, 'DAYS')"
   ]
  },
  {
   "cell_type": "code",
   "execution_count": null,
   "metadata": {},
   "outputs": [],
   "source": [
    "#Loans with NaN values for language/description/image/etc are funded loans that have been made anonymous by Kiva\n",
    "#They are real data points, but hard to capture as part of data set because of limited data available on them.\n",
    "#Country, Funded Amount, Time to Fund, Dates, Partner_ID, and Tags\n",
    "#I will run regressions with these included and not.\n",
    "\n",
    "with pd.option_context('display.max_rows', None, 'display.max_columns', None):\n",
    "    display(kiva2[kiva2['ORIGINAL_LANGUAGE'].isnull()])"
   ]
  },
  {
   "cell_type": "code",
   "execution_count": 80,
   "metadata": {},
   "outputs": [
    {
     "data": {
      "application/vnd.plotly.v1+json": {
       "data": [
        {
         "colorbar": {
          "title": "Scaled Frequency"
         },
         "colorscale": "Viridis",
         "locationmode": "country names",
         "locations": [
          "Philippines",
          "Kenya",
          "Peru",
          "Cambodia",
          "El Salvador",
          "Pakistan",
          "Uganda",
          "Tajikistan",
          "Nicaragua",
          "Ecuador",
          "Colombia",
          "Paraguay",
          "Bolivia",
          "Ghana",
          "Vietnam",
          "Nigeria",
          "Mexico",
          "Lebanon",
          "Samoa",
          "Honduras",
          "Sierra Leone",
          "Tanzania",
          "Togo",
          "Rwanda",
          "India",
          "Mali",
          "Senegal",
          "Guatemala",
          "Armenia",
          "Palestine",
          "Liberia",
          "Kyrgyzstan",
          "Indonesia",
          "Azerbaijan",
          "Mongolia",
          "Jordan",
          "Mozambique",
          "Georgia",
          "South Sudan",
          "Zimbabwe",
          "Madagascar",
          "United States",
          "Cameroon",
          "Ukraine",
          "Benin",
          "The Democratic Republic of the Congo",
          "Costa Rica",
          "Haiti",
          "Dominican Republic",
          "Timor-Leste",
          "Yemen",
          "Burkina Faso",
          "Egypt",
          "Albania",
          "Myanmar (Burma)",
          "Iraq",
          "Nepal",
          "Afghanistan",
          "Turkey",
          "Malawi",
          "Kosovo",
          "Lao People's Democratic Republic",
          "Burundi",
          "Solomon Islands",
          "Zambia",
          "Congo",
          "Lesotho",
          "Chile",
          "South Africa",
          "Moldova",
          "Bulgaria",
          "Israel",
          "Thailand",
          "Bosnia and Herzegovina",
          "Brazil",
          "Panama",
          "Cote D'Ivoire",
          "China",
          "Sri Lanka",
          "Suriname",
          "Puerto Rico",
          "Belize",
          "Somalia",
          "Guam"
         ],
         "reversescale": true,
         "text": [
          10204,
          4466,
          2969,
          2858,
          1953,
          1547,
          1457,
          1417,
          1376,
          1082,
          984,
          883,
          842,
          763,
          753,
          715,
          712,
          673,
          576,
          539,
          530,
          528,
          522,
          516,
          515,
          458,
          418,
          413,
          412,
          405,
          399,
          384,
          376,
          321,
          317,
          316,
          233,
          228,
          201,
          182,
          180,
          177,
          175,
          170,
          166,
          158,
          156,
          155,
          143,
          121,
          120,
          111,
          97,
          96,
          96,
          95,
          85,
          75,
          69,
          69,
          67,
          61,
          50,
          35,
          33,
          30,
          29,
          29,
          24,
          20,
          13,
          13,
          13,
          12,
          12,
          9,
          9,
          8,
          8,
          8,
          5,
          4,
          4,
          1
         ],
         "type": "choropleth",
         "z": [
          9.230535079261703,
          8.404248432400102,
          7.99598047476376,
          7.957877358489813,
          7.577121930876679,
          7.344072850573066,
          7.284134806195205,
          7.256297239690681,
          7.226936018493289,
          6.9865664594064265,
          6.891625897052253,
          6.78332520060396,
          6.7357800142423265,
          6.637258031284457,
          6.6240652277998935,
          6.5722825426940075,
          6.568077911411976,
          6.511745329644728,
          6.3561076606958915,
          6.289715570908998,
          6.272877006546167,
          6.269096283706261,
          6.257667587882639,
          6.246106765481563,
          6.244166900663736,
          6.126869184114185,
          6.035481432524756,
          6.023447592961033,
          6.021023349349527,
          6.003887067106539,
          5.988961416889864,
          5.950642552587727,
          5.929589143389895,
          5.771441123130016,
          5.75890177387728,
          5.755742213586912,
          5.4510384535657,
          5.429345628954441,
          5.303304908059076,
          5.204006687076795,
          5.19295685089021,
          5.176149732573829,
          5.1647859739235145,
          5.135798437050262,
          5.111987788356544,
          5.062595033026967,
          5.049856007249537,
          5.043425116919247,
          4.962844630259907,
          4.795790545596741,
          4.787491742782046,
          4.709530201312334,
          4.574710978503383,
          4.564348191467836,
          4.564348191467836,
          4.553876891600541,
          4.442651256490317,
          4.31748811353631,
          4.23410650459726,
          4.23410650459726,
          4.204692619390966,
          4.110873864173311,
          3.912023005428146,
          3.5553480614894135,
          3.4965075614664802,
          3.4011973816621555,
          3.367295829986474,
          3.367295829986474,
          3.1780538303479458,
          2.995732273553991,
          2.5649493574615367,
          2.5649493574615367,
          2.5649493574615367,
          2.4849066497880004,
          2.4849066497880004,
          2.1972245773362196,
          2.1972245773362196,
          2.0794415416798357,
          2.0794415416798357,
          2.0794415416798357,
          1.6094379124341003,
          1.3862943611198906,
          1.3862943611198906,
          0
         ]
        }
       ],
       "layout": {
        "geo": {
         "projection": {
          "type": "Mercator"
         },
         "showframe": false
        },
        "title": "Kiva Loan Frequency Data"
       }
      },
      "text/html": [
       "<div id=\"4568a58f-5384-49d8-b061-8b6375268ac1\" style=\"height: 525px; width: 100%;\" class=\"plotly-graph-div\"></div><script type=\"text/javascript\">require([\"plotly\"], function(Plotly) { window.PLOTLYENV=window.PLOTLYENV || {};window.PLOTLYENV.BASE_URL=\"https://plot.ly\";Plotly.newPlot(\"4568a58f-5384-49d8-b061-8b6375268ac1\", [{\"type\": \"choropleth\", \"colorscale\": \"Viridis\", \"reversescale\": true, \"locations\": [\"Philippines\", \"Kenya\", \"Peru\", \"Cambodia\", \"El Salvador\", \"Pakistan\", \"Uganda\", \"Tajikistan\", \"Nicaragua\", \"Ecuador\", \"Colombia\", \"Paraguay\", \"Bolivia\", \"Ghana\", \"Vietnam\", \"Nigeria\", \"Mexico\", \"Lebanon\", \"Samoa\", \"Honduras\", \"Sierra Leone\", \"Tanzania\", \"Togo\", \"Rwanda\", \"India\", \"Mali\", \"Senegal\", \"Guatemala\", \"Armenia\", \"Palestine\", \"Liberia\", \"Kyrgyzstan\", \"Indonesia\", \"Azerbaijan\", \"Mongolia\", \"Jordan\", \"Mozambique\", \"Georgia\", \"South Sudan\", \"Zimbabwe\", \"Madagascar\", \"United States\", \"Cameroon\", \"Ukraine\", \"Benin\", \"The Democratic Republic of the Congo\", \"Costa Rica\", \"Haiti\", \"Dominican Republic\", \"Timor-Leste\", \"Yemen\", \"Burkina Faso\", \"Egypt\", \"Albania\", \"Myanmar (Burma)\", \"Iraq\", \"Nepal\", \"Afghanistan\", \"Turkey\", \"Malawi\", \"Kosovo\", \"Lao People's Democratic Republic\", \"Burundi\", \"Solomon Islands\", \"Zambia\", \"Congo\", \"Lesotho\", \"Chile\", \"South Africa\", \"Moldova\", \"Bulgaria\", \"Israel\", \"Thailand\", \"Bosnia and Herzegovina\", \"Brazil\", \"Panama\", \"Cote D'Ivoire\", \"China\", \"Sri Lanka\", \"Suriname\", \"Puerto Rico\", \"Belize\", \"Somalia\", \"Guam\"], \"locationmode\": \"country names\", \"z\": [9.230535079261703, 8.404248432400102, 7.99598047476376, 7.957877358489813, 7.577121930876679, 7.344072850573066, 7.284134806195205, 7.256297239690681, 7.226936018493289, 6.9865664594064265, 6.891625897052253, 6.78332520060396, 6.7357800142423265, 6.637258031284457, 6.6240652277998935, 6.5722825426940075, 6.568077911411976, 6.511745329644728, 6.3561076606958915, 6.289715570908998, 6.272877006546167, 6.269096283706261, 6.257667587882639, 6.246106765481563, 6.244166900663736, 6.126869184114185, 6.035481432524756, 6.023447592961033, 6.021023349349527, 6.003887067106539, 5.988961416889864, 5.950642552587727, 5.929589143389895, 5.771441123130016, 5.75890177387728, 5.755742213586912, 5.4510384535657, 5.429345628954441, 5.303304908059076, 5.204006687076795, 5.19295685089021, 5.176149732573829, 5.1647859739235145, 5.135798437050262, 5.111987788356544, 5.062595033026967, 5.049856007249537, 5.043425116919247, 4.962844630259907, 4.795790545596741, 4.787491742782046, 4.709530201312334, 4.574710978503383, 4.564348191467836, 4.564348191467836, 4.553876891600541, 4.442651256490317, 4.31748811353631, 4.23410650459726, 4.23410650459726, 4.204692619390966, 4.110873864173311, 3.912023005428146, 3.5553480614894135, 3.4965075614664802, 3.4011973816621555, 3.367295829986474, 3.367295829986474, 3.1780538303479458, 2.995732273553991, 2.5649493574615367, 2.5649493574615367, 2.5649493574615367, 2.4849066497880004, 2.4849066497880004, 2.1972245773362196, 2.1972245773362196, 2.0794415416798357, 2.0794415416798357, 2.0794415416798357, 1.6094379124341003, 1.3862943611198906, 1.3862943611198906, 0.0], \"text\": [10204, 4466, 2969, 2858, 1953, 1547, 1457, 1417, 1376, 1082, 984, 883, 842, 763, 753, 715, 712, 673, 576, 539, 530, 528, 522, 516, 515, 458, 418, 413, 412, 405, 399, 384, 376, 321, 317, 316, 233, 228, 201, 182, 180, 177, 175, 170, 166, 158, 156, 155, 143, 121, 120, 111, 97, 96, 96, 95, 85, 75, 69, 69, 67, 61, 50, 35, 33, 30, 29, 29, 24, 20, 13, 13, 13, 12, 12, 9, 9, 8, 8, 8, 5, 4, 4, 1], \"colorbar\": {\"title\": \"Scaled Frequency\"}}], {\"title\": \"Kiva Loan Frequency Data\", \"geo\": {\"showframe\": false, \"projection\": {\"type\": \"Mercator\"}}}, {\"showLink\": true, \"linkText\": \"Export to plot.ly\"})});</script>"
      ],
      "text/vnd.plotly.v1+html": [
       "<div id=\"4568a58f-5384-49d8-b061-8b6375268ac1\" style=\"height: 525px; width: 100%;\" class=\"plotly-graph-div\"></div><script type=\"text/javascript\">require([\"plotly\"], function(Plotly) { window.PLOTLYENV=window.PLOTLYENV || {};window.PLOTLYENV.BASE_URL=\"https://plot.ly\";Plotly.newPlot(\"4568a58f-5384-49d8-b061-8b6375268ac1\", [{\"type\": \"choropleth\", \"colorscale\": \"Viridis\", \"reversescale\": true, \"locations\": [\"Philippines\", \"Kenya\", \"Peru\", \"Cambodia\", \"El Salvador\", \"Pakistan\", \"Uganda\", \"Tajikistan\", \"Nicaragua\", \"Ecuador\", \"Colombia\", \"Paraguay\", \"Bolivia\", \"Ghana\", \"Vietnam\", \"Nigeria\", \"Mexico\", \"Lebanon\", \"Samoa\", \"Honduras\", \"Sierra Leone\", \"Tanzania\", \"Togo\", \"Rwanda\", \"India\", \"Mali\", \"Senegal\", \"Guatemala\", \"Armenia\", \"Palestine\", \"Liberia\", \"Kyrgyzstan\", \"Indonesia\", \"Azerbaijan\", \"Mongolia\", \"Jordan\", \"Mozambique\", \"Georgia\", \"South Sudan\", \"Zimbabwe\", \"Madagascar\", \"United States\", \"Cameroon\", \"Ukraine\", \"Benin\", \"The Democratic Republic of the Congo\", \"Costa Rica\", \"Haiti\", \"Dominican Republic\", \"Timor-Leste\", \"Yemen\", \"Burkina Faso\", \"Egypt\", \"Albania\", \"Myanmar (Burma)\", \"Iraq\", \"Nepal\", \"Afghanistan\", \"Turkey\", \"Malawi\", \"Kosovo\", \"Lao People's Democratic Republic\", \"Burundi\", \"Solomon Islands\", \"Zambia\", \"Congo\", \"Lesotho\", \"Chile\", \"South Africa\", \"Moldova\", \"Bulgaria\", \"Israel\", \"Thailand\", \"Bosnia and Herzegovina\", \"Brazil\", \"Panama\", \"Cote D'Ivoire\", \"China\", \"Sri Lanka\", \"Suriname\", \"Puerto Rico\", \"Belize\", \"Somalia\", \"Guam\"], \"locationmode\": \"country names\", \"z\": [9.230535079261703, 8.404248432400102, 7.99598047476376, 7.957877358489813, 7.577121930876679, 7.344072850573066, 7.284134806195205, 7.256297239690681, 7.226936018493289, 6.9865664594064265, 6.891625897052253, 6.78332520060396, 6.7357800142423265, 6.637258031284457, 6.6240652277998935, 6.5722825426940075, 6.568077911411976, 6.511745329644728, 6.3561076606958915, 6.289715570908998, 6.272877006546167, 6.269096283706261, 6.257667587882639, 6.246106765481563, 6.244166900663736, 6.126869184114185, 6.035481432524756, 6.023447592961033, 6.021023349349527, 6.003887067106539, 5.988961416889864, 5.950642552587727, 5.929589143389895, 5.771441123130016, 5.75890177387728, 5.755742213586912, 5.4510384535657, 5.429345628954441, 5.303304908059076, 5.204006687076795, 5.19295685089021, 5.176149732573829, 5.1647859739235145, 5.135798437050262, 5.111987788356544, 5.062595033026967, 5.049856007249537, 5.043425116919247, 4.962844630259907, 4.795790545596741, 4.787491742782046, 4.709530201312334, 4.574710978503383, 4.564348191467836, 4.564348191467836, 4.553876891600541, 4.442651256490317, 4.31748811353631, 4.23410650459726, 4.23410650459726, 4.204692619390966, 4.110873864173311, 3.912023005428146, 3.5553480614894135, 3.4965075614664802, 3.4011973816621555, 3.367295829986474, 3.367295829986474, 3.1780538303479458, 2.995732273553991, 2.5649493574615367, 2.5649493574615367, 2.5649493574615367, 2.4849066497880004, 2.4849066497880004, 2.1972245773362196, 2.1972245773362196, 2.0794415416798357, 2.0794415416798357, 2.0794415416798357, 1.6094379124341003, 1.3862943611198906, 1.3862943611198906, 0.0], \"text\": [10204, 4466, 2969, 2858, 1953, 1547, 1457, 1417, 1376, 1082, 984, 883, 842, 763, 753, 715, 712, 673, 576, 539, 530, 528, 522, 516, 515, 458, 418, 413, 412, 405, 399, 384, 376, 321, 317, 316, 233, 228, 201, 182, 180, 177, 175, 170, 166, 158, 156, 155, 143, 121, 120, 111, 97, 96, 96, 95, 85, 75, 69, 69, 67, 61, 50, 35, 33, 30, 29, 29, 24, 20, 13, 13, 13, 12, 12, 9, 9, 8, 8, 8, 5, 4, 4, 1], \"colorbar\": {\"title\": \"Scaled Frequency\"}}], {\"title\": \"Kiva Loan Frequency Data\", \"geo\": {\"showframe\": false, \"projection\": {\"type\": \"Mercator\"}}}, {\"showLink\": true, \"linkText\": \"Export to plot.ly\"})});</script>"
      ]
     },
     "metadata": {},
     "output_type": "display_data"
    }
   ],
   "source": [
    "#create a plotly choropleth map of countries and the number of loans individuals there received \n",
    "counts = kiva2.COUNTRY_NAME.value_counts().reset_index()\n",
    "\n",
    "counts.columns=['COUNTRY_NAME', 'COUNT']\n",
    "\n",
    "counts['log_count'] = np.log(counts['COUNT'])\n",
    "\n",
    "\n",
    "data = dict(type = 'choropleth',\n",
    "             colorscale = 'Viridis',\n",
    "            reversescale = True,\n",
    "             locations = counts['COUNTRY_NAME'],\n",
    "             locationmode = \"country names\",\n",
    "             z = counts['log_count'],\n",
    "             text = counts['COUNT'],\n",
    "             colorbar = {'title':'Scaled Frequency'})\n",
    "\n",
    "layout = dict(title = 'Kiva Loan Frequency Data',\n",
    "             geo = dict(showframe = False,\n",
    "                       projection = {'type':'Mercator'}))\n",
    "\n",
    "choromap = go.Figure(data = [data],layout = layout)\n",
    "iplot(choromap,validate=False)"
   ]
  },
  {
   "cell_type": "code",
   "execution_count": 81,
   "metadata": {},
   "outputs": [],
   "source": [
    "#find the 20 most frequent countries\n",
    "df = kiva2.COUNTRY_NAME.value_counts().nlargest(20).reset_index()\n",
    "df.columns=['COUNTRY_NAME','count']"
   ]
  },
  {
   "cell_type": "code",
   "execution_count": 82,
   "metadata": {},
   "outputs": [
    {
     "data": {
      "text/plain": [
       "<matplotlib.axes._subplots.AxesSubplot at 0x1c27bd1320>"
      ]
     },
     "execution_count": 82,
     "metadata": {},
     "output_type": "execute_result"
    },
    {
     "data": {
      "image/png": "[encoded data removed]",
      "text/plain": [
       "<Figure size 864x864 with 1 Axes>"
      ]
     },
     "metadata": {},
     "output_type": "display_data"
    }
   ],
   "source": [
    "df = kiva2.COUNTRY_NAME.value_counts().nlargest(20)\n",
    "fig, axs = plt.subplots(1,1, figsize=(12,12))\n",
    "f = plt.tight_layout()\n",
    "df.plot.bar()"
   ]
  },
  {
   "cell_type": "code",
   "execution_count": 83,
   "metadata": {},
   "outputs": [
    {
     "data": {
      "text/plain": [
       "<matplotlib.axes._subplots.AxesSubplot at 0x1c27b625c0>"
      ]
     },
     "execution_count": 83,
     "metadata": {},
     "output_type": "execute_result"
    },
    {
     "data": {
      "image/png": "[encoded data removed]",
      "text/plain": [
       "<Figure size 864x864 with 1 Axes>"
      ]
     },
     "metadata": {},
     "output_type": "display_data"
    }
   ],
   "source": [
    "df = kiva2.SECTOR_NAME.value_counts()\n",
    "fig, axs = plt.subplots(1,1, figsize=(12,12))\n",
    "f = plt.tight_layout()\n",
    "df.plot.bar()"
   ]
  },
  {
   "cell_type": "code",
   "execution_count": 84,
   "metadata": {},
   "outputs": [],
   "source": [
    "big_countries = kiva2['COUNTRY_NAME'].value_counts().nlargest(20)\n",
    "big_countries = big_countries.reset_index()\n",
    "big_countries.columns=['COUNTRY_NAME', 'COUNT']\n",
    "list_countries = big_countries['COUNTRY_NAME'].tolist()"
   ]
  },
  {
   "cell_type": "code",
   "execution_count": 85,
   "metadata": {},
   "outputs": [
    {
     "data": {
      "text/plain": [
       "<matplotlib.axes._subplots.AxesSubplot at 0x1c19255828>"
      ]
     },
     "execution_count": 85,
     "metadata": {},
     "output_type": "execute_result"
    },
    {
     "data": {
      "image/png": "[encoded data removed]",
      "text/plain": [
       "<Figure size 1152x1152 with 1 Axes>"
      ]
     },
     "metadata": {},
     "output_type": "display_data"
    }
   ],
   "source": [
    "df_agg = kiva2[kiva2['COUNTRY_NAME'].isin(list_countries)].groupby(['COUNTRY_NAME'])['SECTOR_NAME'].value_counts().unstack()\n",
    "df_agg.plot(kind='bar', stacked=True, figsize=(16,16))"
   ]
  },
  {
   "cell_type": "code",
   "execution_count": 86,
   "metadata": {},
   "outputs": [
    {
     "data": {
      "text/plain": [
       "<seaborn.axisgrid.JointGrid at 0x1c27bf6a90>"
      ]
     },
     "execution_count": 86,
     "metadata": {},
     "output_type": "execute_result"
    },
    {
     "data": {
      "image/png": "[encoded data removed]",
      "text/plain": [
       "<Figure size 432x432 with 3 Axes>"
      ]
     },
     "metadata": {},
     "output_type": "display_data"
    }
   ],
   "source": [
    "#viewing the correlation between days to funding and amount funded\n",
    "sns.jointplot(x='DAYS_TO_FUND', y='FUNDED_AMOUNT', data=kiva2, kind='scatter')"
   ]
  },
  {
   "cell_type": "code",
   "execution_count": 87,
   "metadata": {},
   "outputs": [
    {
     "data": {
      "text/plain": [
       "<seaborn.axisgrid.JointGrid at 0x1c231c6c50>"
      ]
     },
     "execution_count": 87,
     "metadata": {},
     "output_type": "execute_result"
    },
    {
     "data": {
      "image/png": "[encoded data removed]",
      "text/plain": [
       "<Figure size 432x432 with 3 Axes>"
      ]
     },
     "metadata": {},
     "output_type": "display_data"
    }
   ],
   "source": [
    "#Same plot as above but log transformed funded amount, and sqrt transformed days\n",
    "sns.jointplot(x='SQRT_DAYS', y='LOG_FUNDED', data=kiva2, kind='scatter')"
   ]
  },
  {
   "cell_type": "code",
   "execution_count": 88,
   "metadata": {},
   "outputs": [
    {
     "data": {
      "text/plain": [
       "<matplotlib.axes._subplots.AxesSubplot at 0x1c24fe3c50>"
      ]
     },
     "execution_count": 88,
     "metadata": {},
     "output_type": "execute_result"
    },
    {
     "data": {
      "image/png": "[encoded data removed]",
      "text/plain": [
       "<Figure size 432x432 with 1 Axes>"
      ]
     },
     "metadata": {},
     "output_type": "display_data"
    }
   ],
   "source": [
    "#plot of how long it takes projects to get funded\n",
    "fig = plt.subplots(1,1, figsize=(6,6))\n",
    "fig = plt.xlim(0, 60)\n",
    "fig = plt.xlabel(\"Days to get funded\")\n",
    "sns.distplot(kiva2['DAYS_TO_FUND'].dropna(), kde=False, bins = 100)"
   ]
  },
  {
   "cell_type": "code",
   "execution_count": 89,
   "metadata": {},
   "outputs": [
    {
     "data": {
      "text/plain": [
       "<matplotlib.axes._subplots.AxesSubplot at 0x1c26a87400>"
      ]
     },
     "execution_count": 89,
     "metadata": {},
     "output_type": "execute_result"
    },
    {
     "data": {
      "image/png": "[encoded data removed]",
      "text/plain": [
       "<Figure size 432x432 with 1 Axes>"
      ]
     },
     "metadata": {},
     "output_type": "display_data"
    }
   ],
   "source": [
    "#plot of number of loans by size* size is scaled by log\n",
    "fig = plt.subplots(1,1, figsize=(6,6))\n",
    "fig = plt.xlim()\n",
    "fig = plt.xlabel(\"Loan Size\")\n",
    "sns.distplot(kiva2['LOG_FUNDED'].dropna(), kde=False, bins = 50)"
   ]
  },
  {
   "cell_type": "code",
   "execution_count": 149,
   "metadata": {},
   "outputs": [],
   "source": [
    "Kiva_Phil = kiva2[kiva2['COUNTRY_NAME']=='Philippines']"
   ]
  },
  {
   "cell_type": "code",
   "execution_count": 91,
   "metadata": {},
   "outputs": [],
   "source": [
    "#mean_by_gender_phil = Kiva_Phil.drop(['LOAN_ID','LOAN_AMOUNT','LOG_FUNDED','FEMALE_BORROWERS','MALE_BORROWERS'], axis=1).groupby(['PRIMARY_GENDER','YEAR']).mean()"
   ]
  },
  {
   "cell_type": "code",
   "execution_count": 92,
   "metadata": {},
   "outputs": [
    {
     "data": {
      "image/png": "[encoded data removed]",
      "text/plain": [
       "<Figure size 432x288 with 1 Axes>"
      ]
     },
     "metadata": {},
     "output_type": "display_data"
    }
   ],
   "source": [
    "ax = sns.barplot(x='YEAR', y='DAYS_TO_FUND',\n",
    "                 data=Kiva_Phil, \n",
    "                 hue='PRIMARY_GENDER', \n",
    "                 palette='RdBu')\n",
    "ax.set(xlabel = 'Year', ylabel= 'Days to funded', title='Mean days to funded for Philippines loans by gender')\n",
    "plt.savefig('philippines_gender.png', dpi=300)"
   ]
  },
  {
   "cell_type": "code",
   "execution_count": 150,
   "metadata": {},
   "outputs": [],
   "source": [
    "Kiva_Kenya = kiva2[kiva2['COUNTRY_NAME']=='Kenya']"
   ]
  },
  {
   "cell_type": "code",
   "execution_count": 95,
   "metadata": {},
   "outputs": [],
   "source": [
    "#Kiva_Kenya.drop(['LOAN_ID', 'LOAN_AMOUNT', 'LOG_FUNDED'],axis=1).groupby(['YEAR','PRIMARY_GENDER']).mean()"
   ]
  },
  {
   "cell_type": "code",
   "execution_count": 96,
   "metadata": {},
   "outputs": [],
   "source": [
    "#Kiva_Kenya.columns"
   ]
  },
  {
   "cell_type": "code",
   "execution_count": 97,
   "metadata": {},
   "outputs": [],
   "source": [
    "#mean_by_gender = Kiva_Kenya.drop(['LOAN_ID','IMAGE_ID','LENDER_TERM', 'PARTNER_ID','LOAN_AMOUNT','LOG_FUNDED',\n",
    "#                                  'FEMALE_BORROWERS','MALE_BORROWERS', 'PERCENT_FEMALE','PRIMARY_GENDER'],\n",
    "#                                 axis=1).groupby(['PERCENT_FEMALE_GROUPED','YEAR']).mean()"
   ]
  },
  {
   "cell_type": "code",
   "execution_count": 98,
   "metadata": {},
   "outputs": [],
   "source": [
    "#mean_by_gender"
   ]
  },
  {
   "cell_type": "code",
   "execution_count": 99,
   "metadata": {},
   "outputs": [
    {
     "data": {
      "image/png": "[encoded data removed]",
      "text/plain": [
       "<Figure size 432x288 with 1 Axes>"
      ]
     },
     "metadata": {},
     "output_type": "display_data"
    }
   ],
   "source": [
    "ax.legend(['Males', 'Females'])\n",
    "ax = sns.barplot(x='YEAR', y='DAYS_TO_FUND',\n",
    "                 data=Kiva_Kenya, \n",
    "                 hue='PRIMARY_GENDER', \n",
    "                 palette='RdBu_r')\n",
    "ax.set(xlabel = 'Year', ylabel= 'Days to funded', title='Mean days to funded for Kenya loans by gender')\n",
    "#ax.legend(loc='upper left')\n",
    "#ax.get_legend_handles_labels(labels['Males', 'Females'])\n",
    "plt.savefig('kenya_gender.png', dpi=300)"
   ]
  },
  {
   "cell_type": "code",
   "execution_count": 151,
   "metadata": {},
   "outputs": [
    {
     "data": {
      "text/plain": [
       "Index(['LOAN_ID', 'ORIGINAL_LANGUAGE', 'DESCRIPTION_TRANSLATED',\n",
       "       'FUNDED_AMOUNT', 'LOAN_AMOUNT', 'STATUS', 'IMAGE_ID', 'SECTOR_NAME',\n",
       "       'COUNTRY_NAME', 'TOWN_NAME', 'CURRENCY_POLICY', 'PARTNER_ID',\n",
       "       'POSTED_TIME', 'PLANNED_EXPIRATION_TIME', 'DISBURSE_TIME',\n",
       "       'RAISED_TIME', 'LENDER_TERM', 'TAGS', 'BORROWER_GENDERS',\n",
       "       'REPAYMENT_INTERVAL', 'DISTRIBUTION_MODEL', 'TIME_DELTA',\n",
       "       'DAYS_TO_FUND', 'LOG_FUNDED', 'FEMALE_BORROWERS', 'MALE_BORROWERS',\n",
       "       'BORROWERS_TOTAL', 'PRIMARY_GENDER', 'YEAR', 'Month', 'PERCENT_FEMALE',\n",
       "       'PERCENT_FEMALE_GROUPED', 'LEN_DESC', 'SQRT_DAYS', 'FLESCH_SCORE',\n",
       "       'HAS_TAGS'],\n",
       "      dtype='object')"
      ]
     },
     "execution_count": 151,
     "metadata": {},
     "output_type": "execute_result"
    }
   ],
   "source": [
    "Kiva_Kenya.columns"
   ]
  },
  {
   "cell_type": "code",
   "execution_count": 152,
   "metadata": {},
   "outputs": [],
   "source": [
    "Kiva_CV = Kiva_Kenya.drop(['ORIGINAL_LANGUAGE', 'DESCRIPTION_TRANSLATED', 'FUNDED_AMOUNT', 'STATUS', 'IMAGE_ID',\n",
    "                           'TOWN_NAME','CURRENCY_POLICY','PARTNER_ID','POSTED_TIME',\n",
    "                           'PLANNED_EXPIRATION_TIME','DISBURSE_TIME','RAISED_TIME','LENDER_TERM',\n",
    "                           'TAGS','BORROWER_GENDERS','REPAYMENT_INTERVAL','DISTRIBUTION_MODEL',\n",
    "                           'TIME_DELTA','FEMALE_BORROWERS','MALE_BORROWERS','YEAR','PERCENT_FEMALE',\n",
    "                           'PRIMARY_GENDER', 'COUNTRY_NAME'],\n",
    "                          axis=1)"
   ]
  },
  {
   "cell_type": "code",
   "execution_count": 102,
   "metadata": {},
   "outputs": [
    {
     "data": {
      "text/plain": [
       "Index(['LOAN_ID', 'LOAN_AMOUNT', 'SECTOR_NAME', 'DAYS_TO_FUND', 'LOG_FUNDED',\n",
       "       'BORROWERS_TOTAL', 'Month', 'PERCENT_FEMALE_GROUPED', 'LEN_DESC',\n",
       "       'SQRT_DAYS', 'FLESCH_SCORE'],\n",
       "      dtype='object')"
      ]
     },
     "execution_count": 102,
     "metadata": {},
     "output_type": "execute_result"
    }
   ],
   "source": [
    "Kiva_CV.columns"
   ]
  },
  {
   "cell_type": "code",
   "execution_count": 153,
   "metadata": {},
   "outputs": [],
   "source": [
    "Kiva_CV = Kiva_CV[Kiva_CV['FLESCH_SCORE'].isnull() == False]"
   ]
  },
  {
   "cell_type": "markdown",
   "metadata": {},
   "source": [
    "# Stats Go Here"
   ]
  },
  {
   "cell_type": "markdown",
   "metadata": {},
   "source": [
    "## Create X/Y"
   ]
  },
  {
   "cell_type": "code",
   "execution_count": 219,
   "metadata": {},
   "outputs": [],
   "source": [
    "y = Kiva_CV['SQRT_DAYS']\n",
    "X = Kiva_CV.drop(['SQRT_DAYS', 'SECTOR_NAME', 'LOAN_ID', 'DAYS_TO_FUND', 'LOAN_AMOUNT', 'LEN_DESC'],1)"
   ]
  },
  {
   "cell_type": "code",
   "execution_count": 172,
   "metadata": {},
   "outputs": [],
   "source": [
    "Dummy = patsy.dmatrix('SECTOR_NAME', data=Kiva_CV, return_type='dataframe')\n",
    "#Dummy_2 = patsy.dmatrix('COUNTRY_NAME', data=X, return_type='dataframe')"
   ]
  },
  {
   "cell_type": "code",
   "execution_count": 173,
   "metadata": {},
   "outputs": [],
   "source": [
    "X = X.join(Dummy)"
   ]
  },
  {
   "cell_type": "code",
   "execution_count": 177,
   "metadata": {},
   "outputs": [
    {
     "data": {
      "text/plain": [
       "Index(['LOG_FUNDED', 'BORROWERS_TOTAL', 'Month', 'PERCENT_FEMALE_GROUPED',\n",
       "       'FLESCH_SCORE', 'HAS_TAGS', 'Intercept', 'SECTOR_NAME[T.Arts]',\n",
       "       'SECTOR_NAME[T.Clothing]', 'SECTOR_NAME[T.Construction]',\n",
       "       'SECTOR_NAME[T.Education]', 'SECTOR_NAME[T.Entertainment]',\n",
       "       'SECTOR_NAME[T.Food]', 'SECTOR_NAME[T.Health]',\n",
       "       'SECTOR_NAME[T.Housing]', 'SECTOR_NAME[T.Manufacturing]',\n",
       "       'SECTOR_NAME[T.Personal Use]', 'SECTOR_NAME[T.Retail]',\n",
       "       'SECTOR_NAME[T.Services]', 'SECTOR_NAME[T.Transportation]',\n",
       "       'SECTOR_NAME[T.Wholesale]'],\n",
       "      dtype='object')"
      ]
     },
     "execution_count": 177,
     "metadata": {},
     "output_type": "execute_result"
    }
   ],
   "source": [
    "X.columns"
   ]
  },
  {
   "cell_type": "code",
   "execution_count": 209,
   "metadata": {},
   "outputs": [
    {
     "name": "stdout",
     "output_type": "stream",
     "text": [
      "LinearRegression 0.27363019457424187\n",
      "Train Test Split 0.28643585656109605\n",
      "Cross Validation 0.2657486847450496\n"
     ]
    }
   ],
   "source": [
    "model= LinearRegression()\n",
    "model.fit(X,y)\n",
    "print('LinearRegression',model.score(X,y))\n",
    "\n",
    "X_train, X_test, y_train, y_test = train_test_split(X, y)\n",
    "model.fit(X_train,y_train)\n",
    "print('Train Test Split', model.score(X_test,y_test))\n",
    "\n",
    "reg = LinearRegression()\n",
    "scores = cross_val_score(reg, X, y, cv=5, scoring='r2')\n",
    "print('Cross Validation', np.mean(scores))"
   ]
  },
  {
   "cell_type": "markdown",
   "metadata": {},
   "source": [
    "## Polynomial Fit for Linear Regression"
   ]
  },
  {
   "cell_type": "code",
   "execution_count": 239,
   "metadata": {},
   "outputs": [
    {
     "data": {
      "text/plain": [
       "0.35390149984882713"
      ]
     },
     "execution_count": 239,
     "metadata": {},
     "output_type": "execute_result"
    }
   ],
   "source": [
    "degree = 4\n",
    "est = make_pipeline(PolynomialFeatures(degree), LinearRegression())\n",
    "est.fit(X,y)\n",
    "est.score(X,y)"
   ]
  },
  {
   "cell_type": "code",
   "execution_count": 235,
   "metadata": {},
   "outputs": [],
   "source": [
    "# def plot_approximation(est, ax, label=None):\n",
    "#     \"\"\"Plot the approximation of ``est`` on axis ``ax``. \"\"\"\n",
    "#     #ax.plot(x_plot, f(x_plot), label='ground truth', color='green')\n",
    "#     #ax.scatter(X, y, s=100)\n",
    "#     ax.plot(x_plot, est.predict(x_plot[:, np.newaxis]), color='red', label=label)\n",
    "#     ax.set_ylim((-2, 2))\n",
    "#     ax.set_xlim((0, 1))\n",
    "#     ax.set_ylabel('y')\n",
    "#     ax.set_xlabel('x')\n",
    "#     ax.legend(loc='upper right',frameon=True)\n",
    "# x_plot = np.linspace(0, 1, 100)"
   ]
  },
  {
   "cell_type": "code",
   "execution_count": 240,
   "metadata": {},
   "outputs": [],
   "source": [
    "# fig, ax_rows = plt.subplots(5, 2, figsize=(15, 20))\n",
    "# for degree in range(5):\n",
    "#     est = make_pipeline(PolynomialFeatures(degree), LinearRegression())\n",
    "#     est.fit(X, y)\n",
    "#     # This sets the appropriate axis for each degree (KEEP)\n",
    "#     ax_row_left, ax_row_right = ax_rows[degree//2]\n",
    "#     if degree%2 == 0:\n",
    "#         ax = ax_row_left\n",
    "#     else:\n",
    "#         ax = ax_row_right\n",
    "#     plot_approximation(est, ax, label='degree=%d' % degree)"
   ]
  },
  {
   "cell_type": "code",
   "execution_count": 179,
   "metadata": {},
   "outputs": [
    {
     "data": {
      "text/html": [
       "<table class=\"simpletable\">\n",
       "<caption>OLS Regression Results</caption>\n",
       "<tr>\n",
       "  <th>Dep. Variable:</th>        <td>SQRT_DAYS</td>    <th>  R-squared:         </th> <td>   0.274</td> \n",
       "</tr>\n",
       "<tr>\n",
       "  <th>Model:</th>                   <td>OLS</td>       <th>  Adj. R-squared:    </th> <td>   0.270</td> \n",
       "</tr>\n",
       "<tr>\n",
       "  <th>Method:</th>             <td>Least Squares</td>  <th>  F-statistic:       </th> <td>   83.67</td> \n",
       "</tr>\n",
       "<tr>\n",
       "  <th>Date:</th>             <td>Mon, 23 Apr 2018</td> <th>  Prob (F-statistic):</th> <td>1.38e-289</td>\n",
       "</tr>\n",
       "<tr>\n",
       "  <th>Time:</th>                 <td>18:11:11</td>     <th>  Log-Likelihood:    </th> <td> -7907.2</td> \n",
       "</tr>\n",
       "<tr>\n",
       "  <th>No. Observations:</th>      <td>  4463</td>      <th>  AIC:               </th> <td>1.586e+04</td>\n",
       "</tr>\n",
       "<tr>\n",
       "  <th>Df Residuals:</th>          <td>  4442</td>      <th>  BIC:               </th> <td>1.599e+04</td>\n",
       "</tr>\n",
       "<tr>\n",
       "  <th>Df Model:</th>              <td>    20</td>      <th>                     </th>     <td> </td>    \n",
       "</tr>\n",
       "<tr>\n",
       "  <th>Covariance Type:</th>      <td>nonrobust</td>    <th>                     </th>     <td> </td>    \n",
       "</tr>\n",
       "</table>\n",
       "<table class=\"simpletable\">\n",
       "<tr>\n",
       "                <td></td>                   <th>coef</th>     <th>std err</th>      <th>t</th>      <th>P>|t|</th>  <th>[0.025</th>    <th>0.975]</th>  \n",
       "</tr>\n",
       "<tr>\n",
       "  <th>Intercept</th>                     <td>    0.4338</td> <td>    0.349</td> <td>    1.245</td> <td> 0.213</td> <td>   -0.249</td> <td>    1.117</td>\n",
       "</tr>\n",
       "<tr>\n",
       "  <th>SECTOR_NAME[T.Arts]</th>           <td>   -0.3509</td> <td>    0.314</td> <td>   -1.116</td> <td> 0.264</td> <td>   -0.967</td> <td>    0.266</td>\n",
       "</tr>\n",
       "<tr>\n",
       "  <th>SECTOR_NAME[T.Clothing]</th>       <td>    0.5552</td> <td>    0.091</td> <td>    6.082</td> <td> 0.000</td> <td>    0.376</td> <td>    0.734</td>\n",
       "</tr>\n",
       "<tr>\n",
       "  <th>SECTOR_NAME[T.Construction]</th>   <td>   -0.5208</td> <td>    0.184</td> <td>   -2.826</td> <td> 0.005</td> <td>   -0.882</td> <td>   -0.159</td>\n",
       "</tr>\n",
       "<tr>\n",
       "  <th>SECTOR_NAME[T.Education]</th>      <td>   -0.9823</td> <td>    0.165</td> <td>   -5.965</td> <td> 0.000</td> <td>   -1.305</td> <td>   -0.659</td>\n",
       "</tr>\n",
       "<tr>\n",
       "  <th>SECTOR_NAME[T.Entertainment]</th>  <td>   -0.9238</td> <td>    0.640</td> <td>   -1.444</td> <td> 0.149</td> <td>   -2.178</td> <td>    0.331</td>\n",
       "</tr>\n",
       "<tr>\n",
       "  <th>SECTOR_NAME[T.Food]</th>           <td>    0.0321</td> <td>    0.062</td> <td>    0.519</td> <td> 0.603</td> <td>   -0.089</td> <td>    0.153</td>\n",
       "</tr>\n",
       "<tr>\n",
       "  <th>SECTOR_NAME[T.Health]</th>         <td>   -0.8062</td> <td>    0.204</td> <td>   -3.962</td> <td> 0.000</td> <td>   -1.205</td> <td>   -0.407</td>\n",
       "</tr>\n",
       "<tr>\n",
       "  <th>SECTOR_NAME[T.Housing]</th>        <td>   -0.7219</td> <td>    0.245</td> <td>   -2.951</td> <td> 0.003</td> <td>   -1.202</td> <td>   -0.242</td>\n",
       "</tr>\n",
       "<tr>\n",
       "  <th>SECTOR_NAME[T.Manufacturing]</th>  <td>   -1.2148</td> <td>    0.226</td> <td>   -5.378</td> <td> 0.000</td> <td>   -1.658</td> <td>   -0.772</td>\n",
       "</tr>\n",
       "<tr>\n",
       "  <th>SECTOR_NAME[T.Personal Use]</th>   <td>   -0.6797</td> <td>    0.134</td> <td>   -5.058</td> <td> 0.000</td> <td>   -0.943</td> <td>   -0.416</td>\n",
       "</tr>\n",
       "<tr>\n",
       "  <th>SECTOR_NAME[T.Retail]</th>         <td>    0.3549</td> <td>    0.070</td> <td>    5.092</td> <td> 0.000</td> <td>    0.218</td> <td>    0.492</td>\n",
       "</tr>\n",
       "<tr>\n",
       "  <th>SECTOR_NAME[T.Services]</th>       <td>    0.0060</td> <td>    0.083</td> <td>    0.072</td> <td> 0.943</td> <td>   -0.157</td> <td>    0.169</td>\n",
       "</tr>\n",
       "<tr>\n",
       "  <th>SECTOR_NAME[T.Transportation]</th> <td>    0.4027</td> <td>    0.140</td> <td>    2.882</td> <td> 0.004</td> <td>    0.129</td> <td>    0.677</td>\n",
       "</tr>\n",
       "<tr>\n",
       "  <th>SECTOR_NAME[T.Wholesale]</th>      <td>   -1.3293</td> <td>    0.640</td> <td>   -2.076</td> <td> 0.038</td> <td>   -2.585</td> <td>   -0.074</td>\n",
       "</tr>\n",
       "<tr>\n",
       "  <th>LOG_FUNDED</th>                    <td>    0.5010</td> <td>    0.036</td> <td>   13.940</td> <td> 0.000</td> <td>    0.431</td> <td>    0.571</td>\n",
       "</tr>\n",
       "<tr>\n",
       "  <th>BORROWERS_TOTAL</th>               <td>    0.0135</td> <td>    0.009</td> <td>    1.441</td> <td> 0.150</td> <td>   -0.005</td> <td>    0.032</td>\n",
       "</tr>\n",
       "<tr>\n",
       "  <th>Month</th>                         <td>    0.0541</td> <td>    0.006</td> <td>    8.844</td> <td> 0.000</td> <td>    0.042</td> <td>    0.066</td>\n",
       "</tr>\n",
       "<tr>\n",
       "  <th>PERCENT_FEMALE_GROUPED</th>        <td>   -0.3614</td> <td>    0.053</td> <td>   -6.832</td> <td> 0.000</td> <td>   -0.465</td> <td>   -0.258</td>\n",
       "</tr>\n",
       "<tr>\n",
       "  <th>HAS_TAGS</th>                      <td>    1.2668</td> <td>    0.045</td> <td>   28.052</td> <td> 0.000</td> <td>    1.178</td> <td>    1.355</td>\n",
       "</tr>\n",
       "<tr>\n",
       "  <th>FLESCH_SCORE</th>                  <td>   -0.0098</td> <td>    0.003</td> <td>   -3.084</td> <td> 0.002</td> <td>   -0.016</td> <td>   -0.004</td>\n",
       "</tr>\n",
       "</table>\n",
       "<table class=\"simpletable\">\n",
       "<tr>\n",
       "  <th>Omnibus:</th>       <td>163.026</td> <th>  Durbin-Watson:     </th> <td>   1.927</td>\n",
       "</tr>\n",
       "<tr>\n",
       "  <th>Prob(Omnibus):</th> <td> 0.000</td>  <th>  Jarque-Bera (JB):  </th> <td> 181.860</td>\n",
       "</tr>\n",
       "<tr>\n",
       "  <th>Skew:</th>          <td> 0.469</td>  <th>  Prob(JB):          </th> <td>3.23e-40</td>\n",
       "</tr>\n",
       "<tr>\n",
       "  <th>Kurtosis:</th>      <td> 3.313</td>  <th>  Cond. No.          </th> <td>2.40e+03</td>\n",
       "</tr>\n",
       "</table>"
      ],
      "text/plain": [
       "<class 'statsmodels.iolib.summary.Summary'>\n",
       "\"\"\"\n",
       "                            OLS Regression Results                            \n",
       "==============================================================================\n",
       "Dep. Variable:              SQRT_DAYS   R-squared:                       0.274\n",
       "Model:                            OLS   Adj. R-squared:                  0.270\n",
       "Method:                 Least Squares   F-statistic:                     83.67\n",
       "Date:                Mon, 23 Apr 2018   Prob (F-statistic):          1.38e-289\n",
       "Time:                        18:11:11   Log-Likelihood:                -7907.2\n",
       "No. Observations:                4463   AIC:                         1.586e+04\n",
       "Df Residuals:                    4442   BIC:                         1.599e+04\n",
       "Df Model:                          20                                         \n",
       "Covariance Type:            nonrobust                                         \n",
       "=================================================================================================\n",
       "                                    coef    std err          t      P>|t|      [0.025      0.975]\n",
       "-------------------------------------------------------------------------------------------------\n",
       "Intercept                         0.4338      0.349      1.245      0.213      -0.249       1.117\n",
       "SECTOR_NAME[T.Arts]              -0.3509      0.314     -1.116      0.264      -0.967       0.266\n",
       "SECTOR_NAME[T.Clothing]           0.5552      0.091      6.082      0.000       0.376       0.734\n",
       "SECTOR_NAME[T.Construction]      -0.5208      0.184     -2.826      0.005      -0.882      -0.159\n",
       "SECTOR_NAME[T.Education]         -0.9823      0.165     -5.965      0.000      -1.305      -0.659\n",
       "SECTOR_NAME[T.Entertainment]     -0.9238      0.640     -1.444      0.149      -2.178       0.331\n",
       "SECTOR_NAME[T.Food]               0.0321      0.062      0.519      0.603      -0.089       0.153\n",
       "SECTOR_NAME[T.Health]            -0.8062      0.204     -3.962      0.000      -1.205      -0.407\n",
       "SECTOR_NAME[T.Housing]           -0.7219      0.245     -2.951      0.003      -1.202      -0.242\n",
       "SECTOR_NAME[T.Manufacturing]     -1.2148      0.226     -5.378      0.000      -1.658      -0.772\n",
       "SECTOR_NAME[T.Personal Use]      -0.6797      0.134     -5.058      0.000      -0.943      -0.416\n",
       "SECTOR_NAME[T.Retail]             0.3549      0.070      5.092      0.000       0.218       0.492\n",
       "SECTOR_NAME[T.Services]           0.0060      0.083      0.072      0.943      -0.157       0.169\n",
       "SECTOR_NAME[T.Transportation]     0.4027      0.140      2.882      0.004       0.129       0.677\n",
       "SECTOR_NAME[T.Wholesale]         -1.3293      0.640     -2.076      0.038      -2.585      -0.074\n",
       "LOG_FUNDED                        0.5010      0.036     13.940      0.000       0.431       0.571\n",
       "BORROWERS_TOTAL                   0.0135      0.009      1.441      0.150      -0.005       0.032\n",
       "Month                             0.0541      0.006      8.844      0.000       0.042       0.066\n",
       "PERCENT_FEMALE_GROUPED           -0.3614      0.053     -6.832      0.000      -0.465      -0.258\n",
       "HAS_TAGS                          1.2668      0.045     28.052      0.000       1.178       1.355\n",
       "FLESCH_SCORE                     -0.0098      0.003     -3.084      0.002      -0.016      -0.004\n",
       "==============================================================================\n",
       "Omnibus:                      163.026   Durbin-Watson:                   1.927\n",
       "Prob(Omnibus):                  0.000   Jarque-Bera (JB):              181.860\n",
       "Skew:                           0.469   Prob(JB):                     3.23e-40\n",
       "Kurtosis:                       3.313   Cond. No.                     2.40e+03\n",
       "==============================================================================\n",
       "\n",
       "Warnings:\n",
       "[1] Standard Errors assume that the covariance matrix of the errors is correctly specified.\n",
       "[2] The condition number is large, 2.4e+03. This might indicate that there are\n",
       "strong multicollinearity or other numerical problems.\n",
       "\"\"\""
      ]
     },
     "execution_count": 179,
     "metadata": {},
     "output_type": "execute_result"
    }
   ],
   "source": [
    "lm1 = smf.ols('SQRT_DAYS ~ LOG_FUNDED + SECTOR_NAME + BORROWERS_TOTAL + Month + PERCENT_FEMALE_GROUPED + HAS_TAGS + FLESCH_SCORE', data=Kiva_Kenya)\n",
    "fit1 = lm1.fit()\n",
    "fit1.summary()"
   ]
  },
  {
   "cell_type": "code",
   "execution_count": 159,
   "metadata": {},
   "outputs": [
    {
     "data": {
      "text/html": [
       "<table class=\"simpletable\">\n",
       "<caption>OLS Regression Results</caption>\n",
       "<tr>\n",
       "  <th>Dep. Variable:</th>        <td>SQRT_DAYS</td>    <th>  R-squared:         </th> <td>   0.276</td> \n",
       "</tr>\n",
       "<tr>\n",
       "  <th>Model:</th>                   <td>OLS</td>       <th>  Adj. R-squared:    </th> <td>   0.273</td> \n",
       "</tr>\n",
       "<tr>\n",
       "  <th>Method:</th>             <td>Least Squares</td>  <th>  F-statistic:       </th> <td>   80.63</td> \n",
       "</tr>\n",
       "<tr>\n",
       "  <th>Date:</th>             <td>Mon, 23 Apr 2018</td> <th>  Prob (F-statistic):</th> <td>9.00e-292</td>\n",
       "</tr>\n",
       "<tr>\n",
       "  <th>Time:</th>                 <td>18:06:53</td>     <th>  Log-Likelihood:    </th> <td> -7899.8</td> \n",
       "</tr>\n",
       "<tr>\n",
       "  <th>No. Observations:</th>      <td>  4463</td>      <th>  AIC:               </th> <td>1.584e+04</td>\n",
       "</tr>\n",
       "<tr>\n",
       "  <th>Df Residuals:</th>          <td>  4441</td>      <th>  BIC:               </th> <td>1.598e+04</td>\n",
       "</tr>\n",
       "<tr>\n",
       "  <th>Df Model:</th>              <td>    21</td>      <th>                     </th>     <td> </td>    \n",
       "</tr>\n",
       "<tr>\n",
       "  <th>Covariance Type:</th>      <td>nonrobust</td>    <th>                     </th>     <td> </td>    \n",
       "</tr>\n",
       "</table>\n",
       "<table class=\"simpletable\">\n",
       "<tr>\n",
       "                <td></td>                   <th>coef</th>     <th>std err</th>      <th>t</th>      <th>P>|t|</th>  <th>[0.025</th>    <th>0.975]</th>  \n",
       "</tr>\n",
       "<tr>\n",
       "  <th>LOG_FUNDED</th>                    <td>    0.4835</td> <td>    0.036</td> <td>   13.366</td> <td> 0.000</td> <td>    0.413</td> <td>    0.554</td>\n",
       "</tr>\n",
       "<tr>\n",
       "  <th>BORROWERS_TOTAL</th>               <td>    0.0110</td> <td>    0.009</td> <td>    1.174</td> <td> 0.241</td> <td>   -0.007</td> <td>    0.029</td>\n",
       "</tr>\n",
       "<tr>\n",
       "  <th>Month</th>                         <td>    0.0536</td> <td>    0.006</td> <td>    8.763</td> <td> 0.000</td> <td>    0.042</td> <td>    0.066</td>\n",
       "</tr>\n",
       "<tr>\n",
       "  <th>PERCENT_FEMALE_GROUPED</th>        <td>   -0.3715</td> <td>    0.053</td> <td>   -7.025</td> <td> 0.000</td> <td>   -0.475</td> <td>   -0.268</td>\n",
       "</tr>\n",
       "<tr>\n",
       "  <th>LEN_DESC</th>                      <td>    0.0017</td> <td>    0.000</td> <td>    3.834</td> <td> 0.000</td> <td>    0.001</td> <td>    0.003</td>\n",
       "</tr>\n",
       "<tr>\n",
       "  <th>FLESCH_SCORE</th>                  <td>   -0.0058</td> <td>    0.003</td> <td>   -1.743</td> <td> 0.081</td> <td>   -0.012</td> <td>    0.001</td>\n",
       "</tr>\n",
       "<tr>\n",
       "  <th>HAS_TAGS</th>                      <td>    1.2567</td> <td>    0.045</td> <td>   27.822</td> <td> 0.000</td> <td>    1.168</td> <td>    1.345</td>\n",
       "</tr>\n",
       "<tr>\n",
       "  <th>Intercept</th>                     <td>   -0.0140</td> <td>    0.367</td> <td>   -0.038</td> <td> 0.970</td> <td>   -0.734</td> <td>    0.706</td>\n",
       "</tr>\n",
       "<tr>\n",
       "  <th>SECTOR_NAME[T.Arts]</th>           <td>   -0.2703</td> <td>    0.315</td> <td>   -0.859</td> <td> 0.390</td> <td>   -0.887</td> <td>    0.347</td>\n",
       "</tr>\n",
       "<tr>\n",
       "  <th>SECTOR_NAME[T.Clothing]</th>       <td>    0.6219</td> <td>    0.093</td> <td>    6.702</td> <td> 0.000</td> <td>    0.440</td> <td>    0.804</td>\n",
       "</tr>\n",
       "<tr>\n",
       "  <th>SECTOR_NAME[T.Construction]</th>   <td>   -0.4646</td> <td>    0.185</td> <td>   -2.517</td> <td> 0.012</td> <td>   -0.827</td> <td>   -0.103</td>\n",
       "</tr>\n",
       "<tr>\n",
       "  <th>SECTOR_NAME[T.Education]</th>      <td>   -0.9322</td> <td>    0.165</td> <td>   -5.651</td> <td> 0.000</td> <td>   -1.256</td> <td>   -0.609</td>\n",
       "</tr>\n",
       "<tr>\n",
       "  <th>SECTOR_NAME[T.Entertainment]</th>  <td>   -0.8155</td> <td>    0.640</td> <td>   -1.275</td> <td> 0.202</td> <td>   -2.069</td> <td>    0.438</td>\n",
       "</tr>\n",
       "<tr>\n",
       "  <th>SECTOR_NAME[T.Food]</th>           <td>    0.0888</td> <td>    0.063</td> <td>    1.401</td> <td> 0.161</td> <td>   -0.035</td> <td>    0.213</td>\n",
       "</tr>\n",
       "<tr>\n",
       "  <th>SECTOR_NAME[T.Health]</th>         <td>   -0.8486</td> <td>    0.203</td> <td>   -4.170</td> <td> 0.000</td> <td>   -1.248</td> <td>   -0.450</td>\n",
       "</tr>\n",
       "<tr>\n",
       "  <th>SECTOR_NAME[T.Housing]</th>        <td>   -0.6376</td> <td>    0.245</td> <td>   -2.600</td> <td> 0.009</td> <td>   -1.118</td> <td>   -0.157</td>\n",
       "</tr>\n",
       "<tr>\n",
       "  <th>SECTOR_NAME[T.Manufacturing]</th>  <td>   -1.1479</td> <td>    0.226</td> <td>   -5.074</td> <td> 0.000</td> <td>   -1.591</td> <td>   -0.704</td>\n",
       "</tr>\n",
       "<tr>\n",
       "  <th>SECTOR_NAME[T.Personal Use]</th>   <td>   -0.6491</td> <td>    0.134</td> <td>   -4.829</td> <td> 0.000</td> <td>   -0.913</td> <td>   -0.386</td>\n",
       "</tr>\n",
       "<tr>\n",
       "  <th>SECTOR_NAME[T.Retail]</th>         <td>    0.4175</td> <td>    0.071</td> <td>    5.842</td> <td> 0.000</td> <td>    0.277</td> <td>    0.558</td>\n",
       "</tr>\n",
       "<tr>\n",
       "  <th>SECTOR_NAME[T.Services]</th>       <td>    0.0774</td> <td>    0.085</td> <td>    0.910</td> <td> 0.363</td> <td>   -0.089</td> <td>    0.244</td>\n",
       "</tr>\n",
       "<tr>\n",
       "  <th>SECTOR_NAME[T.Transportation]</th> <td>    0.4803</td> <td>    0.141</td> <td>    3.407</td> <td> 0.001</td> <td>    0.204</td> <td>    0.757</td>\n",
       "</tr>\n",
       "<tr>\n",
       "  <th>SECTOR_NAME[T.Wholesale]</th>      <td>   -1.2474</td> <td>    0.640</td> <td>   -1.950</td> <td> 0.051</td> <td>   -2.502</td> <td>    0.007</td>\n",
       "</tr>\n",
       "</table>\n",
       "<table class=\"simpletable\">\n",
       "<tr>\n",
       "  <th>Omnibus:</th>       <td>164.709</td> <th>  Durbin-Watson:     </th> <td>   1.930</td>\n",
       "</tr>\n",
       "<tr>\n",
       "  <th>Prob(Omnibus):</th> <td> 0.000</td>  <th>  Jarque-Bera (JB):  </th> <td> 184.712</td>\n",
       "</tr>\n",
       "<tr>\n",
       "  <th>Skew:</th>          <td> 0.467</td>  <th>  Prob(JB):          </th> <td>7.77e-41</td>\n",
       "</tr>\n",
       "<tr>\n",
       "  <th>Kurtosis:</th>      <td> 3.345</td>  <th>  Cond. No.          </th> <td>4.75e+03</td>\n",
       "</tr>\n",
       "</table>"
      ],
      "text/plain": [
       "<class 'statsmodels.iolib.summary.Summary'>\n",
       "\"\"\"\n",
       "                            OLS Regression Results                            \n",
       "==============================================================================\n",
       "Dep. Variable:              SQRT_DAYS   R-squared:                       0.276\n",
       "Model:                            OLS   Adj. R-squared:                  0.273\n",
       "Method:                 Least Squares   F-statistic:                     80.63\n",
       "Date:                Mon, 23 Apr 2018   Prob (F-statistic):          9.00e-292\n",
       "Time:                        18:06:53   Log-Likelihood:                -7899.8\n",
       "No. Observations:                4463   AIC:                         1.584e+04\n",
       "Df Residuals:                    4441   BIC:                         1.598e+04\n",
       "Df Model:                          21                                         \n",
       "Covariance Type:            nonrobust                                         \n",
       "=================================================================================================\n",
       "                                    coef    std err          t      P>|t|      [0.025      0.975]\n",
       "-------------------------------------------------------------------------------------------------\n",
       "LOG_FUNDED                        0.4835      0.036     13.366      0.000       0.413       0.554\n",
       "BORROWERS_TOTAL                   0.0110      0.009      1.174      0.241      -0.007       0.029\n",
       "Month                             0.0536      0.006      8.763      0.000       0.042       0.066\n",
       "PERCENT_FEMALE_GROUPED           -0.3715      0.053     -7.025      0.000      -0.475      -0.268\n",
       "LEN_DESC                          0.0017      0.000      3.834      0.000       0.001       0.003\n",
       "FLESCH_SCORE                     -0.0058      0.003     -1.743      0.081      -0.012       0.001\n",
       "HAS_TAGS                          1.2567      0.045     27.822      0.000       1.168       1.345\n",
       "Intercept                        -0.0140      0.367     -0.038      0.970      -0.734       0.706\n",
       "SECTOR_NAME[T.Arts]              -0.2703      0.315     -0.859      0.390      -0.887       0.347\n",
       "SECTOR_NAME[T.Clothing]           0.6219      0.093      6.702      0.000       0.440       0.804\n",
       "SECTOR_NAME[T.Construction]      -0.4646      0.185     -2.517      0.012      -0.827      -0.103\n",
       "SECTOR_NAME[T.Education]         -0.9322      0.165     -5.651      0.000      -1.256      -0.609\n",
       "SECTOR_NAME[T.Entertainment]     -0.8155      0.640     -1.275      0.202      -2.069       0.438\n",
       "SECTOR_NAME[T.Food]               0.0888      0.063      1.401      0.161      -0.035       0.213\n",
       "SECTOR_NAME[T.Health]            -0.8486      0.203     -4.170      0.000      -1.248      -0.450\n",
       "SECTOR_NAME[T.Housing]           -0.6376      0.245     -2.600      0.009      -1.118      -0.157\n",
       "SECTOR_NAME[T.Manufacturing]     -1.1479      0.226     -5.074      0.000      -1.591      -0.704\n",
       "SECTOR_NAME[T.Personal Use]      -0.6491      0.134     -4.829      0.000      -0.913      -0.386\n",
       "SECTOR_NAME[T.Retail]             0.4175      0.071      5.842      0.000       0.277       0.558\n",
       "SECTOR_NAME[T.Services]           0.0774      0.085      0.910      0.363      -0.089       0.244\n",
       "SECTOR_NAME[T.Transportation]     0.4803      0.141      3.407      0.001       0.204       0.757\n",
       "SECTOR_NAME[T.Wholesale]         -1.2474      0.640     -1.950      0.051      -2.502       0.007\n",
       "==============================================================================\n",
       "Omnibus:                      164.709   Durbin-Watson:                   1.930\n",
       "Prob(Omnibus):                  0.000   Jarque-Bera (JB):              184.712\n",
       "Skew:                           0.467   Prob(JB):                     7.77e-41\n",
       "Kurtosis:                       3.345   Cond. No.                     4.75e+03\n",
       "==============================================================================\n",
       "\n",
       "Warnings:\n",
       "[1] Standard Errors assume that the covariance matrix of the errors is correctly specified.\n",
       "[2] The condition number is large, 4.75e+03. This might indicate that there are\n",
       "strong multicollinearity or other numerical problems.\n",
       "\"\"\""
      ]
     },
     "execution_count": 159,
     "metadata": {},
     "output_type": "execute_result"
    }
   ],
   "source": [
    "X_1=sm.add_constant(X)\n",
    "lm1 = sm.OLS(y,X_1)\n",
    "fit1 = lm1.fit()\n",
    "fit1.summary()"
   ]
  },
  {
   "cell_type": "code",
   "execution_count": 160,
   "metadata": {},
   "outputs": [],
   "source": [
    "lr=LinearRegression()"
   ]
  },
  {
   "cell_type": "code",
   "execution_count": 161,
   "metadata": {},
   "outputs": [
    {
     "data": {
      "text/plain": [
       "0.2843042377532342"
      ]
     },
     "execution_count": 161,
     "metadata": {},
     "output_type": "execute_result"
    }
   ],
   "source": [
    "lr.fit(X_train, y_train)\n",
    "lr.score(X_test, y_test)"
   ]
  },
  {
   "cell_type": "markdown",
   "metadata": {},
   "source": [
    "## Ridge CV"
   ]
  },
  {
   "cell_type": "code",
   "execution_count": 193,
   "metadata": {},
   "outputs": [],
   "source": [
    "from sklearn.linear_model import Ridge"
   ]
  },
  {
   "cell_type": "code",
   "execution_count": 162,
   "metadata": {},
   "outputs": [],
   "source": [
    "rcv = RidgeCV(cv=10)"
   ]
  },
  {
   "cell_type": "code",
   "execution_count": 163,
   "metadata": {},
   "outputs": [],
   "source": [
    "X_train, X_test, y_train, y_test = train_test_split(X, y, test_size=0.3)"
   ]
  },
  {
   "cell_type": "code",
   "execution_count": 164,
   "metadata": {},
   "outputs": [
    {
     "data": {
      "text/plain": [
       "0.29324503439768634"
      ]
     },
     "execution_count": 164,
     "metadata": {},
     "output_type": "execute_result"
    }
   ],
   "source": [
    "rcv.fit(X,y)\n",
    "rcv.score(X_test, y_test)"
   ]
  },
  {
   "cell_type": "code",
   "execution_count": 208,
   "metadata": {},
   "outputs": [
    {
     "data": {
      "image/png": "[encoded data removed]",
      "text/plain": [
       "<Figure size 432x288 with 1 Axes>"
      ]
     },
     "metadata": {},
     "output_type": "display_data"
    }
   ],
   "source": [
    "ridge = Ridge(alpha=1e-15)\n",
    "ridge_coef = ridge.fit(X, y).coef_\n",
    "_ = plt.plot(range(len(X.columns)), ridge_coef)\n",
    "_ = plt.xticks(range(len(X.columns)), X.columns, rotation=90)\n",
    "_ = plt.ylabel('Coefficients')\n",
    "plt.tight_layout()\n",
    "plt.show()"
   ]
  },
  {
   "cell_type": "markdown",
   "metadata": {},
   "source": [
    "## Lasso CV"
   ]
  },
  {
   "cell_type": "code",
   "execution_count": 183,
   "metadata": {},
   "outputs": [],
   "source": [
    "from sklearn.linear_model import Lasso"
   ]
  },
  {
   "cell_type": "code",
   "execution_count": 191,
   "metadata": {},
   "outputs": [
    {
     "data": {
      "image/png": "[encoded data removed]",
      "text/plain": [
       "<Figure size 432x288 with 1 Axes>"
      ]
     },
     "metadata": {},
     "output_type": "display_data"
    }
   ],
   "source": [
    "lasso = Lasso(alpha=1e-2)\n",
    "lasso_coef = lasso.fit(X, y).coef_\n",
    "_ = plt.plot(range(len(X.columns)), lasso_coef)\n",
    "_ = plt.xticks(range(len(X.columns)), X.columns, rotation=45)\n",
    "_ = plt.ylabel('Coefficients')\n",
    "plt.show()"
   ]
  },
  {
   "cell_type": "code",
   "execution_count": 165,
   "metadata": {},
   "outputs": [],
   "source": [
    "lcv = LassoCV(cv=10)"
   ]
  },
  {
   "cell_type": "code",
   "execution_count": 166,
   "metadata": {},
   "outputs": [
    {
     "data": {
      "text/plain": [
       "0.2623639884731722"
      ]
     },
     "execution_count": 166,
     "metadata": {},
     "output_type": "execute_result"
    }
   ],
   "source": [
    "lcv.fit(X,y)\n",
    "lcv.score(X_test,y_test)"
   ]
  },
  {
   "cell_type": "code",
   "execution_count": null,
   "metadata": {},
   "outputs": [],
   "source": []
  },
  {
   "cell_type": "code",
   "execution_count": null,
   "metadata": {},
   "outputs": [],
   "source": []
  },
  {
   "cell_type": "code",
   "execution_count": null,
   "metadata": {},
   "outputs": [],
   "source": []
  },
  {
   "cell_type": "code",
   "execution_count": null,
   "metadata": {},
   "outputs": [],
   "source": []
  },
  {
   "cell_type": "code",
   "execution_count": null,
   "metadata": {},
   "outputs": [],
   "source": []
  },
  {
   "cell_type": "code",
   "execution_count": null,
   "metadata": {},
   "outputs": [],
   "source": []
  },
  {
   "cell_type": "code",
   "execution_count": 127,
   "metadata": {},
   "outputs": [
    {
     "data": {
      "text/plain": [
       "<matplotlib.axes._subplots.AxesSubplot at 0x1c26cf35c0>"
      ]
     },
     "execution_count": 127,
     "metadata": {},
     "output_type": "execute_result"
    },
    {
     "data": {
      "image/png": "[encoded data removed]",
      "text/plain": [
       "<Figure size 432x288 with 1 Axes>"
      ]
     },
     "metadata": {},
     "output_type": "display_data"
    }
   ],
   "source": [
    "sns.residplot(x='LOG_FUNDED', y='SQRT_DAYS', data=Kiva_Kenya)"
   ]
  },
  {
   "cell_type": "code",
   "execution_count": 128,
   "metadata": {},
   "outputs": [
    {
     "data": {
      "text/plain": [
       "<matplotlib.axes._subplots.AxesSubplot at 0x1c26eb79b0>"
      ]
     },
     "execution_count": 128,
     "metadata": {},
     "output_type": "execute_result"
    },
    {
     "data": {
      "image/png": "[encoded data removed]",
      "text/plain": [
       "<Figure size 432x288 with 1 Axes>"
      ]
     },
     "metadata": {},
     "output_type": "display_data"
    }
   ],
   "source": [
    "sns.residplot(x='LOG_FUNDED', y='DAYS_TO_FUND', data=Kiva_Kenya)"
   ]
  },
  {
   "cell_type": "code",
   "execution_count": 129,
   "metadata": {},
   "outputs": [
    {
     "data": {
      "text/plain": [
       "Text(0.5,0,'Normalized residuals')"
      ]
     },
     "execution_count": 129,
     "metadata": {},
     "output_type": "execute_result"
    },
    {
     "data": {
      "image/png": "[encoded data removed]",
      "text/plain": [
       "<Figure size 432x288 with 1 Axes>"
      ]
     },
     "metadata": {},
     "output_type": "display_data"
    }
   ],
   "source": [
    "plt.plot(fit1.resid)\n",
    "plt.ylabel('Count')\n",
    "plt.xlabel('Normalized residuals')"
   ]
  },
  {
   "cell_type": "code",
   "execution_count": 131,
   "metadata": {},
   "outputs": [
    {
     "ename": "PatsyError",
     "evalue": "Error evaluating factor: NameError: name 'DAYS' is not defined\n    DAYS ~ LOAN_AMOUNT + BORROWERS_TOTAL + PRIMARY_GENDER + COUNTRY_NAME + SECTOR_NAME\n    ^^^^",
     "output_type": "error",
     "traceback": [
      "\u001b[0;31m---------------------------------------------------------------------------\u001b[0m",
      "\u001b[0;31mNameError\u001b[0m                                 Traceback (most recent call last)",
      "\u001b[0;32m/anaconda3/lib/python3.6/site-packages/patsy/compat.py\u001b[0m in \u001b[0;36mcall_and_wrap_exc\u001b[0;34m(msg, origin, f, *args, **kwargs)\u001b[0m\n\u001b[1;32m     35\u001b[0m     \u001b[0;32mtry\u001b[0m\u001b[0;34m:\u001b[0m\u001b[0;34m\u001b[0m\u001b[0m\n\u001b[0;32m---> 36\u001b[0;31m         \u001b[0;32mreturn\u001b[0m \u001b[0mf\u001b[0m\u001b[0;34m(\u001b[0m\u001b[0;34m*\u001b[0m\u001b[0margs\u001b[0m\u001b[0;34m,\u001b[0m \u001b[0;34m**\u001b[0m\u001b[0mkwargs\u001b[0m\u001b[0;34m)\u001b[0m\u001b[0;34m\u001b[0m\u001b[0m\n\u001b[0m\u001b[1;32m     37\u001b[0m     \u001b[0;32mexcept\u001b[0m \u001b[0mException\u001b[0m \u001b[0;32mas\u001b[0m \u001b[0me\u001b[0m\u001b[0;34m:\u001b[0m\u001b[0;34m\u001b[0m\u001b[0m\n",
      "\u001b[0;32m/anaconda3/lib/python3.6/site-packages/patsy/eval.py\u001b[0m in \u001b[0;36meval\u001b[0;34m(self, expr, source_name, inner_namespace)\u001b[0m\n\u001b[1;32m    165\u001b[0m         return eval(code, {}, VarLookupDict([inner_namespace]\n\u001b[0;32m--> 166\u001b[0;31m                                             + self._namespaces))\n\u001b[0m\u001b[1;32m    167\u001b[0m \u001b[0;34m\u001b[0m\u001b[0m\n",
      "\u001b[0;32m<string>\u001b[0m in \u001b[0;36m<module>\u001b[0;34m()\u001b[0m\n",
      "\u001b[0;31mNameError\u001b[0m: name 'DAYS' is not defined",
      "\nThe above exception was the direct cause of the following exception:\n",
      "\u001b[0;31mPatsyError\u001b[0m                                Traceback (most recent call last)",
      "\u001b[0;32m<ipython-input-131-84de6264fb38>\u001b[0m in \u001b[0;36m<module>\u001b[0;34m()\u001b[0m\n\u001b[0;32m----> 1\u001b[0;31m \u001b[0mlm1\u001b[0m \u001b[0;34m=\u001b[0m \u001b[0msmf\u001b[0m\u001b[0;34m.\u001b[0m\u001b[0mols\u001b[0m\u001b[0;34m(\u001b[0m\u001b[0;34m'DAYS ~ LOAN_AMOUNT + BORROWERS_TOTAL + PRIMARY_GENDER + COUNTRY_NAME + SECTOR_NAME'\u001b[0m\u001b[0;34m,\u001b[0m \u001b[0mdata\u001b[0m\u001b[0;34m=\u001b[0m\u001b[0mkiva\u001b[0m\u001b[0;34m)\u001b[0m\u001b[0;34m\u001b[0m\u001b[0m\n\u001b[0m\u001b[1;32m      2\u001b[0m \u001b[0mfit1\u001b[0m \u001b[0;34m=\u001b[0m \u001b[0mlm1\u001b[0m\u001b[0;34m.\u001b[0m\u001b[0mfit\u001b[0m\u001b[0;34m(\u001b[0m\u001b[0;34m)\u001b[0m\u001b[0;34m\u001b[0m\u001b[0m\n\u001b[1;32m      3\u001b[0m \u001b[0mfit1\u001b[0m\u001b[0;34m.\u001b[0m\u001b[0msummary\u001b[0m\u001b[0;34m(\u001b[0m\u001b[0;34m)\u001b[0m\u001b[0;34m\u001b[0m\u001b[0m\n",
      "\u001b[0;32m/anaconda3/lib/python3.6/site-packages/statsmodels/base/model.py\u001b[0m in \u001b[0;36mfrom_formula\u001b[0;34m(cls, formula, data, subset, drop_cols, *args, **kwargs)\u001b[0m\n\u001b[1;32m    153\u001b[0m \u001b[0;34m\u001b[0m\u001b[0m\n\u001b[1;32m    154\u001b[0m         tmp = handle_formula_data(data, None, formula, depth=eval_env,\n\u001b[0;32m--> 155\u001b[0;31m                                   missing=missing)\n\u001b[0m\u001b[1;32m    156\u001b[0m         \u001b[0;34m(\u001b[0m\u001b[0;34m(\u001b[0m\u001b[0mendog\u001b[0m\u001b[0;34m,\u001b[0m \u001b[0mexog\u001b[0m\u001b[0;34m)\u001b[0m\u001b[0;34m,\u001b[0m \u001b[0mmissing_idx\u001b[0m\u001b[0;34m,\u001b[0m \u001b[0mdesign_info\u001b[0m\u001b[0;34m)\u001b[0m \u001b[0;34m=\u001b[0m \u001b[0mtmp\u001b[0m\u001b[0;34m\u001b[0m\u001b[0m\n\u001b[1;32m    157\u001b[0m \u001b[0;34m\u001b[0m\u001b[0m\n",
      "\u001b[0;32m/anaconda3/lib/python3.6/site-packages/statsmodels/formula/formulatools.py\u001b[0m in \u001b[0;36mhandle_formula_data\u001b[0;34m(Y, X, formula, depth, missing)\u001b[0m\n\u001b[1;32m     63\u001b[0m         \u001b[0;32mif\u001b[0m \u001b[0mdata_util\u001b[0m\u001b[0;34m.\u001b[0m\u001b[0m_is_using_pandas\u001b[0m\u001b[0;34m(\u001b[0m\u001b[0mY\u001b[0m\u001b[0;34m,\u001b[0m \u001b[0;32mNone\u001b[0m\u001b[0;34m)\u001b[0m\u001b[0;34m:\u001b[0m\u001b[0;34m\u001b[0m\u001b[0m\n\u001b[1;32m     64\u001b[0m             result = dmatrices(formula, Y, depth, return_type='dataframe',\n\u001b[0;32m---> 65\u001b[0;31m                                NA_action=na_action)\n\u001b[0m\u001b[1;32m     66\u001b[0m         \u001b[0;32melse\u001b[0m\u001b[0;34m:\u001b[0m\u001b[0;34m\u001b[0m\u001b[0m\n\u001b[1;32m     67\u001b[0m             result = dmatrices(formula, Y, depth, return_type='dataframe',\n",
      "\u001b[0;32m/anaconda3/lib/python3.6/site-packages/patsy/highlevel.py\u001b[0m in \u001b[0;36mdmatrices\u001b[0;34m(formula_like, data, eval_env, NA_action, return_type)\u001b[0m\n\u001b[1;32m    308\u001b[0m     \u001b[0meval_env\u001b[0m \u001b[0;34m=\u001b[0m \u001b[0mEvalEnvironment\u001b[0m\u001b[0;34m.\u001b[0m\u001b[0mcapture\u001b[0m\u001b[0;34m(\u001b[0m\u001b[0meval_env\u001b[0m\u001b[0;34m,\u001b[0m \u001b[0mreference\u001b[0m\u001b[0;34m=\u001b[0m\u001b[0;36m1\u001b[0m\u001b[0;34m)\u001b[0m\u001b[0;34m\u001b[0m\u001b[0m\n\u001b[1;32m    309\u001b[0m     (lhs, rhs) = _do_highlevel_design(formula_like, data, eval_env,\n\u001b[0;32m--> 310\u001b[0;31m                                       NA_action, return_type)\n\u001b[0m\u001b[1;32m    311\u001b[0m     \u001b[0;32mif\u001b[0m \u001b[0mlhs\u001b[0m\u001b[0;34m.\u001b[0m\u001b[0mshape\u001b[0m\u001b[0;34m[\u001b[0m\u001b[0;36m1\u001b[0m\u001b[0;34m]\u001b[0m \u001b[0;34m==\u001b[0m \u001b[0;36m0\u001b[0m\u001b[0;34m:\u001b[0m\u001b[0;34m\u001b[0m\u001b[0m\n\u001b[1;32m    312\u001b[0m         \u001b[0;32mraise\u001b[0m \u001b[0mPatsyError\u001b[0m\u001b[0;34m(\u001b[0m\u001b[0;34m\"model is missing required outcome variables\"\u001b[0m\u001b[0;34m)\u001b[0m\u001b[0;34m\u001b[0m\u001b[0m\n",
      "\u001b[0;32m/anaconda3/lib/python3.6/site-packages/patsy/highlevel.py\u001b[0m in \u001b[0;36m_do_highlevel_design\u001b[0;34m(formula_like, data, eval_env, NA_action, return_type)\u001b[0m\n\u001b[1;32m    163\u001b[0m         \u001b[0;32mreturn\u001b[0m \u001b[0miter\u001b[0m\u001b[0;34m(\u001b[0m\u001b[0;34m[\u001b[0m\u001b[0mdata\u001b[0m\u001b[0;34m]\u001b[0m\u001b[0;34m)\u001b[0m\u001b[0;34m\u001b[0m\u001b[0m\n\u001b[1;32m    164\u001b[0m     design_infos = _try_incr_builders(formula_like, data_iter_maker, eval_env,\n\u001b[0;32m--> 165\u001b[0;31m                                       NA_action)\n\u001b[0m\u001b[1;32m    166\u001b[0m     \u001b[0;32mif\u001b[0m \u001b[0mdesign_infos\u001b[0m \u001b[0;32mis\u001b[0m \u001b[0;32mnot\u001b[0m \u001b[0;32mNone\u001b[0m\u001b[0;34m:\u001b[0m\u001b[0;34m\u001b[0m\u001b[0m\n\u001b[1;32m    167\u001b[0m         return build_design_matrices(design_infos, data,\n",
      "\u001b[0;32m/anaconda3/lib/python3.6/site-packages/patsy/highlevel.py\u001b[0m in \u001b[0;36m_try_incr_builders\u001b[0;34m(formula_like, data_iter_maker, eval_env, NA_action)\u001b[0m\n\u001b[1;32m     68\u001b[0m                                       \u001b[0mdata_iter_maker\u001b[0m\u001b[0;34m,\u001b[0m\u001b[0;34m\u001b[0m\u001b[0m\n\u001b[1;32m     69\u001b[0m                                       \u001b[0meval_env\u001b[0m\u001b[0;34m,\u001b[0m\u001b[0;34m\u001b[0m\u001b[0m\n\u001b[0;32m---> 70\u001b[0;31m                                       NA_action)\n\u001b[0m\u001b[1;32m     71\u001b[0m     \u001b[0;32melse\u001b[0m\u001b[0;34m:\u001b[0m\u001b[0;34m\u001b[0m\u001b[0m\n\u001b[1;32m     72\u001b[0m         \u001b[0;32mreturn\u001b[0m \u001b[0;32mNone\u001b[0m\u001b[0;34m\u001b[0m\u001b[0m\n",
      "\u001b[0;32m/anaconda3/lib/python3.6/site-packages/patsy/build.py\u001b[0m in \u001b[0;36mdesign_matrix_builders\u001b[0;34m(termlists, data_iter_maker, eval_env, NA_action)\u001b[0m\n\u001b[1;32m    694\u001b[0m                                                    \u001b[0mfactor_states\u001b[0m\u001b[0;34m,\u001b[0m\u001b[0;34m\u001b[0m\u001b[0m\n\u001b[1;32m    695\u001b[0m                                                    \u001b[0mdata_iter_maker\u001b[0m\u001b[0;34m,\u001b[0m\u001b[0;34m\u001b[0m\u001b[0m\n\u001b[0;32m--> 696\u001b[0;31m                                                    NA_action)\n\u001b[0m\u001b[1;32m    697\u001b[0m     \u001b[0;31m# Now we need the factor infos, which encapsulate the knowledge of\u001b[0m\u001b[0;34m\u001b[0m\u001b[0;34m\u001b[0m\u001b[0m\n\u001b[1;32m    698\u001b[0m     \u001b[0;31m# how to turn any given factor into a chunk of data:\u001b[0m\u001b[0;34m\u001b[0m\u001b[0;34m\u001b[0m\u001b[0m\n",
      "\u001b[0;32m/anaconda3/lib/python3.6/site-packages/patsy/build.py\u001b[0m in \u001b[0;36m_examine_factor_types\u001b[0;34m(factors, factor_states, data_iter_maker, NA_action)\u001b[0m\n\u001b[1;32m    441\u001b[0m     \u001b[0;32mfor\u001b[0m \u001b[0mdata\u001b[0m \u001b[0;32min\u001b[0m \u001b[0mdata_iter_maker\u001b[0m\u001b[0;34m(\u001b[0m\u001b[0;34m)\u001b[0m\u001b[0;34m:\u001b[0m\u001b[0;34m\u001b[0m\u001b[0m\n\u001b[1;32m    442\u001b[0m         \u001b[0;32mfor\u001b[0m \u001b[0mfactor\u001b[0m \u001b[0;32min\u001b[0m \u001b[0mlist\u001b[0m\u001b[0;34m(\u001b[0m\u001b[0mexamine_needed\u001b[0m\u001b[0;34m)\u001b[0m\u001b[0;34m:\u001b[0m\u001b[0;34m\u001b[0m\u001b[0m\n\u001b[0;32m--> 443\u001b[0;31m             \u001b[0mvalue\u001b[0m \u001b[0;34m=\u001b[0m \u001b[0mfactor\u001b[0m\u001b[0;34m.\u001b[0m\u001b[0meval\u001b[0m\u001b[0;34m(\u001b[0m\u001b[0mfactor_states\u001b[0m\u001b[0;34m[\u001b[0m\u001b[0mfactor\u001b[0m\u001b[0;34m]\u001b[0m\u001b[0;34m,\u001b[0m \u001b[0mdata\u001b[0m\u001b[0;34m)\u001b[0m\u001b[0;34m\u001b[0m\u001b[0m\n\u001b[0m\u001b[1;32m    444\u001b[0m             \u001b[0;32mif\u001b[0m \u001b[0mfactor\u001b[0m \u001b[0;32min\u001b[0m \u001b[0mcat_sniffers\u001b[0m \u001b[0;32mor\u001b[0m \u001b[0mguess_categorical\u001b[0m\u001b[0;34m(\u001b[0m\u001b[0mvalue\u001b[0m\u001b[0;34m)\u001b[0m\u001b[0;34m:\u001b[0m\u001b[0;34m\u001b[0m\u001b[0m\n\u001b[1;32m    445\u001b[0m                 \u001b[0;32mif\u001b[0m \u001b[0mfactor\u001b[0m \u001b[0;32mnot\u001b[0m \u001b[0;32min\u001b[0m \u001b[0mcat_sniffers\u001b[0m\u001b[0;34m:\u001b[0m\u001b[0;34m\u001b[0m\u001b[0m\n",
      "\u001b[0;32m/anaconda3/lib/python3.6/site-packages/patsy/eval.py\u001b[0m in \u001b[0;36meval\u001b[0;34m(self, memorize_state, data)\u001b[0m\n\u001b[1;32m    564\u001b[0m         return self._eval(memorize_state[\"eval_code\"],\n\u001b[1;32m    565\u001b[0m                           \u001b[0mmemorize_state\u001b[0m\u001b[0;34m,\u001b[0m\u001b[0;34m\u001b[0m\u001b[0m\n\u001b[0;32m--> 566\u001b[0;31m                           data)\n\u001b[0m\u001b[1;32m    567\u001b[0m \u001b[0;34m\u001b[0m\u001b[0m\n\u001b[1;32m    568\u001b[0m     \u001b[0m__getstate__\u001b[0m \u001b[0;34m=\u001b[0m \u001b[0mno_pickling\u001b[0m\u001b[0;34m\u001b[0m\u001b[0m\n",
      "\u001b[0;32m/anaconda3/lib/python3.6/site-packages/patsy/eval.py\u001b[0m in \u001b[0;36m_eval\u001b[0;34m(self, code, memorize_state, data)\u001b[0m\n\u001b[1;32m    549\u001b[0m                                  \u001b[0mmemorize_state\u001b[0m\u001b[0;34m[\u001b[0m\u001b[0;34m\"eval_env\"\u001b[0m\u001b[0;34m]\u001b[0m\u001b[0;34m.\u001b[0m\u001b[0meval\u001b[0m\u001b[0;34m,\u001b[0m\u001b[0;34m\u001b[0m\u001b[0m\n\u001b[1;32m    550\u001b[0m                                  \u001b[0mcode\u001b[0m\u001b[0;34m,\u001b[0m\u001b[0;34m\u001b[0m\u001b[0m\n\u001b[0;32m--> 551\u001b[0;31m                                  inner_namespace=inner_namespace)\n\u001b[0m\u001b[1;32m    552\u001b[0m \u001b[0;34m\u001b[0m\u001b[0m\n\u001b[1;32m    553\u001b[0m     \u001b[0;32mdef\u001b[0m \u001b[0mmemorize_chunk\u001b[0m\u001b[0;34m(\u001b[0m\u001b[0mself\u001b[0m\u001b[0;34m,\u001b[0m \u001b[0mstate\u001b[0m\u001b[0;34m,\u001b[0m \u001b[0mwhich_pass\u001b[0m\u001b[0;34m,\u001b[0m \u001b[0mdata\u001b[0m\u001b[0;34m)\u001b[0m\u001b[0;34m:\u001b[0m\u001b[0;34m\u001b[0m\u001b[0m\n",
      "\u001b[0;32m/anaconda3/lib/python3.6/site-packages/patsy/compat.py\u001b[0m in \u001b[0;36mcall_and_wrap_exc\u001b[0;34m(msg, origin, f, *args, **kwargs)\u001b[0m\n\u001b[1;32m     41\u001b[0m                                  origin)\n\u001b[1;32m     42\u001b[0m             \u001b[0;31m# Use 'exec' to hide this syntax from the Python 2 parser:\u001b[0m\u001b[0;34m\u001b[0m\u001b[0;34m\u001b[0m\u001b[0m\n\u001b[0;32m---> 43\u001b[0;31m             \u001b[0mexec\u001b[0m\u001b[0;34m(\u001b[0m\u001b[0;34m\"raise new_exc from e\"\u001b[0m\u001b[0;34m)\u001b[0m\u001b[0;34m\u001b[0m\u001b[0m\n\u001b[0m\u001b[1;32m     44\u001b[0m         \u001b[0;32melse\u001b[0m\u001b[0;34m:\u001b[0m\u001b[0;34m\u001b[0m\u001b[0m\n\u001b[1;32m     45\u001b[0m             \u001b[0;31m# In python 2, we just let the original exception escape -- better\u001b[0m\u001b[0;34m\u001b[0m\u001b[0;34m\u001b[0m\u001b[0m\n",
      "\u001b[0;32m/anaconda3/lib/python3.6/site-packages/patsy/compat.py\u001b[0m in \u001b[0;36m<module>\u001b[0;34m()\u001b[0m\n",
      "\u001b[0;31mPatsyError\u001b[0m: Error evaluating factor: NameError: name 'DAYS' is not defined\n    DAYS ~ LOAN_AMOUNT + BORROWERS_TOTAL + PRIMARY_GENDER + COUNTRY_NAME + SECTOR_NAME\n    ^^^^"
     ]
    }
   ],
   "source": [
    "lm1 = smf.ols('DAYS ~ LOAN_AMOUNT + BORROWERS_TOTAL + PRIMARY_GENDER + COUNTRY_NAME + SECTOR_NAME', data=kiva)\n",
    "fit1 = lm1.fit()\n",
    "fit1.summary()"
   ]
  },
  {
   "cell_type": "code",
   "execution_count": null,
   "metadata": {},
   "outputs": [],
   "source": []
  },
  {
   "cell_type": "code",
   "execution_count": null,
   "metadata": {},
   "outputs": [],
   "source": []
  },
  {
   "cell_type": "markdown",
   "metadata": {},
   "source": [
    "# Old Stuff"
   ]
  },
  {
   "cell_type": "code",
   "execution_count": null,
   "metadata": {},
   "outputs": [],
   "source": [
    "#create a plot of number of lenders vs total funded amount by year\n",
    "#kenya_plot = sns.lmplot(x='DAYS' data=Kiva_Kenya, hue = 'PRIMARY_GENDER', col='YEAR', palette='coolwarm',\n",
    "#          aspect=.6, size=8)\n",
    "#axes = kenya_plot.axes\n",
    "#axes[0,0].set_xlim(0,40)"
   ]
  },
  {
   "cell_type": "code",
   "execution_count": null,
   "metadata": {},
   "outputs": [],
   "source": [
    "#sns.jointplot(x='DAYS', y='PRIMARY_GENDER', data=Kiva_Kenya, kind='reg')"
   ]
  },
  {
   "cell_type": "code",
   "execution_count": null,
   "metadata": {},
   "outputs": [],
   "source": [
    "#create a new dataframe with no null values\n",
    "kiva_no_null = kiva2.dropna()"
   ]
  },
  {
   "cell_type": "code",
   "execution_count": null,
   "metadata": {},
   "outputs": [],
   "source": [
    "kiva_no_null.drop(['LOAN_ID'], axis=1).groupby(['COUNTRY_NAME', 'SECTOR_NAME', 'STATUS','YEAR']).mean()"
   ]
  },
  {
   "cell_type": "code",
   "execution_count": null,
   "metadata": {},
   "outputs": [],
   "source": [
    "#create a plot of number of lenders vs total funded amount by year\n",
    "lm = sns.lmplot(x='NUM_LENDERS_TOTAL', y='DAYS', data=kiva_no_null, col='YEAR', palette='coolwarm',\n",
    "          aspect=.6, size=8)\n",
    "axes = lm.axes\n",
    "axes[0,0].set_xlim(0,300)"
   ]
  },
  {
   "cell_type": "code",
   "execution_count": null,
   "metadata": {},
   "outputs": [],
   "source": [
    "sns.jointplot(x='DAYS', y='DoW', data=kiva2, kind='scatter', alpha=.05)"
   ]
  },
  {
   "cell_type": "code",
   "execution_count": null,
   "metadata": {},
   "outputs": [],
   "source": [
    "sns.jointplot(x='DAYS', y='LOG_FUNDED', data=kiva2, kind='scatter', alpha=.2)"
   ]
  },
  {
   "cell_type": "code",
   "execution_count": null,
   "metadata": {},
   "outputs": [],
   "source": [
    "kiva2.info()"
   ]
  },
  {
   "cell_type": "code",
   "execution_count": null,
   "metadata": {},
   "outputs": [],
   "source": [
    "grouping = kiva2.drop(['LOAN_ID'], axis=1).groupby(['COUNTRY_NAME', 'SECTOR_NAME', 'STATUS','YEAR','NUM_LENDERS_TOTAL']).mean()"
   ]
  },
  {
   "cell_type": "code",
   "execution_count": null,
   "metadata": {},
   "outputs": [],
   "source": [
    "#lr =LinearRegression()\n",
    "\n",
    "#X=kiva3[['FUNDED_AMOUNT','LENDER_TERM', 'NUM_LENDERS_TOTAL', 'FEMALE_BORROWERS', 'BORROWERS_TOTAL', 'DoW',]]\n",
    "#y=kiva3['DAYS']\n",
    "\n",
    "#lr.fit(X,y)"
   ]
  },
  {
   "cell_type": "code",
   "execution_count": null,
   "metadata": {},
   "outputs": [],
   "source": [
    "kiva3=kiva2.dropna()"
   ]
  },
  {
   "cell_type": "code",
   "execution_count": null,
   "metadata": {},
   "outputs": [],
   "source": [
    "lm1 = smf.ols('DAYS ~ FUNDED_AMOUNT + LENDER_TERM + NUM_LENDERS_TOTAL + FEMALE_BORROWERS + BORROWERS_TOTAL + DoW', data=kiva3)\n",
    "fit1 = lm1.fit()\n",
    "fit1.summary()"
   ]
  },
  {
   "cell_type": "code",
   "execution_count": null,
   "metadata": {},
   "outputs": [],
   "source": [
    "fig = plt.figure(figsize=(10,10))\n",
    "fig = sm.graphics.plot_partregress_grid(fit1, fig=fig)\n",
    "#plt.savefig('Partial_Regression.png', dpi=300)"
   ]
  },
  {
   "cell_type": "code",
   "execution_count": null,
   "metadata": {},
   "outputs": [],
   "source": [
    "X = patsy.dmatrix('COUNTRY_NAME',data=kiva3,return_type='dataframe')\n",
    "X.head()"
   ]
  },
  {
   "cell_type": "code",
   "execution_count": null,
   "metadata": {},
   "outputs": [],
   "source": [
    "kiva_country = kiva3.join(X)"
   ]
  },
  {
   "cell_type": "code",
   "execution_count": null,
   "metadata": {
    "scrolled": true
   },
   "outputs": [],
   "source": [
    "kiva3.info()"
   ]
  },
  {
   "cell_type": "code",
   "execution_count": null,
   "metadata": {
    "scrolled": true
   },
   "outputs": [],
   "source": [
    "kiva_country.head"
   ]
  },
  {
   "cell_type": "code",
   "execution_count": null,
   "metadata": {},
   "outputs": [],
   "source": [
    "kiva_country.drop(['LOAN_NAME', 'LOAN_AMOUNT','ACTIVITY_NAME','COUNTRY_NAME','POSTED_TIME','DISBURSE_TIME','DISTRIBUTION_MODEL'], axis=1, inplace=True)"
   ]
  },
  {
   "cell_type": "code",
   "execution_count": null,
   "metadata": {},
   "outputs": [],
   "source": [
    "kiva_country.drop(['NUM_JOURNAL_ENTRIES','NUM_BULK_ENTRIES','BORROWER_GENDERS'], axis=1, inplace=True)"
   ]
  },
  {
   "cell_type": "code",
   "execution_count": null,
   "metadata": {},
   "outputs": [],
   "source": [
    "kiva_country.drop(['RAISED_TIME'], axis=1, inplace=True)"
   ]
  },
  {
   "cell_type": "code",
   "execution_count": null,
   "metadata": {
    "scrolled": true
   },
   "outputs": [],
   "source": [
    "kiva_country.columns"
   ]
  },
  {
   "cell_type": "code",
   "execution_count": null,
   "metadata": {},
   "outputs": [],
   "source": [
    "kiva3.to_pickle('kiva3.pkl')`"
   ]
  },
  {
   "cell_type": "code",
   "execution_count": null,
   "metadata": {},
   "outputs": [],
   "source": [
    "kiva_country.to_pickle('kiva_country.pkl')"
   ]
  },
  {
   "cell_type": "code",
   "execution_count": null,
   "metadata": {},
   "outputs": [],
   "source": [
    "X= kiva_country.drop(['LOAN_ID', 'STATUS', 'SECTOR_NAME','REPAYMENT_INTERVAL','TIME_DELTA', \"YEAR\"],1)\n",
    "y=kiva_country.DAYS"
   ]
  },
  {
   "cell_type": "code",
   "execution_count": null,
   "metadata": {},
   "outputs": [],
   "source": [
    "lr = LinearRegression()\n",
    "# INSTRUCTOR NOTE: Run this multiple times to show the variation\n",
    "# Split the data into training and test sets\n",
    "X_train, X_test, y_train, y_test = train_test_split(X, y, test_size=0.3)\n",
    "# Fit the model against the training data\n",
    "lr.fit(X_train, y_train)\n",
    "# Evaluate the model against the testing data\n",
    "lr.score(X_test, y_test)"
   ]
  },
  {
   "cell_type": "code",
   "execution_count": null,
   "metadata": {},
   "outputs": [],
   "source": [
    "lm2 = sm.OLS(y,X)\n",
    "fit2 = lm2.fit()\n",
    "fit2.summary()"
   ]
  },
  {
   "cell_type": "code",
   "execution_count": null,
   "metadata": {},
   "outputs": [],
   "source": [
    "fit2.resid.plot(style='o', figsize=(10,10), alpha=.05)"
   ]
  },
  {
   "cell_type": "code",
   "execution_count": null,
   "metadata": {},
   "outputs": [],
   "source": [
    "#sns.regplot(x=X, y=y, data=kiva3)"
   ]
  },
  {
   "cell_type": "code",
   "execution_count": null,
   "metadata": {},
   "outputs": [],
   "source": [
    "#fig = plt.figure(figsize=(10,10))\n",
    "#sm.graphics.plot_partregress(y, X, kiva_country['YEAR'])"
   ]
  },
  {
   "cell_type": "code",
   "execution_count": null,
   "metadata": {},
   "outputs": [],
   "source": [
    "kiva3=kiva2.join(X)"
   ]
  },
  {
   "cell_type": "code",
   "execution_count": null,
   "metadata": {},
   "outputs": [],
   "source": [
    "p = lm1.fit().params"
   ]
  },
  {
   "cell_type": "code",
   "execution_count": null,
   "metadata": {},
   "outputs": [],
   "source": [
    "kiva3['YEAR'] = kiva3['POSTED_TIME'].dt.year"
   ]
  },
  {
   "cell_type": "code",
   "execution_count": null,
   "metadata": {},
   "outputs": [],
   "source": [
    "#Below here is exploratory data looking at things that did not receive funding. But not the direction I am going to go in."
   ]
  },
  {
   "cell_type": "code",
   "execution_count": null,
   "metadata": {},
   "outputs": [],
   "source": [
    "#This creates a column with a 1 for a project primarily feature females and 0 for a project primarily featuring males\n",
    "#kiva_no_NA['PRIMARY_GENDER'][(kiva_no_NA['FEMALE_BORROWERS'] - kiva_no_NA['MALE_BORROWERS'] >=0)] = 1\n",
    "#kiva_no_NA['PRIMARY_GENDER'][((kiva_no_NA['FEMALE_BORROWERS'] - kiva_no_NA['MALE_BORROWERS']) <0)] = 0"
   ]
  },
  {
   "cell_type": "code",
   "execution_count": null,
   "metadata": {},
   "outputs": [],
   "source": [
    "#kiva_no_NA['PRIMARY_GENDER'].value_counts()"
   ]
  },
  {
   "cell_type": "code",
   "execution_count": null,
   "metadata": {},
   "outputs": [],
   "source": [
    "#kiva_not_funded = kiva3[(kiva3['DAYS'].isnull())]"
   ]
  },
  {
   "cell_type": "code",
   "execution_count": null,
   "metadata": {},
   "outputs": [],
   "source": [
    "#kiva_not_funded.head()"
   ]
  },
  {
   "cell_type": "code",
   "execution_count": null,
   "metadata": {},
   "outputs": [],
   "source": [
    "#kiva_not_funded['COUNTRY_NAME'].value_counts()"
   ]
  },
  {
   "cell_type": "code",
   "execution_count": null,
   "metadata": {},
   "outputs": [],
   "source": [
    "#kiva_not_funded['YEAR'] = kiva_not_funded['POSTED_TIME'].dt.year"
   ]
  },
  {
   "cell_type": "code",
   "execution_count": null,
   "metadata": {},
   "outputs": [],
   "source": [
    "#kiva_not_funded['YEAR'].value_counts()"
   ]
  },
  {
   "cell_type": "code",
   "execution_count": null,
   "metadata": {},
   "outputs": [],
   "source": [
    "#kiva3['SECTOR_NAME'].value_counts()"
   ]
  },
  {
   "cell_type": "code",
   "execution_count": null,
   "metadata": {},
   "outputs": [],
   "source": [
    "#percent_not_funded = kiva_not_funded['SECTOR_NAME'].value_counts() / kiva3['SECTOR_NAME'].value_counts()"
   ]
  },
  {
   "cell_type": "code",
   "execution_count": null,
   "metadata": {},
   "outputs": [],
   "source": [
    "#maybe something to look into more? is type of project an indicator in funding or not?\n",
    "#percent_not_funded"
   ]
  },
  {
   "cell_type": "code",
   "execution_count": null,
   "metadata": {},
   "outputs": [],
   "source": [
    "#country_not_funded_percent = kiva_not_funded['COUNTRY_NAME'].value_counts() / kiva3['COUNTRY_NAME'].value_counts()"
   ]
  },
  {
   "cell_type": "code",
   "execution_count": null,
   "metadata": {},
   "outputs": [],
   "source": [
    "#Some countries have 100% not funded rate... but I also assume those countries have very few applications (1).\n",
    "#I am sure this is something that needs a weighted measurement for prediction, but not sure how to capture it.\n",
    "#Also this is just a small sample of 50k out of 1.4 million appplications total.\n",
    "#country_not_funded_percent.dropna()"
   ]
  },
  {
   "cell_type": "code",
   "execution_count": null,
   "metadata": {},
   "outputs": [],
   "source": [
    "#year_not_funded_percent = kiva_not_funded['YEAR'].value_counts() / kiva3['YEAR'].value_counts()"
   ]
  },
  {
   "cell_type": "code",
   "execution_count": null,
   "metadata": {},
   "outputs": [],
   "source": [
    "#year_not_funded_percent"
   ]
  },
  {
   "cell_type": "code",
   "execution_count": null,
   "metadata": {},
   "outputs": [],
   "source": []
  },
  {
   "cell_type": "code",
   "execution_count": null,
   "metadata": {},
   "outputs": [],
   "source": [
    "X=kiva2[['FUNDED_AMOUNT']]\n",
    "y=kiva2.DAYS"
   ]
  },
  {
   "cell_type": "code",
   "execution_count": null,
   "metadata": {},
   "outputs": [],
   "source": [
    "X=sm.add_constant(X)"
   ]
  },
  {
   "cell_type": "code",
   "execution_count": null,
   "metadata": {},
   "outputs": [],
   "source": [
    "est = sm.OLS(y,X).fit()"
   ]
  },
  {
   "cell_type": "code",
   "execution_count": null,
   "metadata": {},
   "outputs": [],
   "source": [
    "xx1,xx2 = np.meshgrid(np.linspace(X.FUNDED_AMOUNT.min()))"
   ]
  },
  {
   "cell_type": "code",
   "execution_count": null,
   "metadata": {},
   "outputs": [],
   "source": [
    "lm1 = smf.ols('DAYS ~ FUNDED_AMOUNT + LENDER_TERM + NUM_LENDERS_TOTAL + FEMALE_BORROWERS + BORROWERS_TOTAL + DoW', data=kiva3)\n",
    "fit1 = lm1.fit()\n",
    "fit1.summary()"
   ]
  },
  {
   "cell_type": "markdown",
   "metadata": {},
   "source": [
    "#Outdated, but keeping to have record of initial efforts\n",
    "```Python\n",
    "df_agg = kiva2.groupby(['COUNTRY_NAME'])['SECTOR_NAME'].value_counts().unstack()\n",
    "df_agg.plot(kind='bar', stacked=True, figsize=(16,16))\n",
    "```"
   ]
  },
  {
   "cell_type": "markdown",
   "metadata": {},
   "source": [
    "#Old formatting, preserved for ability to look back at later.\n",
    "```Python\n",
    "\n",
    "kiva.drop(['NUM_BULK_ENTRIES'], axis=1, inplace=True)\n",
    "kiva.drop(['DoW'], axis=1, inplace=True)\n",
    "kiva.drop(['NUM_JOURNAL_ENTRIES'], axis=1, inplace=True)\n",
    "kiva.drop(['ACTIVITY_NAME'], axis=1, inplace=True)\n",
    "kiva.drop(['DISBURSE_TIME'], axis=1, inplace=True)\n",
    "kiva.drop(['LOAN_NAME'], axis=1, inplace=True)\n",
    "kiva.drop(['LENDER_TERM'], axis=1, inplace=True)\n",
    "kiva.drop(['POSTED_TIME', 'RAISED_TIME','TIME_DELTA', 'REPAYMENT_INTERVAL'], axis=1, inplace=True)\n",
    "\n",
    "```"
   ]
  }
 ],
 "metadata": {
  "kernelspec": {
   "display_name": "Python 3",
   "language": "python",
   "name": "python3"
  },
  "language_info": {
   "codemirror_mode": {
    "name": "ipython",
    "version": 3
   },
   "file_extension": ".py",
   "mimetype": "text/x-python",
   "name": "python",
   "nbconvert_exporter": "python",
   "pygments_lexer": "ipython3",
   "version": "3.6.4"
  }
 },
 "nbformat": 4,
 "nbformat_minor": 2
}
